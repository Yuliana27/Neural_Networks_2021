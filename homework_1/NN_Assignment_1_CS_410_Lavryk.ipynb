{
 "cells": [
  {
   "cell_type": "markdown",
   "metadata": {},
   "source": [
    "## Data Manipulation"
   ]
  },
  {
   "cell_type": "code",
   "execution_count": 1,
   "metadata": {},
   "outputs": [
    {
     "name": "stdout",
     "output_type": "stream",
     "text": [
      "2021-09-11 13:49:25.149298\n"
     ]
    }
   ],
   "source": [
    "import datetime\n",
    "print(datetime.datetime.now())\n",
    "import torch"
   ]
  },
  {
   "cell_type": "code",
   "execution_count": 11,
   "metadata": {},
   "outputs": [
    {
     "name": "stdout",
     "output_type": "stream",
     "text": [
      "2021-09-11 14:08:35.438920\n"
     ]
    },
    {
     "data": {
      "text/plain": [
       "tensor([ 0,  1,  2,  3,  4,  5,  6,  7,  8,  9, 10, 11])"
      ]
     },
     "execution_count": 11,
     "metadata": {},
     "output_type": "execute_result"
    }
   ],
   "source": [
    "print(datetime.datetime.now())\n",
    "vec = torch.arange(12)\n",
    "vec"
   ]
  },
  {
   "cell_type": "code",
   "execution_count": 25,
   "metadata": {},
   "outputs": [
    {
     "name": "stdout",
     "output_type": "stream",
     "text": [
      "2021-09-11 14:19:36.692129\n"
     ]
    },
    {
     "data": {
      "text/plain": [
       "torch.Size([12])"
      ]
     },
     "execution_count": 25,
     "metadata": {},
     "output_type": "execute_result"
    }
   ],
   "source": [
    "print(datetime.datetime.now())\n",
    "vec.shape"
   ]
  },
  {
   "cell_type": "code",
   "execution_count": 26,
   "metadata": {},
   "outputs": [
    {
     "name": "stdout",
     "output_type": "stream",
     "text": [
      "2021-09-11 14:19:37.851405\n"
     ]
    },
    {
     "data": {
      "text/plain": [
       "12"
      ]
     },
     "execution_count": 26,
     "metadata": {},
     "output_type": "execute_result"
    }
   ],
   "source": [
    "print(datetime.datetime.now())\n",
    "vec.numel()"
   ]
  },
  {
   "cell_type": "code",
   "execution_count": 27,
   "metadata": {},
   "outputs": [
    {
     "name": "stdout",
     "output_type": "stream",
     "text": [
      "2021-09-11 14:19:41.814927\n"
     ]
    },
    {
     "data": {
      "text/plain": [
       "tensor([[ 0,  1,  2,  3],\n",
       "        [ 4,  5,  6,  7],\n",
       "        [ 8,  9, 10, 11]])"
      ]
     },
     "execution_count": 27,
     "metadata": {},
     "output_type": "execute_result"
    }
   ],
   "source": [
    "print(datetime.datetime.now())\n",
    "Vec = vec.reshape(3,4)\n",
    "Vec"
   ]
  },
  {
   "cell_type": "code",
   "execution_count": 28,
   "metadata": {},
   "outputs": [
    {
     "name": "stdout",
     "output_type": "stream",
     "text": [
      "2021-09-11 14:19:45.955772\n"
     ]
    },
    {
     "data": {
      "text/plain": [
       "tensor([[ 0,  1,  2,  3],\n",
       "        [ 4,  5,  6,  7],\n",
       "        [ 8,  9, 10, 11]])"
      ]
     },
     "execution_count": 28,
     "metadata": {},
     "output_type": "execute_result"
    }
   ],
   "source": [
    "print(datetime.datetime.now())\n",
    "Vec1 = vec.reshape(3,-1)\n",
    "Vec1"
   ]
  },
  {
   "cell_type": "code",
   "execution_count": 29,
   "metadata": {},
   "outputs": [
    {
     "name": "stdout",
     "output_type": "stream",
     "text": [
      "2021-09-11 14:19:51.554821\n"
     ]
    },
    {
     "data": {
      "text/plain": [
       "tensor([[ 0,  1,  2,  3],\n",
       "        [ 4,  5,  6,  7],\n",
       "        [ 8,  9, 10, 11]])"
      ]
     },
     "execution_count": 29,
     "metadata": {},
     "output_type": "execute_result"
    }
   ],
   "source": [
    "print(datetime.datetime.now())\n",
    "Vec2 = vec.reshape(-1,4)\n",
    "Vec2"
   ]
  },
  {
   "cell_type": "code",
   "execution_count": 30,
   "metadata": {},
   "outputs": [
    {
     "name": "stdout",
     "output_type": "stream",
     "text": [
      "2021-09-11 14:19:55.162937\n"
     ]
    },
    {
     "data": {
      "text/plain": [
       "tensor([[[0., 0., 0., 0.],\n",
       "         [0., 0., 0., 0.],\n",
       "         [0., 0., 0., 0.]],\n",
       "\n",
       "        [[0., 0., 0., 0.],\n",
       "         [0., 0., 0., 0.],\n",
       "         [0., 0., 0., 0.]]])"
      ]
     },
     "execution_count": 30,
     "metadata": {},
     "output_type": "execute_result"
    }
   ],
   "source": [
    "print(datetime.datetime.now())\n",
    "torch.zeros((2, 3, 4))"
   ]
  },
  {
   "cell_type": "code",
   "execution_count": 31,
   "metadata": {},
   "outputs": [
    {
     "name": "stdout",
     "output_type": "stream",
     "text": [
      "2021-09-11 14:19:59.749304\n"
     ]
    },
    {
     "data": {
      "text/plain": [
       "tensor([[[1., 1., 1., 1.],\n",
       "         [1., 1., 1., 1.],\n",
       "         [1., 1., 1., 1.]],\n",
       "\n",
       "        [[1., 1., 1., 1.],\n",
       "         [1., 1., 1., 1.],\n",
       "         [1., 1., 1., 1.]]])"
      ]
     },
     "execution_count": 31,
     "metadata": {},
     "output_type": "execute_result"
    }
   ],
   "source": [
    "print(datetime.datetime.now())\n",
    "torch.ones((2,3,4))"
   ]
  },
  {
   "cell_type": "code",
   "execution_count": 32,
   "metadata": {},
   "outputs": [
    {
     "name": "stdout",
     "output_type": "stream",
     "text": [
      "2021-09-11 14:21:02.994282\n"
     ]
    },
    {
     "data": {
      "text/plain": [
       "tensor([[ 0.9174,  0.0311, -0.8595,  0.6614],\n",
       "        [ 0.6980, -0.7575,  0.7518,  0.1588],\n",
       "        [-1.3388, -0.2731, -1.0606, -0.2064]])"
      ]
     },
     "execution_count": 32,
     "metadata": {},
     "output_type": "execute_result"
    }
   ],
   "source": [
    "print(datetime.datetime.now())\n",
    "torch.randn(3, 4)"
   ]
  },
  {
   "cell_type": "code",
   "execution_count": 33,
   "metadata": {},
   "outputs": [
    {
     "name": "stdout",
     "output_type": "stream",
     "text": [
      "2021-09-11 14:23:05.042774\n"
     ]
    },
    {
     "data": {
      "text/plain": [
       "tensor([[2, 1, 4, 3],\n",
       "        [1, 2, 3, 4],\n",
       "        [4, 3, 2, 1]])"
      ]
     },
     "execution_count": 33,
     "metadata": {},
     "output_type": "execute_result"
    }
   ],
   "source": [
    "print(datetime.datetime.now())\n",
    "torch.tensor([[2, 1, 4, 3], [1, 2, 3, 4], [4, 3, 2, 1]])"
   ]
  },
  {
   "cell_type": "code",
   "execution_count": 34,
   "metadata": {},
   "outputs": [
    {
     "name": "stdout",
     "output_type": "stream",
     "text": [
      "2021-09-11 14:29:42.722242\n"
     ]
    },
    {
     "data": {
      "text/plain": [
       "(tensor([ 3.,  4.,  6., 10.]),\n",
       " tensor([-1.,  0.,  2.,  6.]),\n",
       " tensor([ 2.,  4.,  8., 16.]),\n",
       " tensor([0.5000, 1.0000, 2.0000, 4.0000]),\n",
       " tensor([ 1.,  4., 16., 64.]))"
      ]
     },
     "execution_count": 34,
     "metadata": {},
     "output_type": "execute_result"
    }
   ],
   "source": [
    "print(datetime.datetime.now())\n",
    "x = torch.tensor([1.0, 2, 4, 8])\n",
    "y = torch.tensor([2, 2, 2, 2])\n",
    "x + y, x - y, x * y, x / y, x**y"
   ]
  },
  {
   "cell_type": "code",
   "execution_count": 35,
   "metadata": {},
   "outputs": [
    {
     "data": {
      "text/plain": [
       "tensor([2.7183e+00, 7.3891e+00, 5.4598e+01, 2.9810e+03])"
      ]
     },
     "execution_count": 35,
     "metadata": {},
     "output_type": "execute_result"
    }
   ],
   "source": [
    "print(datetime.datetime.now())\n",
    "x = torch.tensor([1.0, 2, 4, 8])\n",
    "y = torch.tensor([2, 2, 2, 2])\n",
    "x + y, x - y, x * y, x / y, x**y\n",
    "torch.exp(x)"
   ]
  },
  {
   "cell_type": "code",
   "execution_count": 42,
   "metadata": {
    "scrolled": true
   },
   "outputs": [
    {
     "name": "stdout",
     "output_type": "stream",
     "text": [
      "2021-09-11 14:41:11.496903\n",
      "tensor([[ 0.,  1.,  2.,  3.],\n",
      "        [ 4.,  5.,  6.,  7.],\n",
      "        [ 8.,  9., 10., 11.]])\n",
      "tensor([[2., 1., 4., 3.],\n",
      "        [1., 2., 3., 4.],\n",
      "        [4., 3., 2., 1.]])\n"
     ]
    },
    {
     "data": {
      "text/plain": [
       "(tensor([[ 0.,  1.,  2.,  3.],\n",
       "         [ 4.,  5.,  6.,  7.],\n",
       "         [ 8.,  9., 10., 11.],\n",
       "         [ 2.,  1.,  4.,  3.],\n",
       "         [ 1.,  2.,  3.,  4.],\n",
       "         [ 4.,  3.,  2.,  1.]]),\n",
       " tensor([[ 0.,  1.,  2.,  3.,  2.,  1.,  4.,  3.],\n",
       "         [ 4.,  5.,  6.,  7.,  1.,  2.,  3.,  4.],\n",
       "         [ 8.,  9., 10., 11.,  4.,  3.,  2.,  1.]]))"
      ]
     },
     "execution_count": 42,
     "metadata": {},
     "output_type": "execute_result"
    }
   ],
   "source": [
    "print(datetime.datetime.now())\n",
    "X = torch.arange(12, dtype=torch.float32).reshape((3, 4))\n",
    "Y = torch.tensor([[2.0, 1, 4, 3], [1, 2, 3, 4], [4, 3, 2, 1]])\n",
    "print(X)\n",
    "print(Y)\n",
    "torch.cat((X, Y), dim=0), torch.cat((X, Y), dim=1)"
   ]
  },
  {
   "cell_type": "code",
   "execution_count": 43,
   "metadata": {
    "scrolled": true
   },
   "outputs": [
    {
     "name": "stdout",
     "output_type": "stream",
     "text": [
      "2021-09-11 14:41:34.684062\n"
     ]
    },
    {
     "data": {
      "text/plain": [
       "tensor([[False,  True, False,  True],\n",
       "        [False, False, False, False],\n",
       "        [False, False, False, False]])"
      ]
     },
     "execution_count": 43,
     "metadata": {},
     "output_type": "execute_result"
    }
   ],
   "source": [
    "print(datetime.datetime.now())\n",
    "X == Y"
   ]
  },
  {
   "cell_type": "code",
   "execution_count": 46,
   "metadata": {},
   "outputs": [
    {
     "name": "stdout",
     "output_type": "stream",
     "text": [
      "2021-09-11 14:46:26.855964\n"
     ]
    },
    {
     "data": {
      "text/plain": [
       "tensor(66.)"
      ]
     },
     "execution_count": 46,
     "metadata": {},
     "output_type": "execute_result"
    }
   ],
   "source": [
    "print(datetime.datetime.now())\n",
    "X.sum()"
   ]
  },
  {
   "cell_type": "code",
   "execution_count": 47,
   "metadata": {},
   "outputs": [
    {
     "name": "stdout",
     "output_type": "stream",
     "text": [
      "2021-09-11 14:46:27.967765\n"
     ]
    },
    {
     "data": {
      "text/plain": [
       "(tensor([[0],\n",
       "         [1],\n",
       "         [2]]),\n",
       " tensor([[0, 1]]))"
      ]
     },
     "execution_count": 47,
     "metadata": {},
     "output_type": "execute_result"
    }
   ],
   "source": [
    "print(datetime.datetime.now())\n",
    "a = torch.arange(3).reshape((3, 1))\n",
    "b = torch.arange(2).reshape((1, 2))\n",
    "a, b"
   ]
  },
  {
   "cell_type": "code",
   "execution_count": 48,
   "metadata": {},
   "outputs": [
    {
     "name": "stdout",
     "output_type": "stream",
     "text": [
      "2021-09-11 14:48:41.986082\n"
     ]
    },
    {
     "data": {
      "text/plain": [
       "tensor([[0, 1],\n",
       "        [1, 2],\n",
       "        [2, 3]])"
      ]
     },
     "execution_count": 48,
     "metadata": {},
     "output_type": "execute_result"
    }
   ],
   "source": [
    "print(datetime.datetime.now())\n",
    "a + b"
   ]
  },
  {
   "cell_type": "code",
   "execution_count": 52,
   "metadata": {},
   "outputs": [
    {
     "name": "stdout",
     "output_type": "stream",
     "text": [
      "2021-09-11 14:52:08.513827\n",
      "tensor([[ 0.,  1.,  2.,  3.],\n",
      "        [ 4.,  5.,  6.,  7.],\n",
      "        [ 8.,  9., 10., 11.]])\n"
     ]
    },
    {
     "data": {
      "text/plain": [
       "(tensor([ 8.,  9., 10., 11.]),\n",
       " tensor([[ 4.,  5.,  6.,  7.],\n",
       "         [ 8.,  9., 10., 11.]]))"
      ]
     },
     "execution_count": 52,
     "metadata": {},
     "output_type": "execute_result"
    }
   ],
   "source": [
    "print(datetime.datetime.now())\n",
    "print(X)\n",
    "X[-1], X[1:3]"
   ]
  },
  {
   "cell_type": "code",
   "execution_count": 53,
   "metadata": {},
   "outputs": [
    {
     "name": "stdout",
     "output_type": "stream",
     "text": [
      "2021-09-11 14:52:37.100537\n"
     ]
    },
    {
     "data": {
      "text/plain": [
       "tensor([[ 0.,  1.,  2.,  3.],\n",
       "        [ 4.,  5.,  9.,  7.],\n",
       "        [ 8.,  9., 10., 11.]])"
      ]
     },
     "execution_count": 53,
     "metadata": {},
     "output_type": "execute_result"
    }
   ],
   "source": [
    "print(datetime.datetime.now())\n",
    "X[1, 2] = 9\n",
    "X"
   ]
  },
  {
   "cell_type": "code",
   "execution_count": 54,
   "metadata": {},
   "outputs": [
    {
     "name": "stdout",
     "output_type": "stream",
     "text": [
      "2021-09-11 14:53:41.934090\n"
     ]
    },
    {
     "data": {
      "text/plain": [
       "tensor([[12., 12., 12., 12.],\n",
       "        [12., 12., 12., 12.],\n",
       "        [ 8.,  9., 10., 11.]])"
      ]
     },
     "execution_count": 54,
     "metadata": {},
     "output_type": "execute_result"
    }
   ],
   "source": [
    "print(datetime.datetime.now())\n",
    "X[0:2, :] = 12\n",
    "X"
   ]
  },
  {
   "cell_type": "code",
   "execution_count": 60,
   "metadata": {},
   "outputs": [
    {
     "name": "stdout",
     "output_type": "stream",
     "text": [
      "2021-09-11 15:02:29.250334\n"
     ]
    },
    {
     "data": {
      "text/plain": [
       "False"
      ]
     },
     "execution_count": 60,
     "metadata": {},
     "output_type": "execute_result"
    }
   ],
   "source": [
    "print(datetime.datetime.now())\n",
    "before = id(Y)\n",
    "Y = Y + X\n",
    "id(Y) == before"
   ]
  },
  {
   "cell_type": "code",
   "execution_count": 57,
   "metadata": {},
   "outputs": [
    {
     "name": "stdout",
     "output_type": "stream",
     "text": [
      "2021-09-11 15:00:56.407547\n",
      "tensor([[0., 0., 0., 0.],\n",
      "        [0., 0., 0., 0.],\n",
      "        [0., 0., 0., 0.]])\n",
      "id(Z): 2122443916288\n",
      "id(Z): 2122443916288\n"
     ]
    }
   ],
   "source": [
    "print(datetime.datetime.now())\n",
    "Z = torch.zeros_like(Y)\n",
    "print('id(Z):', id(Z))\n",
    "Z[:] = X + Y\n",
    "print('id(Z):', id(Z))"
   ]
  },
  {
   "cell_type": "code",
   "execution_count": 58,
   "metadata": {},
   "outputs": [
    {
     "name": "stdout",
     "output_type": "stream",
     "text": [
      "2021-09-11 15:01:44.796283\n"
     ]
    },
    {
     "data": {
      "text/plain": [
       "True"
      ]
     },
     "execution_count": 58,
     "metadata": {},
     "output_type": "execute_result"
    }
   ],
   "source": [
    "print(datetime.datetime.now())\n",
    "before = id(X)\n",
    "X += Y\n",
    "id(X) == before"
   ]
  },
  {
   "cell_type": "code",
   "execution_count": 61,
   "metadata": {
    "scrolled": true
   },
   "outputs": [
    {
     "name": "stdout",
     "output_type": "stream",
     "text": [
      "2021-09-11 15:03:18.167669\n"
     ]
    },
    {
     "data": {
      "text/plain": [
       "(numpy.ndarray, torch.Tensor)"
      ]
     },
     "execution_count": 61,
     "metadata": {},
     "output_type": "execute_result"
    }
   ],
   "source": [
    "print(datetime.datetime.now())\n",
    "A = X.numpy()\n",
    "B = torch.from_numpy(A)\n",
    "type(A), type(B)"
   ]
  },
  {
   "cell_type": "code",
   "execution_count": 62,
   "metadata": {},
   "outputs": [
    {
     "name": "stdout",
     "output_type": "stream",
     "text": [
      "2021-09-11 15:03:56.788664\n"
     ]
    },
    {
     "data": {
      "text/plain": [
       "(tensor([3.5000]), 3.5, 3.5, 3)"
      ]
     },
     "execution_count": 62,
     "metadata": {},
     "output_type": "execute_result"
    }
   ],
   "source": [
    "print(datetime.datetime.now())\n",
    "a = torch.tensor([3.5])\n",
    "a, a.item(), float(a), int(a)"
   ]
  },
  {
   "cell_type": "code",
   "execution_count": 65,
   "metadata": {},
   "outputs": [
    {
     "name": "stdout",
     "output_type": "stream",
     "text": [
      "2021-09-11 15:06:16.695300\n",
      "tensor([1., 2., 4., 8.])\n",
      "tensor([2, 2, 2, 2])\n"
     ]
    },
    {
     "data": {
      "text/plain": [
       "tensor([ True, False, False, False])"
      ]
     },
     "execution_count": 65,
     "metadata": {},
     "output_type": "execute_result"
    }
   ],
   "source": [
    "print(datetime.datetime.now())\n",
    "print(x)\n",
    "print(y)\n",
    "x < y"
   ]
  },
  {
   "cell_type": "code",
   "execution_count": 66,
   "metadata": {},
   "outputs": [
    {
     "name": "stdout",
     "output_type": "stream",
     "text": [
      "2021-09-11 15:06:31.498286\n",
      "tensor([1., 2., 4., 8.])\n",
      "tensor([2, 2, 2, 2])\n"
     ]
    },
    {
     "data": {
      "text/plain": [
       "tensor([False, False,  True,  True])"
      ]
     },
     "execution_count": 66,
     "metadata": {},
     "output_type": "execute_result"
    }
   ],
   "source": [
    "print(datetime.datetime.now())\n",
    "print(x)\n",
    "print(y)\n",
    "x > y"
   ]
  },
  {
   "cell_type": "code",
   "execution_count": 68,
   "metadata": {},
   "outputs": [
    {
     "name": "stdout",
     "output_type": "stream",
     "text": [
      "2021-09-11 15:07:56.773103\n",
      "tensor([[26., 25., 28., 27.],\n",
      "        [25., 26., 27., 28.],\n",
      "        [20., 21., 22., 23.]])\n",
      "tensor([[66., 63., 72., 69.],\n",
      "        [63., 66., 69., 72.],\n",
      "        [52., 54., 56., 58.]])\n"
     ]
    },
    {
     "data": {
      "text/plain": [
       "tensor([[True, True, True, True],\n",
       "        [True, True, True, True],\n",
       "        [True, True, True, True]])"
      ]
     },
     "execution_count": 68,
     "metadata": {},
     "output_type": "execute_result"
    }
   ],
   "source": [
    "print(datetime.datetime.now())\n",
    "print(X)\n",
    "print(Y)\n",
    "X < Y"
   ]
  },
  {
   "cell_type": "code",
   "execution_count": 73,
   "metadata": {},
   "outputs": [
    {
     "name": "stdout",
     "output_type": "stream",
     "text": [
      "2021-09-11 15:10:16.086040\n"
     ]
    },
    {
     "data": {
      "text/plain": [
       "(tensor([[0],\n",
       "         [1],\n",
       "         [2],\n",
       "         [3],\n",
       "         [4]]),\n",
       " tensor([[0, 1, 2]]),\n",
       " tensor([[ 0, -1, -2],\n",
       "         [ 1,  0, -1],\n",
       "         [ 2,  1,  0],\n",
       "         [ 3,  2,  1],\n",
       "         [ 4,  3,  2]]))"
      ]
     },
     "execution_count": 73,
     "metadata": {},
     "output_type": "execute_result"
    }
   ],
   "source": [
    "print(datetime.datetime.now())\n",
    "a = torch.arange(5).reshape((5, 1))\n",
    "b = torch.arange(3).reshape((1, 3))\n",
    "a, b, a-b"
   ]
  },
  {
   "cell_type": "markdown",
   "metadata": {},
   "source": [
    "## Data Preprocessing"
   ]
  },
  {
   "cell_type": "code",
   "execution_count": 77,
   "metadata": {},
   "outputs": [
    {
     "name": "stdout",
     "output_type": "stream",
     "text": [
      "2021-09-11 15:12:55.698820\n"
     ]
    }
   ],
   "source": [
    "print(datetime.datetime.now())\n",
    "import os\n",
    "\n",
    "os.makedirs(os.path.join('..', 'data'), exist_ok=True)\n",
    "data_file = os.path.join('..', 'data', 'house_tiny.csv')\n",
    "with open(data_file, 'w') as f:\n",
    "    f.write('NumRooms,Alley,Price\\n')  # Column names\n",
    "    f.write('NA,Pave,127500\\n')  # Each row represents a data example\n",
    "    f.write('2,NA,106000\\n')\n",
    "    f.write('4,NA,178100\\n')\n",
    "    f.write('NA,NA,140000\\n')"
   ]
  },
  {
   "cell_type": "code",
   "execution_count": 78,
   "metadata": {},
   "outputs": [
    {
     "name": "stdout",
     "output_type": "stream",
     "text": [
      "2021-09-11 15:13:48.316384\n",
      "   NumRooms Alley   Price\n",
      "0       NaN  Pave  127500\n",
      "1       2.0   NaN  106000\n",
      "2       4.0   NaN  178100\n",
      "3       NaN   NaN  140000\n"
     ]
    }
   ],
   "source": [
    "print(datetime.datetime.now())\n",
    "import pandas as pd\n",
    "\n",
    "data = pd.read_csv(data_file)\n",
    "print(data)"
   ]
  },
  {
   "cell_type": "code",
   "execution_count": 79,
   "metadata": {},
   "outputs": [
    {
     "name": "stdout",
     "output_type": "stream",
     "text": [
      "2021-09-11 15:15:32.889716\n",
      "   NumRooms Alley\n",
      "0       3.0  Pave\n",
      "1       2.0   NaN\n",
      "2       4.0   NaN\n",
      "3       3.0   NaN\n"
     ]
    }
   ],
   "source": [
    "print(datetime.datetime.now())\n",
    "inputs, outputs = data.iloc[:, 0:2], data.iloc[:, 2]\n",
    "inputs = inputs.fillna(inputs.mean())\n",
    "print(inputs)"
   ]
  },
  {
   "cell_type": "code",
   "execution_count": 80,
   "metadata": {},
   "outputs": [
    {
     "name": "stdout",
     "output_type": "stream",
     "text": [
      "2021-09-11 15:16:32.004200\n",
      "   NumRooms  Alley_Pave  Alley_nan\n",
      "0       3.0           1          0\n",
      "1       2.0           0          1\n",
      "2       4.0           0          1\n",
      "3       3.0           0          1\n"
     ]
    }
   ],
   "source": [
    "print(datetime.datetime.now())\n",
    "inputs = pd.get_dummies(inputs, dummy_na=True)\n",
    "print(inputs)"
   ]
  },
  {
   "cell_type": "code",
   "execution_count": 82,
   "metadata": {},
   "outputs": [
    {
     "name": "stdout",
     "output_type": "stream",
     "text": [
      "2021-09-11 15:17:26.019525\n"
     ]
    },
    {
     "data": {
      "text/plain": [
       "(tensor([[3., 1., 0.],\n",
       "         [2., 0., 1.],\n",
       "         [4., 0., 1.],\n",
       "         [3., 0., 1.]], dtype=torch.float64),\n",
       " tensor([127500, 106000, 178100, 140000]))"
      ]
     },
     "execution_count": 82,
     "metadata": {},
     "output_type": "execute_result"
    }
   ],
   "source": [
    "print(datetime.datetime.now())\n",
    "X, y = torch.tensor(inputs.values), torch.tensor(outputs.values)\n",
    "X, y"
   ]
  },
  {
   "cell_type": "markdown",
   "metadata": {},
   "source": [
    "## Linear Algebra"
   ]
  },
  {
   "cell_type": "code",
   "execution_count": 83,
   "metadata": {},
   "outputs": [
    {
     "name": "stdout",
     "output_type": "stream",
     "text": [
      "2021-09-11 15:21:04.806078\n"
     ]
    },
    {
     "data": {
      "text/plain": [
       "(tensor(5.), tensor(6.), tensor(1.5000), tensor(9.))"
      ]
     },
     "execution_count": 83,
     "metadata": {},
     "output_type": "execute_result"
    }
   ],
   "source": [
    "print(datetime.datetime.now())\n",
    "import torch\n",
    "\n",
    "x = torch.tensor(3.0)\n",
    "y = torch.tensor(2.0)\n",
    "\n",
    "x + y, x * y, x / y, x**y"
   ]
  },
  {
   "cell_type": "code",
   "execution_count": 84,
   "metadata": {},
   "outputs": [
    {
     "name": "stdout",
     "output_type": "stream",
     "text": [
      "2021-09-11 15:21:58.506724\n"
     ]
    },
    {
     "data": {
      "text/plain": [
       "tensor([0, 1, 2, 3])"
      ]
     },
     "execution_count": 84,
     "metadata": {},
     "output_type": "execute_result"
    }
   ],
   "source": [
    "print(datetime.datetime.now())\n",
    "x = torch.arange(4)\n",
    "x"
   ]
  },
  {
   "cell_type": "code",
   "execution_count": 85,
   "metadata": {},
   "outputs": [
    {
     "name": "stdout",
     "output_type": "stream",
     "text": [
      "2021-09-11 15:22:50.570702\n"
     ]
    },
    {
     "data": {
      "text/plain": [
       "tensor(3)"
      ]
     },
     "execution_count": 85,
     "metadata": {},
     "output_type": "execute_result"
    }
   ],
   "source": [
    "print(datetime.datetime.now())\n",
    "x[3]"
   ]
  },
  {
   "cell_type": "code",
   "execution_count": 86,
   "metadata": {},
   "outputs": [
    {
     "name": "stdout",
     "output_type": "stream",
     "text": [
      "2021-09-11 15:30:43.777230\n"
     ]
    },
    {
     "data": {
      "text/plain": [
       "4"
      ]
     },
     "execution_count": 86,
     "metadata": {},
     "output_type": "execute_result"
    }
   ],
   "source": [
    "print(datetime.datetime.now())\n",
    "len(x)"
   ]
  },
  {
   "cell_type": "code",
   "execution_count": 87,
   "metadata": {},
   "outputs": [
    {
     "name": "stdout",
     "output_type": "stream",
     "text": [
      "2021-09-11 15:30:56.615239\n"
     ]
    },
    {
     "data": {
      "text/plain": [
       "torch.Size([4])"
      ]
     },
     "execution_count": 87,
     "metadata": {},
     "output_type": "execute_result"
    }
   ],
   "source": [
    "print(datetime.datetime.now())\n",
    "x.shape"
   ]
  },
  {
   "cell_type": "code",
   "execution_count": 88,
   "metadata": {},
   "outputs": [
    {
     "name": "stdout",
     "output_type": "stream",
     "text": [
      "2021-09-11 15:31:10.725722\n"
     ]
    },
    {
     "data": {
      "text/plain": [
       "tensor([[ 0,  1,  2,  3],\n",
       "        [ 4,  5,  6,  7],\n",
       "        [ 8,  9, 10, 11],\n",
       "        [12, 13, 14, 15],\n",
       "        [16, 17, 18, 19]])"
      ]
     },
     "execution_count": 88,
     "metadata": {},
     "output_type": "execute_result"
    }
   ],
   "source": [
    "print(datetime.datetime.now())\n",
    "A = torch.arange(20).reshape(5, 4)\n",
    "A"
   ]
  },
  {
   "cell_type": "code",
   "execution_count": 89,
   "metadata": {},
   "outputs": [
    {
     "name": "stdout",
     "output_type": "stream",
     "text": [
      "2021-09-11 15:31:25.184957\n"
     ]
    },
    {
     "data": {
      "text/plain": [
       "tensor([[ 0,  4,  8, 12, 16],\n",
       "        [ 1,  5,  9, 13, 17],\n",
       "        [ 2,  6, 10, 14, 18],\n",
       "        [ 3,  7, 11, 15, 19]])"
      ]
     },
     "execution_count": 89,
     "metadata": {},
     "output_type": "execute_result"
    }
   ],
   "source": [
    "print(datetime.datetime.now())\n",
    "A.T"
   ]
  },
  {
   "cell_type": "code",
   "execution_count": 90,
   "metadata": {},
   "outputs": [
    {
     "name": "stdout",
     "output_type": "stream",
     "text": [
      "2021-09-11 15:31:41.678200\n"
     ]
    },
    {
     "data": {
      "text/plain": [
       "tensor([[1, 2, 3],\n",
       "        [2, 0, 4],\n",
       "        [3, 4, 5]])"
      ]
     },
     "execution_count": 90,
     "metadata": {},
     "output_type": "execute_result"
    }
   ],
   "source": [
    "print(datetime.datetime.now())\n",
    "B = torch.tensor([[1, 2, 3], [2, 0, 4], [3, 4, 5]])\n",
    "B"
   ]
  },
  {
   "cell_type": "code",
   "execution_count": 91,
   "metadata": {},
   "outputs": [
    {
     "name": "stdout",
     "output_type": "stream",
     "text": [
      "2021-09-11 15:32:11.141271\n"
     ]
    },
    {
     "data": {
      "text/plain": [
       "tensor([[True, True, True],\n",
       "        [True, True, True],\n",
       "        [True, True, True]])"
      ]
     },
     "execution_count": 91,
     "metadata": {},
     "output_type": "execute_result"
    }
   ],
   "source": [
    "print(datetime.datetime.now())\n",
    "B == B.T"
   ]
  },
  {
   "cell_type": "code",
   "execution_count": 92,
   "metadata": {},
   "outputs": [
    {
     "name": "stdout",
     "output_type": "stream",
     "text": [
      "2021-09-11 15:32:25.711926\n"
     ]
    },
    {
     "data": {
      "text/plain": [
       "tensor([[[ 0,  1,  2,  3],\n",
       "         [ 4,  5,  6,  7],\n",
       "         [ 8,  9, 10, 11]],\n",
       "\n",
       "        [[12, 13, 14, 15],\n",
       "         [16, 17, 18, 19],\n",
       "         [20, 21, 22, 23]]])"
      ]
     },
     "execution_count": 92,
     "metadata": {},
     "output_type": "execute_result"
    }
   ],
   "source": [
    "print(datetime.datetime.now())\n",
    "X = torch.arange(24).reshape(2, 3, 4)\n",
    "X"
   ]
  },
  {
   "cell_type": "code",
   "execution_count": 93,
   "metadata": {},
   "outputs": [
    {
     "name": "stdout",
     "output_type": "stream",
     "text": [
      "2021-09-11 15:33:16.650239\n"
     ]
    },
    {
     "data": {
      "text/plain": [
       "(tensor([[ 0.,  1.,  2.,  3.],\n",
       "         [ 4.,  5.,  6.,  7.],\n",
       "         [ 8.,  9., 10., 11.],\n",
       "         [12., 13., 14., 15.],\n",
       "         [16., 17., 18., 19.]]),\n",
       " tensor([[ 0.,  2.,  4.,  6.],\n",
       "         [ 8., 10., 12., 14.],\n",
       "         [16., 18., 20., 22.],\n",
       "         [24., 26., 28., 30.],\n",
       "         [32., 34., 36., 38.]]))"
      ]
     },
     "execution_count": 93,
     "metadata": {},
     "output_type": "execute_result"
    }
   ],
   "source": [
    "print(datetime.datetime.now())\n",
    "A = torch.arange(20, dtype=torch.float32).reshape(5, 4)\n",
    "B = A.clone()  # Assign a copy of `A` to `B` by allocating new memory\n",
    "A, A + B"
   ]
  },
  {
   "cell_type": "code",
   "execution_count": 94,
   "metadata": {},
   "outputs": [
    {
     "name": "stdout",
     "output_type": "stream",
     "text": [
      "2021-09-11 15:33:43.316937\n"
     ]
    },
    {
     "data": {
      "text/plain": [
       "(tensor([[ 0.,  1.,  2.,  3.],\n",
       "         [ 4.,  5.,  6.,  7.],\n",
       "         [ 8.,  9., 10., 11.],\n",
       "         [12., 13., 14., 15.],\n",
       "         [16., 17., 18., 19.]]),\n",
       " tensor([[ 0.,  2.,  4.,  6.],\n",
       "         [ 8., 10., 12., 14.],\n",
       "         [16., 18., 20., 22.],\n",
       "         [24., 26., 28., 30.],\n",
       "         [32., 34., 36., 38.]]))"
      ]
     },
     "execution_count": 94,
     "metadata": {},
     "output_type": "execute_result"
    }
   ],
   "source": [
    "print(datetime.datetime.now())\n",
    "A = torch.arange(20, dtype=torch.float32).reshape(5, 4)\n",
    "B = A.clone()  # Assign a copy of `A` to `B` by allocating new memory\n",
    "A, A + B"
   ]
  },
  {
   "cell_type": "code",
   "execution_count": 95,
   "metadata": {},
   "outputs": [
    {
     "name": "stdout",
     "output_type": "stream",
     "text": [
      "2021-09-11 15:34:00.294094\n"
     ]
    },
    {
     "data": {
      "text/plain": [
       "tensor([[  0.,   1.,   4.,   9.],\n",
       "        [ 16.,  25.,  36.,  49.],\n",
       "        [ 64.,  81., 100., 121.],\n",
       "        [144., 169., 196., 225.],\n",
       "        [256., 289., 324., 361.]])"
      ]
     },
     "execution_count": 95,
     "metadata": {},
     "output_type": "execute_result"
    }
   ],
   "source": [
    "print(datetime.datetime.now())\n",
    "A * B"
   ]
  },
  {
   "cell_type": "code",
   "execution_count": 97,
   "metadata": {},
   "outputs": [
    {
     "name": "stdout",
     "output_type": "stream",
     "text": [
      "2021-09-11 15:34:35.216218\n",
      "tensor([[[ 0,  1,  2,  3],\n",
      "         [ 4,  5,  6,  7],\n",
      "         [ 8,  9, 10, 11]],\n",
      "\n",
      "        [[12, 13, 14, 15],\n",
      "         [16, 17, 18, 19],\n",
      "         [20, 21, 22, 23]]])\n"
     ]
    },
    {
     "data": {
      "text/plain": [
       "(tensor([[[ 2,  3,  4,  5],\n",
       "          [ 6,  7,  8,  9],\n",
       "          [10, 11, 12, 13]],\n",
       " \n",
       "         [[14, 15, 16, 17],\n",
       "          [18, 19, 20, 21],\n",
       "          [22, 23, 24, 25]]]),\n",
       " torch.Size([2, 3, 4]))"
      ]
     },
     "execution_count": 97,
     "metadata": {},
     "output_type": "execute_result"
    }
   ],
   "source": [
    "print(datetime.datetime.now())\n",
    "a = 2\n",
    "print(X)\n",
    "X = torch.arange(24).reshape(2, 3, 4)\n",
    "a + X, (a * X).shape"
   ]
  },
  {
   "cell_type": "code",
   "execution_count": 98,
   "metadata": {},
   "outputs": [
    {
     "name": "stdout",
     "output_type": "stream",
     "text": [
      "2021-09-11 15:35:22.898674\n"
     ]
    },
    {
     "data": {
      "text/plain": [
       "(tensor([0., 1., 2., 3.]), tensor(6.))"
      ]
     },
     "execution_count": 98,
     "metadata": {},
     "output_type": "execute_result"
    }
   ],
   "source": [
    "print(datetime.datetime.now())\n",
    "x = torch.arange(4, dtype=torch.float32)\n",
    "x, x.sum()"
   ]
  },
  {
   "cell_type": "code",
   "execution_count": 99,
   "metadata": {},
   "outputs": [
    {
     "name": "stdout",
     "output_type": "stream",
     "text": [
      "2021-09-11 15:35:38.253137\n"
     ]
    },
    {
     "data": {
      "text/plain": [
       "(torch.Size([5, 4]), tensor(190.))"
      ]
     },
     "execution_count": 99,
     "metadata": {},
     "output_type": "execute_result"
    }
   ],
   "source": [
    "print(datetime.datetime.now())\n",
    "A.shape, A.sum()"
   ]
  },
  {
   "cell_type": "code",
   "execution_count": 101,
   "metadata": {},
   "outputs": [
    {
     "name": "stdout",
     "output_type": "stream",
     "text": [
      "2021-09-11 15:36:56.350589\n",
      "tensor([[ 0.,  1.,  2.,  3.],\n",
      "        [ 4.,  5.,  6.,  7.],\n",
      "        [ 8.,  9., 10., 11.],\n",
      "        [12., 13., 14., 15.],\n",
      "        [16., 17., 18., 19.]])\n"
     ]
    },
    {
     "data": {
      "text/plain": [
       "(tensor([40., 45., 50., 55.]), torch.Size([4]))"
      ]
     },
     "execution_count": 101,
     "metadata": {},
     "output_type": "execute_result"
    }
   ],
   "source": [
    "print(datetime.datetime.now())\n",
    "print(A)\n",
    "A_sum_axis0 = A.sum(axis=0)\n",
    "A_sum_axis0, A_sum_axis0.shape"
   ]
  },
  {
   "cell_type": "code",
   "execution_count": 102,
   "metadata": {},
   "outputs": [
    {
     "name": "stdout",
     "output_type": "stream",
     "text": [
      "2021-09-11 15:37:44.972751\n"
     ]
    },
    {
     "data": {
      "text/plain": [
       "(tensor([ 6., 22., 38., 54., 70.]), torch.Size([5]))"
      ]
     },
     "execution_count": 102,
     "metadata": {},
     "output_type": "execute_result"
    }
   ],
   "source": [
    "print(datetime.datetime.now())\n",
    "A_sum_axis1 = A.sum(axis=1)\n",
    "A_sum_axis1, A_sum_axis1.shape"
   ]
  },
  {
   "cell_type": "code",
   "execution_count": 103,
   "metadata": {},
   "outputs": [
    {
     "name": "stdout",
     "output_type": "stream",
     "text": [
      "2021-09-11 15:38:25.274761\n"
     ]
    },
    {
     "data": {
      "text/plain": [
       "tensor(190.)"
      ]
     },
     "execution_count": 103,
     "metadata": {},
     "output_type": "execute_result"
    }
   ],
   "source": [
    "print(datetime.datetime.now())\n",
    "A.sum(axis=[0, 1]) "
   ]
  },
  {
   "cell_type": "code",
   "execution_count": 105,
   "metadata": {},
   "outputs": [
    {
     "name": "stdout",
     "output_type": "stream",
     "text": [
      "2021-09-11 15:38:50.072436\n",
      "20\n"
     ]
    },
    {
     "data": {
      "text/plain": [
       "(tensor(9.5000), tensor(9.5000))"
      ]
     },
     "execution_count": 105,
     "metadata": {},
     "output_type": "execute_result"
    }
   ],
   "source": [
    "print(datetime.datetime.now())\n",
    "print(A.numel())\n",
    "A.mean(), A.sum() / A.numel()"
   ]
  },
  {
   "cell_type": "code",
   "execution_count": 106,
   "metadata": {},
   "outputs": [
    {
     "name": "stdout",
     "output_type": "stream",
     "text": [
      "2021-09-11 15:39:11.404575\n"
     ]
    },
    {
     "data": {
      "text/plain": [
       "(tensor([ 8.,  9., 10., 11.]), tensor([ 8.,  9., 10., 11.]))"
      ]
     },
     "execution_count": 106,
     "metadata": {},
     "output_type": "execute_result"
    }
   ],
   "source": [
    "print(datetime.datetime.now())\n",
    "A.mean(axis=0), A.sum(axis=0) / A.shape[0]"
   ]
  },
  {
   "cell_type": "code",
   "execution_count": 107,
   "metadata": {},
   "outputs": [
    {
     "name": "stdout",
     "output_type": "stream",
     "text": [
      "2021-09-11 15:39:27.992381\n"
     ]
    },
    {
     "data": {
      "text/plain": [
       "tensor([[ 6.],\n",
       "        [22.],\n",
       "        [38.],\n",
       "        [54.],\n",
       "        [70.]])"
      ]
     },
     "execution_count": 107,
     "metadata": {},
     "output_type": "execute_result"
    }
   ],
   "source": [
    "print(datetime.datetime.now())\n",
    "sum_A = A.sum(axis=1, keepdims=True)\n",
    "sum_A"
   ]
  },
  {
   "cell_type": "code",
   "execution_count": 108,
   "metadata": {},
   "outputs": [
    {
     "name": "stdout",
     "output_type": "stream",
     "text": [
      "2021-09-11 15:40:07.551774\n"
     ]
    },
    {
     "data": {
      "text/plain": [
       "tensor([[0.0000, 0.1667, 0.3333, 0.5000],\n",
       "        [0.1818, 0.2273, 0.2727, 0.3182],\n",
       "        [0.2105, 0.2368, 0.2632, 0.2895],\n",
       "        [0.2222, 0.2407, 0.2593, 0.2778],\n",
       "        [0.2286, 0.2429, 0.2571, 0.2714]])"
      ]
     },
     "execution_count": 108,
     "metadata": {},
     "output_type": "execute_result"
    }
   ],
   "source": [
    "print(datetime.datetime.now())\n",
    "A / sum_A"
   ]
  },
  {
   "cell_type": "code",
   "execution_count": 109,
   "metadata": {},
   "outputs": [
    {
     "name": "stdout",
     "output_type": "stream",
     "text": [
      "2021-09-11 15:40:40.874689\n",
      "tensor([[ 0.,  1.,  2.,  3.],\n",
      "        [ 4.,  5.,  6.,  7.],\n",
      "        [ 8.,  9., 10., 11.],\n",
      "        [12., 13., 14., 15.],\n",
      "        [16., 17., 18., 19.]])\n"
     ]
    },
    {
     "data": {
      "text/plain": [
       "tensor([[ 0.,  1.,  2.,  3.],\n",
       "        [ 4.,  6.,  8., 10.],\n",
       "        [12., 15., 18., 21.],\n",
       "        [24., 28., 32., 36.],\n",
       "        [40., 45., 50., 55.]])"
      ]
     },
     "execution_count": 109,
     "metadata": {},
     "output_type": "execute_result"
    }
   ],
   "source": [
    "print(datetime.datetime.now())\n",
    "print(A)\n",
    "A.cumsum(axis=0)"
   ]
  },
  {
   "cell_type": "code",
   "execution_count": 110,
   "metadata": {},
   "outputs": [
    {
     "name": "stdout",
     "output_type": "stream",
     "text": [
      "2021-09-11 15:41:04.147709\n"
     ]
    },
    {
     "data": {
      "text/plain": [
       "(tensor([0., 1., 2., 3.]), tensor([1., 1., 1., 1.]), tensor(6.))"
      ]
     },
     "execution_count": 110,
     "metadata": {},
     "output_type": "execute_result"
    }
   ],
   "source": [
    "print(datetime.datetime.now())\n",
    "y = torch.ones(4, dtype=torch.float32)\n",
    "x, y, torch.dot(x, y)"
   ]
  },
  {
   "cell_type": "code",
   "execution_count": 111,
   "metadata": {},
   "outputs": [
    {
     "name": "stdout",
     "output_type": "stream",
     "text": [
      "2021-09-11 15:41:22.629106\n"
     ]
    },
    {
     "data": {
      "text/plain": [
       "tensor(6.)"
      ]
     },
     "execution_count": 111,
     "metadata": {},
     "output_type": "execute_result"
    }
   ],
   "source": [
    "print(datetime.datetime.now())\n",
    "torch.sum(x * y)"
   ]
  },
  {
   "cell_type": "code",
   "execution_count": 112,
   "metadata": {},
   "outputs": [
    {
     "name": "stdout",
     "output_type": "stream",
     "text": [
      "2021-09-11 15:42:38.110001\n"
     ]
    },
    {
     "data": {
      "text/plain": [
       "(torch.Size([5, 4]), torch.Size([4]), tensor([ 14.,  38.,  62.,  86., 110.]))"
      ]
     },
     "execution_count": 112,
     "metadata": {},
     "output_type": "execute_result"
    }
   ],
   "source": [
    "print(datetime.datetime.now())\n",
    "A.shape, x.shape, torch.mv(A, x)"
   ]
  },
  {
   "cell_type": "code",
   "execution_count": 113,
   "metadata": {},
   "outputs": [
    {
     "name": "stdout",
     "output_type": "stream",
     "text": [
      "2021-09-11 15:42:49.870630\n"
     ]
    },
    {
     "data": {
      "text/plain": [
       "tensor([[ 6.,  6.,  6.],\n",
       "        [22., 22., 22.],\n",
       "        [38., 38., 38.],\n",
       "        [54., 54., 54.],\n",
       "        [70., 70., 70.]])"
      ]
     },
     "execution_count": 113,
     "metadata": {},
     "output_type": "execute_result"
    }
   ],
   "source": [
    "print(datetime.datetime.now())\n",
    "B = torch.ones(4, 3)\n",
    "torch.mm(A, B)"
   ]
  },
  {
   "cell_type": "code",
   "execution_count": 114,
   "metadata": {},
   "outputs": [
    {
     "name": "stdout",
     "output_type": "stream",
     "text": [
      "2021-09-11 15:43:16.315356\n"
     ]
    },
    {
     "data": {
      "text/plain": [
       "tensor(5.)"
      ]
     },
     "execution_count": 114,
     "metadata": {},
     "output_type": "execute_result"
    }
   ],
   "source": [
    "print(datetime.datetime.now())\n",
    "u = torch.tensor([3.0, -4.0])\n",
    "torch.norm(u)"
   ]
  },
  {
   "cell_type": "code",
   "execution_count": 115,
   "metadata": {},
   "outputs": [
    {
     "name": "stdout",
     "output_type": "stream",
     "text": [
      "2021-09-11 15:43:28.832342\n"
     ]
    },
    {
     "data": {
      "text/plain": [
       "tensor(7.)"
      ]
     },
     "execution_count": 115,
     "metadata": {},
     "output_type": "execute_result"
    }
   ],
   "source": [
    "print(datetime.datetime.now())\n",
    "torch.abs(u).sum()"
   ]
  },
  {
   "cell_type": "code",
   "execution_count": 116,
   "metadata": {},
   "outputs": [
    {
     "name": "stdout",
     "output_type": "stream",
     "text": [
      "2021-09-11 15:43:39.657187\n"
     ]
    },
    {
     "data": {
      "text/plain": [
       "tensor(6.)"
      ]
     },
     "execution_count": 116,
     "metadata": {},
     "output_type": "execute_result"
    }
   ],
   "source": [
    "print(datetime.datetime.now())\n",
    "torch.norm(torch.ones((4, 9)))"
   ]
  },
  {
   "cell_type": "markdown",
   "metadata": {},
   "source": [
    "## Calculus"
   ]
  },
  {
   "cell_type": "code",
   "execution_count": 118,
   "metadata": {},
   "outputs": [
    {
     "name": "stdout",
     "output_type": "stream",
     "text": [
      "2021-09-11 15:46:41.896561\n"
     ]
    }
   ],
   "source": [
    "print(datetime.datetime.now())\n",
    "%matplotlib inline\n",
    "import numpy as np\n",
    "from IPython import display\n",
    "from d2l import torch as d2l\n",
    "\n",
    "\n",
    "def f(x):\n",
    "    return 3 * x ** 2 - 4 * x"
   ]
  },
  {
   "cell_type": "code",
   "execution_count": 119,
   "metadata": {},
   "outputs": [
    {
     "name": "stdout",
     "output_type": "stream",
     "text": [
      "2021-09-11 15:47:08.279608\n",
      "h=0.10000, numerical limit=2.30000\n",
      "h=0.01000, numerical limit=2.03000\n",
      "h=0.00100, numerical limit=2.00300\n",
      "h=0.00010, numerical limit=2.00030\n",
      "h=0.00001, numerical limit=2.00003\n"
     ]
    }
   ],
   "source": [
    "print(datetime.datetime.now())\n",
    "def numerical_lim(f, x, h):\n",
    "    return (f(x + h) - f(x)) / h\n",
    "\n",
    "h = 0.1\n",
    "for i in range(5):\n",
    "    print(f'h={h:.5f}, numerical limit={numerical_lim(f, 1, h):.5f}')\n",
    "    h *= 0.1"
   ]
  },
  {
   "cell_type": "code",
   "execution_count": 120,
   "metadata": {},
   "outputs": [
    {
     "name": "stdout",
     "output_type": "stream",
     "text": [
      "2021-09-11 15:47:29.713367\n"
     ]
    }
   ],
   "source": [
    "print(datetime.datetime.now())\n",
    "def use_svg_display():  \n",
    "    display.set_matplotlib_formats('svg')"
   ]
  },
  {
   "cell_type": "code",
   "execution_count": 121,
   "metadata": {},
   "outputs": [
    {
     "name": "stdout",
     "output_type": "stream",
     "text": [
      "2021-09-11 15:47:43.305279\n"
     ]
    }
   ],
   "source": [
    "print(datetime.datetime.now())\n",
    "def set_figsize(figsize=(3.5, 2.5)):  \n",
    "    use_svg_display()\n",
    "    d2l.plt.rcParams['figure.figsize'] = figsize"
   ]
  },
  {
   "cell_type": "code",
   "execution_count": 122,
   "metadata": {},
   "outputs": [
    {
     "name": "stdout",
     "output_type": "stream",
     "text": [
      "2021-09-11 15:47:57.717004\n"
     ]
    }
   ],
   "source": [
    "print(datetime.datetime.now())\n",
    "#@save\n",
    "def set_axes(axes, xlabel, ylabel, xlim, ylim, xscale, yscale, legend):\n",
    "    axes.set_xlabel(xlabel)\n",
    "    axes.set_ylabel(ylabel)\n",
    "    axes.set_xscale(xscale)\n",
    "    axes.set_yscale(yscale)\n",
    "    axes.set_xlim(xlim)\n",
    "    axes.set_ylim(ylim)\n",
    "    if legend:\n",
    "        axes.legend(legend)\n",
    "    axes.grid()"
   ]
  },
  {
   "cell_type": "code",
   "execution_count": 123,
   "metadata": {},
   "outputs": [
    {
     "name": "stdout",
     "output_type": "stream",
     "text": [
      "2021-09-11 15:48:09.644365\n"
     ]
    }
   ],
   "source": [
    "print(datetime.datetime.now())\n",
    "#@save\n",
    "def plot(X, Y=None, xlabel=None, ylabel=None, legend=None, xlim=None,\n",
    "         ylim=None, xscale='linear', yscale='linear',\n",
    "         fmts=('-', 'm--', 'g-.', 'r:'), figsize=(3.5, 2.5), axes=None):\n",
    "    \"\"\"Plot data points.\"\"\"\n",
    "    if legend is None:\n",
    "        legend = []\n",
    "\n",
    "    set_figsize(figsize)\n",
    "    axes = axes if axes else d2l.plt.gca()\n",
    "\n",
    "    # Return True if `X` (tensor or list) has 1 axis\n",
    "    def has_one_axis(X):\n",
    "        return (hasattr(X, \"ndim\") and X.ndim == 1 or\n",
    "                isinstance(X, list) and not hasattr(X[0], \"__len__\"))\n",
    "\n",
    "    if has_one_axis(X):\n",
    "        X = [X]\n",
    "    if Y is None:\n",
    "        X, Y = [[]] * len(X), X\n",
    "    elif has_one_axis(Y):\n",
    "        Y = [Y]\n",
    "    if len(X) != len(Y):\n",
    "        X = X * len(Y)\n",
    "    axes.cla()\n",
    "    for x, y, fmt in zip(X, Y, fmts):\n",
    "        if len(x):\n",
    "            axes.plot(x, y, fmt)\n",
    "        else:\n",
    "            axes.plot(y, fmt)\n",
    "    set_axes(axes, xlabel, ylabel, xlim, ylim, xscale, yscale, legend)"
   ]
  },
  {
   "cell_type": "code",
   "execution_count": 124,
   "metadata": {},
   "outputs": [
    {
     "name": "stdout",
     "output_type": "stream",
     "text": [
      "2021-09-11 15:48:26.493728\n"
     ]
    },
    {
     "data": {
      "image/svg+xml": [
       "<?xml version=\"1.0\" encoding=\"utf-8\" standalone=\"no\"?>\r\n",
       "<!DOCTYPE svg PUBLIC \"-//W3C//DTD SVG 1.1//EN\"\r\n",
       "  \"http://www.w3.org/Graphics/SVG/1.1/DTD/svg11.dtd\">\r\n",
       "<!-- Created with matplotlib (https://matplotlib.org/) -->\r\n",
       "<svg height=\"180.65625pt\" version=\"1.1\" viewBox=\"0 0 243.529359 180.65625\" width=\"243.529359pt\" xmlns=\"http://www.w3.org/2000/svg\" xmlns:xlink=\"http://www.w3.org/1999/xlink\">\r\n",
       " <metadata>\r\n",
       "  <rdf:RDF xmlns:cc=\"http://creativecommons.org/ns#\" xmlns:dc=\"http://purl.org/dc/elements/1.1/\" xmlns:rdf=\"http://www.w3.org/1999/02/22-rdf-syntax-ns#\">\r\n",
       "   <cc:Work>\r\n",
       "    <dc:type rdf:resource=\"http://purl.org/dc/dcmitype/StillImage\"/>\r\n",
       "    <dc:date>2021-09-11T15:48:26.651068</dc:date>\r\n",
       "    <dc:format>image/svg+xml</dc:format>\r\n",
       "    <dc:creator>\r\n",
       "     <cc:Agent>\r\n",
       "      <dc:title>Matplotlib v3.3.2, https://matplotlib.org/</dc:title>\r\n",
       "     </cc:Agent>\r\n",
       "    </dc:creator>\r\n",
       "   </cc:Work>\r\n",
       "  </rdf:RDF>\r\n",
       " </metadata>\r\n",
       " <defs>\r\n",
       "  <style type=\"text/css\">*{stroke-linecap:butt;stroke-linejoin:round;}</style>\r\n",
       " </defs>\r\n",
       " <g id=\"figure_1\">\r\n",
       "  <g id=\"patch_1\">\r\n",
       "   <path d=\"M 0 180.65625 \r\n",
       "L 243.529359 180.65625 \r\n",
       "L 243.529359 0 \r\n",
       "L 0 0 \r\n",
       "z\r\n",
       "\" style=\"fill:none;\"/>\r\n",
       "  </g>\r\n",
       "  <g id=\"axes_1\">\r\n",
       "   <g id=\"patch_2\">\r\n",
       "    <path d=\"M 40.603125 143.1 \r\n",
       "L 235.903125 143.1 \r\n",
       "L 235.903125 7.2 \r\n",
       "L 40.603125 7.2 \r\n",
       "z\r\n",
       "\" style=\"fill:#ffffff;\"/>\r\n",
       "   </g>\r\n",
       "   <g id=\"matplotlib.axis_1\">\r\n",
       "    <g id=\"xtick_1\">\r\n",
       "     <g id=\"line2d_1\">\r\n",
       "      <path clip-path=\"url(#pb567938a69)\" d=\"M 49.480398 143.1 \r\n",
       "L 49.480398 7.2 \r\n",
       "\" style=\"fill:none;stroke:#b0b0b0;stroke-linecap:square;stroke-width:0.8;\"/>\r\n",
       "     </g>\r\n",
       "     <g id=\"line2d_2\">\r\n",
       "      <defs>\r\n",
       "       <path d=\"M 0 0 \r\n",
       "L 0 3.5 \r\n",
       "\" id=\"mb3f3aea5b1\" style=\"stroke:#000000;stroke-width:0.8;\"/>\r\n",
       "      </defs>\r\n",
       "      <g>\r\n",
       "       <use style=\"stroke:#000000;stroke-width:0.8;\" x=\"49.480398\" xlink:href=\"#mb3f3aea5b1\" y=\"143.1\"/>\r\n",
       "      </g>\r\n",
       "     </g>\r\n",
       "     <g id=\"text_1\">\r\n",
       "      <!-- 0 -->\r\n",
       "      <g transform=\"translate(46.299148 157.698438)scale(0.1 -0.1)\">\r\n",
       "       <defs>\r\n",
       "        <path d=\"M 31.78125 66.40625 \r\n",
       "Q 24.171875 66.40625 20.328125 58.90625 \r\n",
       "Q 16.5 51.421875 16.5 36.375 \r\n",
       "Q 16.5 21.390625 20.328125 13.890625 \r\n",
       "Q 24.171875 6.390625 31.78125 6.390625 \r\n",
       "Q 39.453125 6.390625 43.28125 13.890625 \r\n",
       "Q 47.125 21.390625 47.125 36.375 \r\n",
       "Q 47.125 51.421875 43.28125 58.90625 \r\n",
       "Q 39.453125 66.40625 31.78125 66.40625 \r\n",
       "z\r\n",
       "M 31.78125 74.21875 \r\n",
       "Q 44.046875 74.21875 50.515625 64.515625 \r\n",
       "Q 56.984375 54.828125 56.984375 36.375 \r\n",
       "Q 56.984375 17.96875 50.515625 8.265625 \r\n",
       "Q 44.046875 -1.421875 31.78125 -1.421875 \r\n",
       "Q 19.53125 -1.421875 13.0625 8.265625 \r\n",
       "Q 6.59375 17.96875 6.59375 36.375 \r\n",
       "Q 6.59375 54.828125 13.0625 64.515625 \r\n",
       "Q 19.53125 74.21875 31.78125 74.21875 \r\n",
       "z\r\n",
       "\" id=\"DejaVuSans-48\"/>\r\n",
       "       </defs>\r\n",
       "       <use xlink:href=\"#DejaVuSans-48\"/>\r\n",
       "      </g>\r\n",
       "     </g>\r\n",
       "    </g>\r\n",
       "    <g id=\"xtick_2\">\r\n",
       "     <g id=\"line2d_3\">\r\n",
       "      <path clip-path=\"url(#pb567938a69)\" d=\"M 110.702968 143.1 \r\n",
       "L 110.702968 7.2 \r\n",
       "\" style=\"fill:none;stroke:#b0b0b0;stroke-linecap:square;stroke-width:0.8;\"/>\r\n",
       "     </g>\r\n",
       "     <g id=\"line2d_4\">\r\n",
       "      <g>\r\n",
       "       <use style=\"stroke:#000000;stroke-width:0.8;\" x=\"110.702968\" xlink:href=\"#mb3f3aea5b1\" y=\"143.1\"/>\r\n",
       "      </g>\r\n",
       "     </g>\r\n",
       "     <g id=\"text_2\">\r\n",
       "      <!-- 1 -->\r\n",
       "      <g transform=\"translate(107.521718 157.698438)scale(0.1 -0.1)\">\r\n",
       "       <defs>\r\n",
       "        <path d=\"M 12.40625 8.296875 \r\n",
       "L 28.515625 8.296875 \r\n",
       "L 28.515625 63.921875 \r\n",
       "L 10.984375 60.40625 \r\n",
       "L 10.984375 69.390625 \r\n",
       "L 28.421875 72.90625 \r\n",
       "L 38.28125 72.90625 \r\n",
       "L 38.28125 8.296875 \r\n",
       "L 54.390625 8.296875 \r\n",
       "L 54.390625 0 \r\n",
       "L 12.40625 0 \r\n",
       "z\r\n",
       "\" id=\"DejaVuSans-49\"/>\r\n",
       "       </defs>\r\n",
       "       <use xlink:href=\"#DejaVuSans-49\"/>\r\n",
       "      </g>\r\n",
       "     </g>\r\n",
       "    </g>\r\n",
       "    <g id=\"xtick_3\">\r\n",
       "     <g id=\"line2d_5\">\r\n",
       "      <path clip-path=\"url(#pb567938a69)\" d=\"M 171.925539 143.1 \r\n",
       "L 171.925539 7.2 \r\n",
       "\" style=\"fill:none;stroke:#b0b0b0;stroke-linecap:square;stroke-width:0.8;\"/>\r\n",
       "     </g>\r\n",
       "     <g id=\"line2d_6\">\r\n",
       "      <g>\r\n",
       "       <use style=\"stroke:#000000;stroke-width:0.8;\" x=\"171.925539\" xlink:href=\"#mb3f3aea5b1\" y=\"143.1\"/>\r\n",
       "      </g>\r\n",
       "     </g>\r\n",
       "     <g id=\"text_3\">\r\n",
       "      <!-- 2 -->\r\n",
       "      <g transform=\"translate(168.744289 157.698438)scale(0.1 -0.1)\">\r\n",
       "       <defs>\r\n",
       "        <path d=\"M 19.1875 8.296875 \r\n",
       "L 53.609375 8.296875 \r\n",
       "L 53.609375 0 \r\n",
       "L 7.328125 0 \r\n",
       "L 7.328125 8.296875 \r\n",
       "Q 12.9375 14.109375 22.625 23.890625 \r\n",
       "Q 32.328125 33.6875 34.8125 36.53125 \r\n",
       "Q 39.546875 41.84375 41.421875 45.53125 \r\n",
       "Q 43.3125 49.21875 43.3125 52.78125 \r\n",
       "Q 43.3125 58.59375 39.234375 62.25 \r\n",
       "Q 35.15625 65.921875 28.609375 65.921875 \r\n",
       "Q 23.96875 65.921875 18.8125 64.3125 \r\n",
       "Q 13.671875 62.703125 7.8125 59.421875 \r\n",
       "L 7.8125 69.390625 \r\n",
       "Q 13.765625 71.78125 18.9375 73 \r\n",
       "Q 24.125 74.21875 28.421875 74.21875 \r\n",
       "Q 39.75 74.21875 46.484375 68.546875 \r\n",
       "Q 53.21875 62.890625 53.21875 53.421875 \r\n",
       "Q 53.21875 48.921875 51.53125 44.890625 \r\n",
       "Q 49.859375 40.875 45.40625 35.40625 \r\n",
       "Q 44.1875 33.984375 37.640625 27.21875 \r\n",
       "Q 31.109375 20.453125 19.1875 8.296875 \r\n",
       "z\r\n",
       "\" id=\"DejaVuSans-50\"/>\r\n",
       "       </defs>\r\n",
       "       <use xlink:href=\"#DejaVuSans-50\"/>\r\n",
       "      </g>\r\n",
       "     </g>\r\n",
       "    </g>\r\n",
       "    <g id=\"xtick_4\">\r\n",
       "     <g id=\"line2d_7\">\r\n",
       "      <path clip-path=\"url(#pb567938a69)\" d=\"M 233.148109 143.1 \r\n",
       "L 233.148109 7.2 \r\n",
       "\" style=\"fill:none;stroke:#b0b0b0;stroke-linecap:square;stroke-width:0.8;\"/>\r\n",
       "     </g>\r\n",
       "     <g id=\"line2d_8\">\r\n",
       "      <g>\r\n",
       "       <use style=\"stroke:#000000;stroke-width:0.8;\" x=\"233.148109\" xlink:href=\"#mb3f3aea5b1\" y=\"143.1\"/>\r\n",
       "      </g>\r\n",
       "     </g>\r\n",
       "     <g id=\"text_4\">\r\n",
       "      <!-- 3 -->\r\n",
       "      <g transform=\"translate(229.966859 157.698438)scale(0.1 -0.1)\">\r\n",
       "       <defs>\r\n",
       "        <path d=\"M 40.578125 39.3125 \r\n",
       "Q 47.65625 37.796875 51.625 33 \r\n",
       "Q 55.609375 28.21875 55.609375 21.1875 \r\n",
       "Q 55.609375 10.40625 48.1875 4.484375 \r\n",
       "Q 40.765625 -1.421875 27.09375 -1.421875 \r\n",
       "Q 22.515625 -1.421875 17.65625 -0.515625 \r\n",
       "Q 12.796875 0.390625 7.625 2.203125 \r\n",
       "L 7.625 11.71875 \r\n",
       "Q 11.71875 9.328125 16.59375 8.109375 \r\n",
       "Q 21.484375 6.890625 26.8125 6.890625 \r\n",
       "Q 36.078125 6.890625 40.9375 10.546875 \r\n",
       "Q 45.796875 14.203125 45.796875 21.1875 \r\n",
       "Q 45.796875 27.640625 41.28125 31.265625 \r\n",
       "Q 36.765625 34.90625 28.71875 34.90625 \r\n",
       "L 20.21875 34.90625 \r\n",
       "L 20.21875 43.015625 \r\n",
       "L 29.109375 43.015625 \r\n",
       "Q 36.375 43.015625 40.234375 45.921875 \r\n",
       "Q 44.09375 48.828125 44.09375 54.296875 \r\n",
       "Q 44.09375 59.90625 40.109375 62.90625 \r\n",
       "Q 36.140625 65.921875 28.71875 65.921875 \r\n",
       "Q 24.65625 65.921875 20.015625 65.03125 \r\n",
       "Q 15.375 64.15625 9.8125 62.3125 \r\n",
       "L 9.8125 71.09375 \r\n",
       "Q 15.4375 72.65625 20.34375 73.4375 \r\n",
       "Q 25.25 74.21875 29.59375 74.21875 \r\n",
       "Q 40.828125 74.21875 47.359375 69.109375 \r\n",
       "Q 53.90625 64.015625 53.90625 55.328125 \r\n",
       "Q 53.90625 49.265625 50.4375 45.09375 \r\n",
       "Q 46.96875 40.921875 40.578125 39.3125 \r\n",
       "z\r\n",
       "\" id=\"DejaVuSans-51\"/>\r\n",
       "       </defs>\r\n",
       "       <use xlink:href=\"#DejaVuSans-51\"/>\r\n",
       "      </g>\r\n",
       "     </g>\r\n",
       "    </g>\r\n",
       "    <g id=\"text_5\">\r\n",
       "     <!-- x -->\r\n",
       "     <g transform=\"translate(135.29375 171.376563)scale(0.1 -0.1)\">\r\n",
       "      <defs>\r\n",
       "       <path d=\"M 54.890625 54.6875 \r\n",
       "L 35.109375 28.078125 \r\n",
       "L 55.90625 0 \r\n",
       "L 45.3125 0 \r\n",
       "L 29.390625 21.484375 \r\n",
       "L 13.484375 0 \r\n",
       "L 2.875 0 \r\n",
       "L 24.125 28.609375 \r\n",
       "L 4.6875 54.6875 \r\n",
       "L 15.28125 54.6875 \r\n",
       "L 29.78125 35.203125 \r\n",
       "L 44.28125 54.6875 \r\n",
       "z\r\n",
       "\" id=\"DejaVuSans-120\"/>\r\n",
       "      </defs>\r\n",
       "      <use xlink:href=\"#DejaVuSans-120\"/>\r\n",
       "     </g>\r\n",
       "    </g>\r\n",
       "   </g>\r\n",
       "   <g id=\"matplotlib.axis_2\">\r\n",
       "    <g id=\"ytick_1\">\r\n",
       "     <g id=\"line2d_9\">\r\n",
       "      <path clip-path=\"url(#pb567938a69)\" d=\"M 40.603125 114.635514 \r\n",
       "L 235.903125 114.635514 \r\n",
       "\" style=\"fill:none;stroke:#b0b0b0;stroke-linecap:square;stroke-width:0.8;\"/>\r\n",
       "     </g>\r\n",
       "     <g id=\"line2d_10\">\r\n",
       "      <defs>\r\n",
       "       <path d=\"M 0 0 \r\n",
       "L -3.5 0 \r\n",
       "\" id=\"m884767a5cb\" style=\"stroke:#000000;stroke-width:0.8;\"/>\r\n",
       "      </defs>\r\n",
       "      <g>\r\n",
       "       <use style=\"stroke:#000000;stroke-width:0.8;\" x=\"40.603125\" xlink:href=\"#m884767a5cb\" y=\"114.635514\"/>\r\n",
       "      </g>\r\n",
       "     </g>\r\n",
       "     <g id=\"text_6\">\r\n",
       "      <!-- 0 -->\r\n",
       "      <g transform=\"translate(27.240625 118.434732)scale(0.1 -0.1)\">\r\n",
       "       <use xlink:href=\"#DejaVuSans-48\"/>\r\n",
       "      </g>\r\n",
       "     </g>\r\n",
       "    </g>\r\n",
       "    <g id=\"ytick_2\">\r\n",
       "     <g id=\"line2d_11\">\r\n",
       "      <path clip-path=\"url(#pb567938a69)\" d=\"M 40.603125 77.490157 \r\n",
       "L 235.903125 77.490157 \r\n",
       "\" style=\"fill:none;stroke:#b0b0b0;stroke-linecap:square;stroke-width:0.8;\"/>\r\n",
       "     </g>\r\n",
       "     <g id=\"line2d_12\">\r\n",
       "      <g>\r\n",
       "       <use style=\"stroke:#000000;stroke-width:0.8;\" x=\"40.603125\" xlink:href=\"#m884767a5cb\" y=\"77.490157\"/>\r\n",
       "      </g>\r\n",
       "     </g>\r\n",
       "     <g id=\"text_7\">\r\n",
       "      <!-- 5 -->\r\n",
       "      <g transform=\"translate(27.240625 81.289376)scale(0.1 -0.1)\">\r\n",
       "       <defs>\r\n",
       "        <path d=\"M 10.796875 72.90625 \r\n",
       "L 49.515625 72.90625 \r\n",
       "L 49.515625 64.59375 \r\n",
       "L 19.828125 64.59375 \r\n",
       "L 19.828125 46.734375 \r\n",
       "Q 21.96875 47.46875 24.109375 47.828125 \r\n",
       "Q 26.265625 48.1875 28.421875 48.1875 \r\n",
       "Q 40.625 48.1875 47.75 41.5 \r\n",
       "Q 54.890625 34.8125 54.890625 23.390625 \r\n",
       "Q 54.890625 11.625 47.5625 5.09375 \r\n",
       "Q 40.234375 -1.421875 26.90625 -1.421875 \r\n",
       "Q 22.3125 -1.421875 17.546875 -0.640625 \r\n",
       "Q 12.796875 0.140625 7.71875 1.703125 \r\n",
       "L 7.71875 11.625 \r\n",
       "Q 12.109375 9.234375 16.796875 8.0625 \r\n",
       "Q 21.484375 6.890625 26.703125 6.890625 \r\n",
       "Q 35.15625 6.890625 40.078125 11.328125 \r\n",
       "Q 45.015625 15.765625 45.015625 23.390625 \r\n",
       "Q 45.015625 31 40.078125 35.4375 \r\n",
       "Q 35.15625 39.890625 26.703125 39.890625 \r\n",
       "Q 22.75 39.890625 18.8125 39.015625 \r\n",
       "Q 14.890625 38.140625 10.796875 36.28125 \r\n",
       "z\r\n",
       "\" id=\"DejaVuSans-53\"/>\r\n",
       "       </defs>\r\n",
       "       <use xlink:href=\"#DejaVuSans-53\"/>\r\n",
       "      </g>\r\n",
       "     </g>\r\n",
       "    </g>\r\n",
       "    <g id=\"ytick_3\">\r\n",
       "     <g id=\"line2d_13\">\r\n",
       "      <path clip-path=\"url(#pb567938a69)\" d=\"M 40.603125 40.344801 \r\n",
       "L 235.903125 40.344801 \r\n",
       "\" style=\"fill:none;stroke:#b0b0b0;stroke-linecap:square;stroke-width:0.8;\"/>\r\n",
       "     </g>\r\n",
       "     <g id=\"line2d_14\">\r\n",
       "      <g>\r\n",
       "       <use style=\"stroke:#000000;stroke-width:0.8;\" x=\"40.603125\" xlink:href=\"#m884767a5cb\" y=\"40.344801\"/>\r\n",
       "      </g>\r\n",
       "     </g>\r\n",
       "     <g id=\"text_8\">\r\n",
       "      <!-- 10 -->\r\n",
       "      <g transform=\"translate(20.878125 44.14402)scale(0.1 -0.1)\">\r\n",
       "       <use xlink:href=\"#DejaVuSans-49\"/>\r\n",
       "       <use x=\"63.623047\" xlink:href=\"#DejaVuSans-48\"/>\r\n",
       "      </g>\r\n",
       "     </g>\r\n",
       "    </g>\r\n",
       "    <g id=\"text_9\">\r\n",
       "     <!-- f(x) -->\r\n",
       "     <g transform=\"translate(14.798437 83.771094)rotate(-90)scale(0.1 -0.1)\">\r\n",
       "      <defs>\r\n",
       "       <path d=\"M 37.109375 75.984375 \r\n",
       "L 37.109375 68.5 \r\n",
       "L 28.515625 68.5 \r\n",
       "Q 23.6875 68.5 21.796875 66.546875 \r\n",
       "Q 19.921875 64.59375 19.921875 59.515625 \r\n",
       "L 19.921875 54.6875 \r\n",
       "L 34.71875 54.6875 \r\n",
       "L 34.71875 47.703125 \r\n",
       "L 19.921875 47.703125 \r\n",
       "L 19.921875 0 \r\n",
       "L 10.890625 0 \r\n",
       "L 10.890625 47.703125 \r\n",
       "L 2.296875 47.703125 \r\n",
       "L 2.296875 54.6875 \r\n",
       "L 10.890625 54.6875 \r\n",
       "L 10.890625 58.5 \r\n",
       "Q 10.890625 67.625 15.140625 71.796875 \r\n",
       "Q 19.390625 75.984375 28.609375 75.984375 \r\n",
       "z\r\n",
       "\" id=\"DejaVuSans-102\"/>\r\n",
       "       <path d=\"M 31 75.875 \r\n",
       "Q 24.46875 64.65625 21.28125 53.65625 \r\n",
       "Q 18.109375 42.671875 18.109375 31.390625 \r\n",
       "Q 18.109375 20.125 21.3125 9.0625 \r\n",
       "Q 24.515625 -2 31 -13.1875 \r\n",
       "L 23.1875 -13.1875 \r\n",
       "Q 15.875 -1.703125 12.234375 9.375 \r\n",
       "Q 8.59375 20.453125 8.59375 31.390625 \r\n",
       "Q 8.59375 42.28125 12.203125 53.3125 \r\n",
       "Q 15.828125 64.359375 23.1875 75.875 \r\n",
       "z\r\n",
       "\" id=\"DejaVuSans-40\"/>\r\n",
       "       <path d=\"M 8.015625 75.875 \r\n",
       "L 15.828125 75.875 \r\n",
       "Q 23.140625 64.359375 26.78125 53.3125 \r\n",
       "Q 30.421875 42.28125 30.421875 31.390625 \r\n",
       "Q 30.421875 20.453125 26.78125 9.375 \r\n",
       "Q 23.140625 -1.703125 15.828125 -13.1875 \r\n",
       "L 8.015625 -13.1875 \r\n",
       "Q 14.5 -2 17.703125 9.0625 \r\n",
       "Q 20.90625 20.125 20.90625 31.390625 \r\n",
       "Q 20.90625 42.671875 17.703125 53.65625 \r\n",
       "Q 14.5 64.65625 8.015625 75.875 \r\n",
       "z\r\n",
       "\" id=\"DejaVuSans-41\"/>\r\n",
       "      </defs>\r\n",
       "      <use xlink:href=\"#DejaVuSans-102\"/>\r\n",
       "      <use x=\"35.205078\" xlink:href=\"#DejaVuSans-40\"/>\r\n",
       "      <use x=\"74.21875\" xlink:href=\"#DejaVuSans-120\"/>\r\n",
       "      <use x=\"133.398438\" xlink:href=\"#DejaVuSans-41\"/>\r\n",
       "     </g>\r\n",
       "    </g>\r\n",
       "   </g>\r\n",
       "   <g id=\"line2d_15\">\r\n",
       "    <path clip-path=\"url(#pb567938a69)\" d=\"M 49.480398 114.635514 \r\n",
       "L 55.602655 117.38427 \r\n",
       "L 61.724912 119.687282 \r\n",
       "L 67.847169 121.54455 \r\n",
       "L 73.969426 122.956073 \r\n",
       "L 80.091683 123.921853 \r\n",
       "L 86.21394 124.441888 \r\n",
       "L 92.336197 124.516178 \r\n",
       "L 98.458454 124.144725 \r\n",
       "L 104.580711 123.327527 \r\n",
       "L 110.702968 122.064585 \r\n",
       "L 116.825225 120.355898 \r\n",
       "L 122.947482 118.201468 \r\n",
       "L 129.069739 115.601293 \r\n",
       "L 135.191996 112.555374 \r\n",
       "L 141.314254 109.06371 \r\n",
       "L 147.436511 105.126302 \r\n",
       "L 153.558768 100.74315 \r\n",
       "L 159.681025 95.914254 \r\n",
       "L 165.803282 90.639614 \r\n",
       "L 171.925539 84.919229 \r\n",
       "L 178.047796 78.7531 \r\n",
       "L 184.170053 72.141226 \r\n",
       "L 190.29231 65.083608 \r\n",
       "L 196.414567 57.580247 \r\n",
       "L 202.536824 49.63114 \r\n",
       "L 208.659081 41.23629 \r\n",
       "L 214.781338 32.395695 \r\n",
       "L 220.903595 23.109356 \r\n",
       "L 227.025852 13.377273 \r\n",
       "\" style=\"fill:none;stroke:#1f77b4;stroke-linecap:square;stroke-width:1.5;\"/>\r\n",
       "   </g>\r\n",
       "   <g id=\"line2d_16\">\r\n",
       "    <path clip-path=\"url(#pb567938a69)\" d=\"M 49.480398 136.922727 \r\n",
       "L 55.602655 135.436913 \r\n",
       "L 61.724912 133.951099 \r\n",
       "L 67.847169 132.465285 \r\n",
       "L 73.969426 130.97947 \r\n",
       "L 80.091683 129.493656 \r\n",
       "L 86.21394 128.007842 \r\n",
       "L 92.336197 126.522028 \r\n",
       "L 98.458454 125.036213 \r\n",
       "L 104.580711 123.550399 \r\n",
       "L 110.702968 122.064585 \r\n",
       "L 116.825225 120.578771 \r\n",
       "L 122.947482 119.092956 \r\n",
       "L 129.069739 117.607142 \r\n",
       "L 135.191996 116.121328 \r\n",
       "L 141.314254 114.635514 \r\n",
       "L 147.436511 113.149699 \r\n",
       "L 153.558768 111.663885 \r\n",
       "L 159.681025 110.178071 \r\n",
       "L 165.803282 108.692257 \r\n",
       "L 171.925539 107.206442 \r\n",
       "L 178.047796 105.720628 \r\n",
       "L 184.170053 104.234814 \r\n",
       "L 190.29231 102.749 \r\n",
       "L 196.414567 101.263185 \r\n",
       "L 202.536824 99.777371 \r\n",
       "L 208.659081 98.291557 \r\n",
       "L 214.781338 96.805743 \r\n",
       "L 220.903595 95.319928 \r\n",
       "L 227.025852 93.834114 \r\n",
       "\" style=\"fill:none;stroke:#bf00bf;stroke-dasharray:5.55,2.4;stroke-dashoffset:0;stroke-width:1.5;\"/>\r\n",
       "   </g>\r\n",
       "   <g id=\"patch_3\">\r\n",
       "    <path d=\"M 40.603125 143.1 \r\n",
       "L 40.603125 7.2 \r\n",
       "\" style=\"fill:none;stroke:#000000;stroke-linecap:square;stroke-linejoin:miter;stroke-width:0.8;\"/>\r\n",
       "   </g>\r\n",
       "   <g id=\"patch_4\">\r\n",
       "    <path d=\"M 235.903125 143.1 \r\n",
       "L 235.903125 7.2 \r\n",
       "\" style=\"fill:none;stroke:#000000;stroke-linecap:square;stroke-linejoin:miter;stroke-width:0.8;\"/>\r\n",
       "   </g>\r\n",
       "   <g id=\"patch_5\">\r\n",
       "    <path d=\"M 40.603125 143.1 \r\n",
       "L 235.903125 143.1 \r\n",
       "\" style=\"fill:none;stroke:#000000;stroke-linecap:square;stroke-linejoin:miter;stroke-width:0.8;\"/>\r\n",
       "   </g>\r\n",
       "   <g id=\"patch_6\">\r\n",
       "    <path d=\"M 40.603125 7.2 \r\n",
       "L 235.903125 7.2 \r\n",
       "\" style=\"fill:none;stroke:#000000;stroke-linecap:square;stroke-linejoin:miter;stroke-width:0.8;\"/>\r\n",
       "   </g>\r\n",
       "   <g id=\"legend_1\">\r\n",
       "    <g id=\"patch_7\">\r\n",
       "     <path d=\"M 47.603125 44.55625 \r\n",
       "L 172.153125 44.55625 \r\n",
       "Q 174.153125 44.55625 174.153125 42.55625 \r\n",
       "L 174.153125 14.2 \r\n",
       "Q 174.153125 12.2 172.153125 12.2 \r\n",
       "L 47.603125 12.2 \r\n",
       "Q 45.603125 12.2 45.603125 14.2 \r\n",
       "L 45.603125 42.55625 \r\n",
       "Q 45.603125 44.55625 47.603125 44.55625 \r\n",
       "z\r\n",
       "\" style=\"fill:#ffffff;opacity:0.8;stroke:#cccccc;stroke-linejoin:miter;\"/>\r\n",
       "    </g>\r\n",
       "    <g id=\"line2d_17\">\r\n",
       "     <path d=\"M 49.603125 20.298437 \r\n",
       "L 69.603125 20.298437 \r\n",
       "\" style=\"fill:none;stroke:#1f77b4;stroke-linecap:square;stroke-width:1.5;\"/>\r\n",
       "    </g>\r\n",
       "    <g id=\"line2d_18\"/>\r\n",
       "    <g id=\"text_10\">\r\n",
       "     <!-- f(x) -->\r\n",
       "     <g transform=\"translate(77.603125 23.798437)scale(0.1 -0.1)\">\r\n",
       "      <use xlink:href=\"#DejaVuSans-102\"/>\r\n",
       "      <use x=\"35.205078\" xlink:href=\"#DejaVuSans-40\"/>\r\n",
       "      <use x=\"74.21875\" xlink:href=\"#DejaVuSans-120\"/>\r\n",
       "      <use x=\"133.398438\" xlink:href=\"#DejaVuSans-41\"/>\r\n",
       "     </g>\r\n",
       "    </g>\r\n",
       "    <g id=\"line2d_19\">\r\n",
       "     <path d=\"M 49.603125 34.976562 \r\n",
       "L 69.603125 34.976562 \r\n",
       "\" style=\"fill:none;stroke:#bf00bf;stroke-dasharray:5.55,2.4;stroke-dashoffset:0;stroke-width:1.5;\"/>\r\n",
       "    </g>\r\n",
       "    <g id=\"line2d_20\"/>\r\n",
       "    <g id=\"text_11\">\r\n",
       "     <!-- Tangent line (x=1) -->\r\n",
       "     <g transform=\"translate(77.603125 38.476562)scale(0.1 -0.1)\">\r\n",
       "      <defs>\r\n",
       "       <path d=\"M -0.296875 72.90625 \r\n",
       "L 61.375 72.90625 \r\n",
       "L 61.375 64.59375 \r\n",
       "L 35.5 64.59375 \r\n",
       "L 35.5 0 \r\n",
       "L 25.59375 0 \r\n",
       "L 25.59375 64.59375 \r\n",
       "L -0.296875 64.59375 \r\n",
       "z\r\n",
       "\" id=\"DejaVuSans-84\"/>\r\n",
       "       <path d=\"M 34.28125 27.484375 \r\n",
       "Q 23.390625 27.484375 19.1875 25 \r\n",
       "Q 14.984375 22.515625 14.984375 16.5 \r\n",
       "Q 14.984375 11.71875 18.140625 8.90625 \r\n",
       "Q 21.296875 6.109375 26.703125 6.109375 \r\n",
       "Q 34.1875 6.109375 38.703125 11.40625 \r\n",
       "Q 43.21875 16.703125 43.21875 25.484375 \r\n",
       "L 43.21875 27.484375 \r\n",
       "z\r\n",
       "M 52.203125 31.203125 \r\n",
       "L 52.203125 0 \r\n",
       "L 43.21875 0 \r\n",
       "L 43.21875 8.296875 \r\n",
       "Q 40.140625 3.328125 35.546875 0.953125 \r\n",
       "Q 30.953125 -1.421875 24.3125 -1.421875 \r\n",
       "Q 15.921875 -1.421875 10.953125 3.296875 \r\n",
       "Q 6 8.015625 6 15.921875 \r\n",
       "Q 6 25.140625 12.171875 29.828125 \r\n",
       "Q 18.359375 34.515625 30.609375 34.515625 \r\n",
       "L 43.21875 34.515625 \r\n",
       "L 43.21875 35.40625 \r\n",
       "Q 43.21875 41.609375 39.140625 45 \r\n",
       "Q 35.0625 48.390625 27.6875 48.390625 \r\n",
       "Q 23 48.390625 18.546875 47.265625 \r\n",
       "Q 14.109375 46.140625 10.015625 43.890625 \r\n",
       "L 10.015625 52.203125 \r\n",
       "Q 14.9375 54.109375 19.578125 55.046875 \r\n",
       "Q 24.21875 56 28.609375 56 \r\n",
       "Q 40.484375 56 46.34375 49.84375 \r\n",
       "Q 52.203125 43.703125 52.203125 31.203125 \r\n",
       "z\r\n",
       "\" id=\"DejaVuSans-97\"/>\r\n",
       "       <path d=\"M 54.890625 33.015625 \r\n",
       "L 54.890625 0 \r\n",
       "L 45.90625 0 \r\n",
       "L 45.90625 32.71875 \r\n",
       "Q 45.90625 40.484375 42.875 44.328125 \r\n",
       "Q 39.84375 48.1875 33.796875 48.1875 \r\n",
       "Q 26.515625 48.1875 22.3125 43.546875 \r\n",
       "Q 18.109375 38.921875 18.109375 30.90625 \r\n",
       "L 18.109375 0 \r\n",
       "L 9.078125 0 \r\n",
       "L 9.078125 54.6875 \r\n",
       "L 18.109375 54.6875 \r\n",
       "L 18.109375 46.1875 \r\n",
       "Q 21.34375 51.125 25.703125 53.5625 \r\n",
       "Q 30.078125 56 35.796875 56 \r\n",
       "Q 45.21875 56 50.046875 50.171875 \r\n",
       "Q 54.890625 44.34375 54.890625 33.015625 \r\n",
       "z\r\n",
       "\" id=\"DejaVuSans-110\"/>\r\n",
       "       <path d=\"M 45.40625 27.984375 \r\n",
       "Q 45.40625 37.75 41.375 43.109375 \r\n",
       "Q 37.359375 48.484375 30.078125 48.484375 \r\n",
       "Q 22.859375 48.484375 18.828125 43.109375 \r\n",
       "Q 14.796875 37.75 14.796875 27.984375 \r\n",
       "Q 14.796875 18.265625 18.828125 12.890625 \r\n",
       "Q 22.859375 7.515625 30.078125 7.515625 \r\n",
       "Q 37.359375 7.515625 41.375 12.890625 \r\n",
       "Q 45.40625 18.265625 45.40625 27.984375 \r\n",
       "z\r\n",
       "M 54.390625 6.78125 \r\n",
       "Q 54.390625 -7.171875 48.1875 -13.984375 \r\n",
       "Q 42 -20.796875 29.203125 -20.796875 \r\n",
       "Q 24.46875 -20.796875 20.265625 -20.09375 \r\n",
       "Q 16.0625 -19.390625 12.109375 -17.921875 \r\n",
       "L 12.109375 -9.1875 \r\n",
       "Q 16.0625 -11.328125 19.921875 -12.34375 \r\n",
       "Q 23.78125 -13.375 27.78125 -13.375 \r\n",
       "Q 36.625 -13.375 41.015625 -8.765625 \r\n",
       "Q 45.40625 -4.15625 45.40625 5.171875 \r\n",
       "L 45.40625 9.625 \r\n",
       "Q 42.625 4.78125 38.28125 2.390625 \r\n",
       "Q 33.9375 0 27.875 0 \r\n",
       "Q 17.828125 0 11.671875 7.65625 \r\n",
       "Q 5.515625 15.328125 5.515625 27.984375 \r\n",
       "Q 5.515625 40.671875 11.671875 48.328125 \r\n",
       "Q 17.828125 56 27.875 56 \r\n",
       "Q 33.9375 56 38.28125 53.609375 \r\n",
       "Q 42.625 51.21875 45.40625 46.390625 \r\n",
       "L 45.40625 54.6875 \r\n",
       "L 54.390625 54.6875 \r\n",
       "z\r\n",
       "\" id=\"DejaVuSans-103\"/>\r\n",
       "       <path d=\"M 56.203125 29.59375 \r\n",
       "L 56.203125 25.203125 \r\n",
       "L 14.890625 25.203125 \r\n",
       "Q 15.484375 15.921875 20.484375 11.0625 \r\n",
       "Q 25.484375 6.203125 34.421875 6.203125 \r\n",
       "Q 39.59375 6.203125 44.453125 7.46875 \r\n",
       "Q 49.3125 8.734375 54.109375 11.28125 \r\n",
       "L 54.109375 2.78125 \r\n",
       "Q 49.265625 0.734375 44.1875 -0.34375 \r\n",
       "Q 39.109375 -1.421875 33.890625 -1.421875 \r\n",
       "Q 20.796875 -1.421875 13.15625 6.1875 \r\n",
       "Q 5.515625 13.8125 5.515625 26.8125 \r\n",
       "Q 5.515625 40.234375 12.765625 48.109375 \r\n",
       "Q 20.015625 56 32.328125 56 \r\n",
       "Q 43.359375 56 49.78125 48.890625 \r\n",
       "Q 56.203125 41.796875 56.203125 29.59375 \r\n",
       "z\r\n",
       "M 47.21875 32.234375 \r\n",
       "Q 47.125 39.59375 43.09375 43.984375 \r\n",
       "Q 39.0625 48.390625 32.421875 48.390625 \r\n",
       "Q 24.90625 48.390625 20.390625 44.140625 \r\n",
       "Q 15.875 39.890625 15.1875 32.171875 \r\n",
       "z\r\n",
       "\" id=\"DejaVuSans-101\"/>\r\n",
       "       <path d=\"M 18.3125 70.21875 \r\n",
       "L 18.3125 54.6875 \r\n",
       "L 36.8125 54.6875 \r\n",
       "L 36.8125 47.703125 \r\n",
       "L 18.3125 47.703125 \r\n",
       "L 18.3125 18.015625 \r\n",
       "Q 18.3125 11.328125 20.140625 9.421875 \r\n",
       "Q 21.96875 7.515625 27.59375 7.515625 \r\n",
       "L 36.8125 7.515625 \r\n",
       "L 36.8125 0 \r\n",
       "L 27.59375 0 \r\n",
       "Q 17.1875 0 13.234375 3.875 \r\n",
       "Q 9.28125 7.765625 9.28125 18.015625 \r\n",
       "L 9.28125 47.703125 \r\n",
       "L 2.6875 47.703125 \r\n",
       "L 2.6875 54.6875 \r\n",
       "L 9.28125 54.6875 \r\n",
       "L 9.28125 70.21875 \r\n",
       "z\r\n",
       "\" id=\"DejaVuSans-116\"/>\r\n",
       "       <path id=\"DejaVuSans-32\"/>\r\n",
       "       <path d=\"M 9.421875 75.984375 \r\n",
       "L 18.40625 75.984375 \r\n",
       "L 18.40625 0 \r\n",
       "L 9.421875 0 \r\n",
       "z\r\n",
       "\" id=\"DejaVuSans-108\"/>\r\n",
       "       <path d=\"M 9.421875 54.6875 \r\n",
       "L 18.40625 54.6875 \r\n",
       "L 18.40625 0 \r\n",
       "L 9.421875 0 \r\n",
       "z\r\n",
       "M 9.421875 75.984375 \r\n",
       "L 18.40625 75.984375 \r\n",
       "L 18.40625 64.59375 \r\n",
       "L 9.421875 64.59375 \r\n",
       "z\r\n",
       "\" id=\"DejaVuSans-105\"/>\r\n",
       "       <path d=\"M 10.59375 45.40625 \r\n",
       "L 73.1875 45.40625 \r\n",
       "L 73.1875 37.203125 \r\n",
       "L 10.59375 37.203125 \r\n",
       "z\r\n",
       "M 10.59375 25.484375 \r\n",
       "L 73.1875 25.484375 \r\n",
       "L 73.1875 17.1875 \r\n",
       "L 10.59375 17.1875 \r\n",
       "z\r\n",
       "\" id=\"DejaVuSans-61\"/>\r\n",
       "      </defs>\r\n",
       "      <use xlink:href=\"#DejaVuSans-84\"/>\r\n",
       "      <use x=\"44.583984\" xlink:href=\"#DejaVuSans-97\"/>\r\n",
       "      <use x=\"105.863281\" xlink:href=\"#DejaVuSans-110\"/>\r\n",
       "      <use x=\"169.242188\" xlink:href=\"#DejaVuSans-103\"/>\r\n",
       "      <use x=\"232.71875\" xlink:href=\"#DejaVuSans-101\"/>\r\n",
       "      <use x=\"294.242188\" xlink:href=\"#DejaVuSans-110\"/>\r\n",
       "      <use x=\"357.621094\" xlink:href=\"#DejaVuSans-116\"/>\r\n",
       "      <use x=\"396.830078\" xlink:href=\"#DejaVuSans-32\"/>\r\n",
       "      <use x=\"428.617188\" xlink:href=\"#DejaVuSans-108\"/>\r\n",
       "      <use x=\"456.400391\" xlink:href=\"#DejaVuSans-105\"/>\r\n",
       "      <use x=\"484.183594\" xlink:href=\"#DejaVuSans-110\"/>\r\n",
       "      <use x=\"547.5625\" xlink:href=\"#DejaVuSans-101\"/>\r\n",
       "      <use x=\"609.085938\" xlink:href=\"#DejaVuSans-32\"/>\r\n",
       "      <use x=\"640.873047\" xlink:href=\"#DejaVuSans-40\"/>\r\n",
       "      <use x=\"679.886719\" xlink:href=\"#DejaVuSans-120\"/>\r\n",
       "      <use x=\"739.066406\" xlink:href=\"#DejaVuSans-61\"/>\r\n",
       "      <use x=\"822.855469\" xlink:href=\"#DejaVuSans-49\"/>\r\n",
       "      <use x=\"886.478516\" xlink:href=\"#DejaVuSans-41\"/>\r\n",
       "     </g>\r\n",
       "    </g>\r\n",
       "   </g>\r\n",
       "  </g>\r\n",
       " </g>\r\n",
       " <defs>\r\n",
       "  <clipPath id=\"pb567938a69\">\r\n",
       "   <rect height=\"135.9\" width=\"195.3\" x=\"40.603125\" y=\"7.2\"/>\r\n",
       "  </clipPath>\r\n",
       " </defs>\r\n",
       "</svg>\r\n"
      ],
      "text/plain": [
       "<Figure size 252x180 with 1 Axes>"
      ]
     },
     "metadata": {
      "needs_background": "light"
     },
     "output_type": "display_data"
    }
   ],
   "source": [
    "print(datetime.datetime.now())\n",
    "x = np.arange(0, 3, 0.1)\n",
    "plot(x, [f(x), 2 * x - 3], 'x', 'f(x)', legend=['f(x)', 'Tangent line (x=1)'])"
   ]
  },
  {
   "cell_type": "markdown",
   "metadata": {},
   "source": [
    "## Automatic Differentiation"
   ]
  },
  {
   "cell_type": "code",
   "execution_count": 125,
   "metadata": {},
   "outputs": [
    {
     "name": "stdout",
     "output_type": "stream",
     "text": [
      "2021-09-11 15:49:00.880163\n"
     ]
    },
    {
     "data": {
      "text/plain": [
       "tensor([0., 1., 2., 3.])"
      ]
     },
     "execution_count": 125,
     "metadata": {},
     "output_type": "execute_result"
    }
   ],
   "source": [
    "print(datetime.datetime.now())\n",
    "\n",
    "x = torch.arange(4.0)\n",
    "x"
   ]
  },
  {
   "cell_type": "code",
   "execution_count": 126,
   "metadata": {},
   "outputs": [
    {
     "name": "stdout",
     "output_type": "stream",
     "text": [
      "2021-09-11 15:49:21.768494\n"
     ]
    }
   ],
   "source": [
    "print(datetime.datetime.now())\n",
    "x.requires_grad_(True) \n",
    "x.grad  "
   ]
  },
  {
   "cell_type": "code",
   "execution_count": 127,
   "metadata": {},
   "outputs": [
    {
     "name": "stdout",
     "output_type": "stream",
     "text": [
      "2021-09-11 15:49:32.535669\n"
     ]
    },
    {
     "data": {
      "text/plain": [
       "tensor(28., grad_fn=<MulBackward0>)"
      ]
     },
     "execution_count": 127,
     "metadata": {},
     "output_type": "execute_result"
    }
   ],
   "source": [
    "print(datetime.datetime.now())\n",
    "y = 2 * torch.dot(x, x)\n",
    "y"
   ]
  },
  {
   "cell_type": "code",
   "execution_count": 128,
   "metadata": {},
   "outputs": [
    {
     "name": "stdout",
     "output_type": "stream",
     "text": [
      "2021-09-11 15:49:48.206034\n"
     ]
    },
    {
     "data": {
      "text/plain": [
       "tensor([ 0.,  4.,  8., 12.])"
      ]
     },
     "execution_count": 128,
     "metadata": {},
     "output_type": "execute_result"
    }
   ],
   "source": [
    "print(datetime.datetime.now())\n",
    "y.backward()\n",
    "x.grad"
   ]
  },
  {
   "cell_type": "code",
   "execution_count": 129,
   "metadata": {},
   "outputs": [
    {
     "name": "stdout",
     "output_type": "stream",
     "text": [
      "2021-09-11 15:49:56.149584\n"
     ]
    },
    {
     "data": {
      "text/plain": [
       "tensor([True, True, True, True])"
      ]
     },
     "execution_count": 129,
     "metadata": {},
     "output_type": "execute_result"
    }
   ],
   "source": [
    "print(datetime.datetime.now())\n",
    "x.grad == 4 * x"
   ]
  },
  {
   "cell_type": "code",
   "execution_count": 130,
   "metadata": {},
   "outputs": [
    {
     "name": "stdout",
     "output_type": "stream",
     "text": [
      "2021-09-11 15:50:06.986880\n"
     ]
    },
    {
     "data": {
      "text/plain": [
       "tensor([1., 1., 1., 1.])"
      ]
     },
     "execution_count": 130,
     "metadata": {},
     "output_type": "execute_result"
    }
   ],
   "source": [
    "print(datetime.datetime.now())\n",
    "x.grad.zero_()\n",
    "y = x.sum()\n",
    "y.backward()\n",
    "x.grad"
   ]
  },
  {
   "cell_type": "code",
   "execution_count": 131,
   "metadata": {},
   "outputs": [
    {
     "name": "stdout",
     "output_type": "stream",
     "text": [
      "2021-09-11 15:50:25.248253\n"
     ]
    },
    {
     "data": {
      "text/plain": [
       "tensor([0., 2., 4., 6.])"
      ]
     },
     "execution_count": 131,
     "metadata": {},
     "output_type": "execute_result"
    }
   ],
   "source": [
    "print(datetime.datetime.now())\n",
    "x.grad.zero_()\n",
    "y = x * x\n",
    "y.sum().backward()\n",
    "x.grad"
   ]
  },
  {
   "cell_type": "code",
   "execution_count": 132,
   "metadata": {},
   "outputs": [
    {
     "name": "stdout",
     "output_type": "stream",
     "text": [
      "2021-09-11 15:50:39.094649\n"
     ]
    },
    {
     "data": {
      "text/plain": [
       "tensor([True, True, True, True])"
      ]
     },
     "execution_count": 132,
     "metadata": {},
     "output_type": "execute_result"
    }
   ],
   "source": [
    "print(datetime.datetime.now())\n",
    "x.grad.zero_()\n",
    "y = x * x\n",
    "u = y.detach()\n",
    "z = u * x\n",
    "\n",
    "z.sum().backward()\n",
    "x.grad == u"
   ]
  },
  {
   "cell_type": "code",
   "execution_count": 133,
   "metadata": {},
   "outputs": [
    {
     "name": "stdout",
     "output_type": "stream",
     "text": [
      "2021-09-11 15:50:56.197274\n"
     ]
    },
    {
     "data": {
      "text/plain": [
       "tensor([True, True, True, True])"
      ]
     },
     "execution_count": 133,
     "metadata": {},
     "output_type": "execute_result"
    }
   ],
   "source": [
    "print(datetime.datetime.now())\n",
    "x.grad.zero_()\n",
    "y.sum().backward()\n",
    "x.grad == 2 * x"
   ]
  },
  {
   "cell_type": "code",
   "execution_count": 150,
   "metadata": {},
   "outputs": [
    {
     "name": "stdout",
     "output_type": "stream",
     "text": [
      "2021-09-11 16:00:29.906437\n"
     ]
    }
   ],
   "source": [
    "print(datetime.datetime.now())\n",
    "def f(a):\n",
    "    b = a * 2\n",
    "    while b.norm() < 1000:\n",
    "        b = b * 2\n",
    "    if b.sum() > 0:\n",
    "        c = b\n",
    "    else:\n",
    "        c = 100 * b\n",
    "    return c"
   ]
  },
  {
   "cell_type": "code",
   "execution_count": 151,
   "metadata": {},
   "outputs": [
    {
     "name": "stdout",
     "output_type": "stream",
     "text": [
      "2021-09-11 16:00:38.266364\n"
     ]
    }
   ],
   "source": [
    "print(datetime.datetime.now())\n",
    "a = torch.randn(size=(), requires_grad=True)\n",
    "d = f(a)\n",
    "d.backward()"
   ]
  },
  {
   "cell_type": "code",
   "execution_count": 152,
   "metadata": {},
   "outputs": [
    {
     "name": "stdout",
     "output_type": "stream",
     "text": [
      "2021-09-11 16:00:40.395913\n"
     ]
    },
    {
     "data": {
      "text/plain": [
       "tensor(True)"
      ]
     },
     "execution_count": 152,
     "metadata": {},
     "output_type": "execute_result"
    }
   ],
   "source": [
    "print(datetime.datetime.now())\n",
    "a.grad == d / a"
   ]
  },
  {
   "cell_type": "markdown",
   "metadata": {},
   "source": [
    "## Probability"
   ]
  },
  {
   "cell_type": "code",
   "execution_count": 140,
   "metadata": {},
   "outputs": [
    {
     "name": "stdout",
     "output_type": "stream",
     "text": [
      "2021-09-11 15:54:07.350089\n"
     ]
    }
   ],
   "source": [
    "print(datetime.datetime.now())\n",
    "%matplotlib inline\n",
    "import torch\n",
    "from torch.distributions import multinomial\n",
    "from d2l import torch as d2l"
   ]
  },
  {
   "cell_type": "code",
   "execution_count": 141,
   "metadata": {},
   "outputs": [
    {
     "name": "stdout",
     "output_type": "stream",
     "text": [
      "2021-09-11 15:54:19.688877\n"
     ]
    },
    {
     "data": {
      "text/plain": [
       "tensor([0., 0., 0., 1., 0., 0.])"
      ]
     },
     "execution_count": 141,
     "metadata": {},
     "output_type": "execute_result"
    }
   ],
   "source": [
    "print(datetime.datetime.now())\n",
    "fair_probs = torch.ones([6]) / 6\n",
    "multinomial.Multinomial(1, fair_probs).sample()"
   ]
  },
  {
   "cell_type": "code",
   "execution_count": 142,
   "metadata": {},
   "outputs": [
    {
     "name": "stdout",
     "output_type": "stream",
     "text": [
      "2021-09-11 15:54:56.834570\n"
     ]
    },
    {
     "data": {
      "text/plain": [
       "tensor([3., 0., 1., 2., 3., 1.])"
      ]
     },
     "execution_count": 142,
     "metadata": {},
     "output_type": "execute_result"
    }
   ],
   "source": [
    "print(datetime.datetime.now())\n",
    "multinomial.Multinomial(10, fair_probs).sample()"
   ]
  },
  {
   "cell_type": "code",
   "execution_count": 144,
   "metadata": {},
   "outputs": [
    {
     "name": "stdout",
     "output_type": "stream",
     "text": [
      "2021-09-11 15:55:25.564508\n"
     ]
    },
    {
     "data": {
      "text/plain": [
       "tensor([0.1580, 0.1670, 0.1780, 0.1850, 0.1710, 0.1410])"
      ]
     },
     "execution_count": 144,
     "metadata": {},
     "output_type": "execute_result"
    }
   ],
   "source": [
    "print(datetime.datetime.now())\n",
    "counts = multinomial.Multinomial(1000, fair_probs).sample()\n",
    "counts / 1000  "
   ]
  },
  {
   "cell_type": "code",
   "execution_count": 145,
   "metadata": {},
   "outputs": [
    {
     "name": "stdout",
     "output_type": "stream",
     "text": [
      "2021-09-11 15:55:40.090025\n"
     ]
    },
    {
     "data": {
      "image/svg+xml": [
       "<?xml version=\"1.0\" encoding=\"utf-8\" standalone=\"no\"?>\r\n",
       "<!DOCTYPE svg PUBLIC \"-//W3C//DTD SVG 1.1//EN\"\r\n",
       "  \"http://www.w3.org/Graphics/SVG/1.1/DTD/svg11.dtd\">\r\n",
       "<!-- Created with matplotlib (https://matplotlib.org/) -->\r\n",
       "<svg height=\"289.37625pt\" version=\"1.1\" viewBox=\"0 0 398.50625 289.37625\" width=\"398.50625pt\" xmlns=\"http://www.w3.org/2000/svg\" xmlns:xlink=\"http://www.w3.org/1999/xlink\">\r\n",
       " <metadata>\r\n",
       "  <rdf:RDF xmlns:cc=\"http://creativecommons.org/ns#\" xmlns:dc=\"http://purl.org/dc/elements/1.1/\" xmlns:rdf=\"http://www.w3.org/1999/02/22-rdf-syntax-ns#\">\r\n",
       "   <cc:Work>\r\n",
       "    <dc:type rdf:resource=\"http://purl.org/dc/dcmitype/StillImage\"/>\r\n",
       "    <dc:date>2021-09-11T15:55:40.268437</dc:date>\r\n",
       "    <dc:format>image/svg+xml</dc:format>\r\n",
       "    <dc:creator>\r\n",
       "     <cc:Agent>\r\n",
       "      <dc:title>Matplotlib v3.3.2, https://matplotlib.org/</dc:title>\r\n",
       "     </cc:Agent>\r\n",
       "    </dc:creator>\r\n",
       "   </cc:Work>\r\n",
       "  </rdf:RDF>\r\n",
       " </metadata>\r\n",
       " <defs>\r\n",
       "  <style type=\"text/css\">*{stroke-linecap:butt;stroke-linejoin:round;}</style>\r\n",
       " </defs>\r\n",
       " <g id=\"figure_1\">\r\n",
       "  <g id=\"patch_1\">\r\n",
       "   <path d=\"M 0 289.37625 \r\n",
       "L 398.50625 289.37625 \r\n",
       "L 398.50625 0 \r\n",
       "L 0 0 \r\n",
       "z\r\n",
       "\" style=\"fill:none;\"/>\r\n",
       "  </g>\r\n",
       "  <g id=\"axes_1\">\r\n",
       "   <g id=\"patch_2\">\r\n",
       "    <path d=\"M 56.50625 251.82 \r\n",
       "L 391.30625 251.82 \r\n",
       "L 391.30625 7.2 \r\n",
       "L 56.50625 7.2 \r\n",
       "z\r\n",
       "\" style=\"fill:#ffffff;\"/>\r\n",
       "   </g>\r\n",
       "   <g id=\"matplotlib.axis_1\">\r\n",
       "    <g id=\"xtick_1\">\r\n",
       "     <g id=\"line2d_1\">\r\n",
       "      <defs>\r\n",
       "       <path d=\"M 0 0 \r\n",
       "L 0 3.5 \r\n",
       "\" id=\"m272c4f01e2\" style=\"stroke:#000000;stroke-width:0.8;\"/>\r\n",
       "      </defs>\r\n",
       "      <g>\r\n",
       "       <use style=\"stroke:#000000;stroke-width:0.8;\" x=\"71.724432\" xlink:href=\"#m272c4f01e2\" y=\"251.82\"/>\r\n",
       "      </g>\r\n",
       "     </g>\r\n",
       "     <g id=\"text_1\">\r\n",
       "      <!-- 0 -->\r\n",
       "      <g transform=\"translate(68.543182 266.418437)scale(0.1 -0.1)\">\r\n",
       "       <defs>\r\n",
       "        <path d=\"M 31.78125 66.40625 \r\n",
       "Q 24.171875 66.40625 20.328125 58.90625 \r\n",
       "Q 16.5 51.421875 16.5 36.375 \r\n",
       "Q 16.5 21.390625 20.328125 13.890625 \r\n",
       "Q 24.171875 6.390625 31.78125 6.390625 \r\n",
       "Q 39.453125 6.390625 43.28125 13.890625 \r\n",
       "Q 47.125 21.390625 47.125 36.375 \r\n",
       "Q 47.125 51.421875 43.28125 58.90625 \r\n",
       "Q 39.453125 66.40625 31.78125 66.40625 \r\n",
       "z\r\n",
       "M 31.78125 74.21875 \r\n",
       "Q 44.046875 74.21875 50.515625 64.515625 \r\n",
       "Q 56.984375 54.828125 56.984375 36.375 \r\n",
       "Q 56.984375 17.96875 50.515625 8.265625 \r\n",
       "Q 44.046875 -1.421875 31.78125 -1.421875 \r\n",
       "Q 19.53125 -1.421875 13.0625 8.265625 \r\n",
       "Q 6.59375 17.96875 6.59375 36.375 \r\n",
       "Q 6.59375 54.828125 13.0625 64.515625 \r\n",
       "Q 19.53125 74.21875 31.78125 74.21875 \r\n",
       "z\r\n",
       "\" id=\"DejaVuSans-48\"/>\r\n",
       "       </defs>\r\n",
       "       <use xlink:href=\"#DejaVuSans-48\"/>\r\n",
       "      </g>\r\n",
       "     </g>\r\n",
       "    </g>\r\n",
       "    <g id=\"xtick_2\">\r\n",
       "     <g id=\"line2d_2\">\r\n",
       "      <g>\r\n",
       "       <use style=\"stroke:#000000;stroke-width:0.8;\" x=\"132.719149\" xlink:href=\"#m272c4f01e2\" y=\"251.82\"/>\r\n",
       "      </g>\r\n",
       "     </g>\r\n",
       "     <g id=\"text_2\">\r\n",
       "      <!-- 100 -->\r\n",
       "      <g transform=\"translate(123.175399 266.418437)scale(0.1 -0.1)\">\r\n",
       "       <defs>\r\n",
       "        <path d=\"M 12.40625 8.296875 \r\n",
       "L 28.515625 8.296875 \r\n",
       "L 28.515625 63.921875 \r\n",
       "L 10.984375 60.40625 \r\n",
       "L 10.984375 69.390625 \r\n",
       "L 28.421875 72.90625 \r\n",
       "L 38.28125 72.90625 \r\n",
       "L 38.28125 8.296875 \r\n",
       "L 54.390625 8.296875 \r\n",
       "L 54.390625 0 \r\n",
       "L 12.40625 0 \r\n",
       "z\r\n",
       "\" id=\"DejaVuSans-49\"/>\r\n",
       "       </defs>\r\n",
       "       <use xlink:href=\"#DejaVuSans-49\"/>\r\n",
       "       <use x=\"63.623047\" xlink:href=\"#DejaVuSans-48\"/>\r\n",
       "       <use x=\"127.246094\" xlink:href=\"#DejaVuSans-48\"/>\r\n",
       "      </g>\r\n",
       "     </g>\r\n",
       "    </g>\r\n",
       "    <g id=\"xtick_3\">\r\n",
       "     <g id=\"line2d_3\">\r\n",
       "      <g>\r\n",
       "       <use style=\"stroke:#000000;stroke-width:0.8;\" x=\"193.713865\" xlink:href=\"#m272c4f01e2\" y=\"251.82\"/>\r\n",
       "      </g>\r\n",
       "     </g>\r\n",
       "     <g id=\"text_3\">\r\n",
       "      <!-- 200 -->\r\n",
       "      <g transform=\"translate(184.170115 266.418437)scale(0.1 -0.1)\">\r\n",
       "       <defs>\r\n",
       "        <path d=\"M 19.1875 8.296875 \r\n",
       "L 53.609375 8.296875 \r\n",
       "L 53.609375 0 \r\n",
       "L 7.328125 0 \r\n",
       "L 7.328125 8.296875 \r\n",
       "Q 12.9375 14.109375 22.625 23.890625 \r\n",
       "Q 32.328125 33.6875 34.8125 36.53125 \r\n",
       "Q 39.546875 41.84375 41.421875 45.53125 \r\n",
       "Q 43.3125 49.21875 43.3125 52.78125 \r\n",
       "Q 43.3125 58.59375 39.234375 62.25 \r\n",
       "Q 35.15625 65.921875 28.609375 65.921875 \r\n",
       "Q 23.96875 65.921875 18.8125 64.3125 \r\n",
       "Q 13.671875 62.703125 7.8125 59.421875 \r\n",
       "L 7.8125 69.390625 \r\n",
       "Q 13.765625 71.78125 18.9375 73 \r\n",
       "Q 24.125 74.21875 28.421875 74.21875 \r\n",
       "Q 39.75 74.21875 46.484375 68.546875 \r\n",
       "Q 53.21875 62.890625 53.21875 53.421875 \r\n",
       "Q 53.21875 48.921875 51.53125 44.890625 \r\n",
       "Q 49.859375 40.875 45.40625 35.40625 \r\n",
       "Q 44.1875 33.984375 37.640625 27.21875 \r\n",
       "Q 31.109375 20.453125 19.1875 8.296875 \r\n",
       "z\r\n",
       "\" id=\"DejaVuSans-50\"/>\r\n",
       "       </defs>\r\n",
       "       <use xlink:href=\"#DejaVuSans-50\"/>\r\n",
       "       <use x=\"63.623047\" xlink:href=\"#DejaVuSans-48\"/>\r\n",
       "       <use x=\"127.246094\" xlink:href=\"#DejaVuSans-48\"/>\r\n",
       "      </g>\r\n",
       "     </g>\r\n",
       "    </g>\r\n",
       "    <g id=\"xtick_4\">\r\n",
       "     <g id=\"line2d_4\">\r\n",
       "      <g>\r\n",
       "       <use style=\"stroke:#000000;stroke-width:0.8;\" x=\"254.708582\" xlink:href=\"#m272c4f01e2\" y=\"251.82\"/>\r\n",
       "      </g>\r\n",
       "     </g>\r\n",
       "     <g id=\"text_4\">\r\n",
       "      <!-- 300 -->\r\n",
       "      <g transform=\"translate(245.164832 266.418437)scale(0.1 -0.1)\">\r\n",
       "       <defs>\r\n",
       "        <path d=\"M 40.578125 39.3125 \r\n",
       "Q 47.65625 37.796875 51.625 33 \r\n",
       "Q 55.609375 28.21875 55.609375 21.1875 \r\n",
       "Q 55.609375 10.40625 48.1875 4.484375 \r\n",
       "Q 40.765625 -1.421875 27.09375 -1.421875 \r\n",
       "Q 22.515625 -1.421875 17.65625 -0.515625 \r\n",
       "Q 12.796875 0.390625 7.625 2.203125 \r\n",
       "L 7.625 11.71875 \r\n",
       "Q 11.71875 9.328125 16.59375 8.109375 \r\n",
       "Q 21.484375 6.890625 26.8125 6.890625 \r\n",
       "Q 36.078125 6.890625 40.9375 10.546875 \r\n",
       "Q 45.796875 14.203125 45.796875 21.1875 \r\n",
       "Q 45.796875 27.640625 41.28125 31.265625 \r\n",
       "Q 36.765625 34.90625 28.71875 34.90625 \r\n",
       "L 20.21875 34.90625 \r\n",
       "L 20.21875 43.015625 \r\n",
       "L 29.109375 43.015625 \r\n",
       "Q 36.375 43.015625 40.234375 45.921875 \r\n",
       "Q 44.09375 48.828125 44.09375 54.296875 \r\n",
       "Q 44.09375 59.90625 40.109375 62.90625 \r\n",
       "Q 36.140625 65.921875 28.71875 65.921875 \r\n",
       "Q 24.65625 65.921875 20.015625 65.03125 \r\n",
       "Q 15.375 64.15625 9.8125 62.3125 \r\n",
       "L 9.8125 71.09375 \r\n",
       "Q 15.4375 72.65625 20.34375 73.4375 \r\n",
       "Q 25.25 74.21875 29.59375 74.21875 \r\n",
       "Q 40.828125 74.21875 47.359375 69.109375 \r\n",
       "Q 53.90625 64.015625 53.90625 55.328125 \r\n",
       "Q 53.90625 49.265625 50.4375 45.09375 \r\n",
       "Q 46.96875 40.921875 40.578125 39.3125 \r\n",
       "z\r\n",
       "\" id=\"DejaVuSans-51\"/>\r\n",
       "       </defs>\r\n",
       "       <use xlink:href=\"#DejaVuSans-51\"/>\r\n",
       "       <use x=\"63.623047\" xlink:href=\"#DejaVuSans-48\"/>\r\n",
       "       <use x=\"127.246094\" xlink:href=\"#DejaVuSans-48\"/>\r\n",
       "      </g>\r\n",
       "     </g>\r\n",
       "    </g>\r\n",
       "    <g id=\"xtick_5\">\r\n",
       "     <g id=\"line2d_5\">\r\n",
       "      <g>\r\n",
       "       <use style=\"stroke:#000000;stroke-width:0.8;\" x=\"315.703299\" xlink:href=\"#m272c4f01e2\" y=\"251.82\"/>\r\n",
       "      </g>\r\n",
       "     </g>\r\n",
       "     <g id=\"text_5\">\r\n",
       "      <!-- 400 -->\r\n",
       "      <g transform=\"translate(306.159549 266.418437)scale(0.1 -0.1)\">\r\n",
       "       <defs>\r\n",
       "        <path d=\"M 37.796875 64.3125 \r\n",
       "L 12.890625 25.390625 \r\n",
       "L 37.796875 25.390625 \r\n",
       "z\r\n",
       "M 35.203125 72.90625 \r\n",
       "L 47.609375 72.90625 \r\n",
       "L 47.609375 25.390625 \r\n",
       "L 58.015625 25.390625 \r\n",
       "L 58.015625 17.1875 \r\n",
       "L 47.609375 17.1875 \r\n",
       "L 47.609375 0 \r\n",
       "L 37.796875 0 \r\n",
       "L 37.796875 17.1875 \r\n",
       "L 4.890625 17.1875 \r\n",
       "L 4.890625 26.703125 \r\n",
       "z\r\n",
       "\" id=\"DejaVuSans-52\"/>\r\n",
       "       </defs>\r\n",
       "       <use xlink:href=\"#DejaVuSans-52\"/>\r\n",
       "       <use x=\"63.623047\" xlink:href=\"#DejaVuSans-48\"/>\r\n",
       "       <use x=\"127.246094\" xlink:href=\"#DejaVuSans-48\"/>\r\n",
       "      </g>\r\n",
       "     </g>\r\n",
       "    </g>\r\n",
       "    <g id=\"xtick_6\">\r\n",
       "     <g id=\"line2d_6\">\r\n",
       "      <g>\r\n",
       "       <use style=\"stroke:#000000;stroke-width:0.8;\" x=\"376.698015\" xlink:href=\"#m272c4f01e2\" y=\"251.82\"/>\r\n",
       "      </g>\r\n",
       "     </g>\r\n",
       "     <g id=\"text_6\">\r\n",
       "      <!-- 500 -->\r\n",
       "      <g transform=\"translate(367.154265 266.418437)scale(0.1 -0.1)\">\r\n",
       "       <defs>\r\n",
       "        <path d=\"M 10.796875 72.90625 \r\n",
       "L 49.515625 72.90625 \r\n",
       "L 49.515625 64.59375 \r\n",
       "L 19.828125 64.59375 \r\n",
       "L 19.828125 46.734375 \r\n",
       "Q 21.96875 47.46875 24.109375 47.828125 \r\n",
       "Q 26.265625 48.1875 28.421875 48.1875 \r\n",
       "Q 40.625 48.1875 47.75 41.5 \r\n",
       "Q 54.890625 34.8125 54.890625 23.390625 \r\n",
       "Q 54.890625 11.625 47.5625 5.09375 \r\n",
       "Q 40.234375 -1.421875 26.90625 -1.421875 \r\n",
       "Q 22.3125 -1.421875 17.546875 -0.640625 \r\n",
       "Q 12.796875 0.140625 7.71875 1.703125 \r\n",
       "L 7.71875 11.625 \r\n",
       "Q 12.109375 9.234375 16.796875 8.0625 \r\n",
       "Q 21.484375 6.890625 26.703125 6.890625 \r\n",
       "Q 35.15625 6.890625 40.078125 11.328125 \r\n",
       "Q 45.015625 15.765625 45.015625 23.390625 \r\n",
       "Q 45.015625 31 40.078125 35.4375 \r\n",
       "Q 35.15625 39.890625 26.703125 39.890625 \r\n",
       "Q 22.75 39.890625 18.8125 39.015625 \r\n",
       "Q 14.890625 38.140625 10.796875 36.28125 \r\n",
       "z\r\n",
       "\" id=\"DejaVuSans-53\"/>\r\n",
       "       </defs>\r\n",
       "       <use xlink:href=\"#DejaVuSans-53\"/>\r\n",
       "       <use x=\"63.623047\" xlink:href=\"#DejaVuSans-48\"/>\r\n",
       "       <use x=\"127.246094\" xlink:href=\"#DejaVuSans-48\"/>\r\n",
       "      </g>\r\n",
       "     </g>\r\n",
       "    </g>\r\n",
       "    <g id=\"text_7\">\r\n",
       "     <!-- Groups of experiments -->\r\n",
       "     <g transform=\"translate(166.760156 280.096562)scale(0.1 -0.1)\">\r\n",
       "      <defs>\r\n",
       "       <path d=\"M 59.515625 10.40625 \r\n",
       "L 59.515625 29.984375 \r\n",
       "L 43.40625 29.984375 \r\n",
       "L 43.40625 38.09375 \r\n",
       "L 69.28125 38.09375 \r\n",
       "L 69.28125 6.78125 \r\n",
       "Q 63.578125 2.734375 56.6875 0.65625 \r\n",
       "Q 49.8125 -1.421875 42 -1.421875 \r\n",
       "Q 24.90625 -1.421875 15.25 8.5625 \r\n",
       "Q 5.609375 18.5625 5.609375 36.375 \r\n",
       "Q 5.609375 54.25 15.25 64.234375 \r\n",
       "Q 24.90625 74.21875 42 74.21875 \r\n",
       "Q 49.125 74.21875 55.546875 72.453125 \r\n",
       "Q 61.96875 70.703125 67.390625 67.28125 \r\n",
       "L 67.390625 56.78125 \r\n",
       "Q 61.921875 61.421875 55.765625 63.765625 \r\n",
       "Q 49.609375 66.109375 42.828125 66.109375 \r\n",
       "Q 29.4375 66.109375 22.71875 58.640625 \r\n",
       "Q 16.015625 51.171875 16.015625 36.375 \r\n",
       "Q 16.015625 21.625 22.71875 14.15625 \r\n",
       "Q 29.4375 6.6875 42.828125 6.6875 \r\n",
       "Q 48.046875 6.6875 52.140625 7.59375 \r\n",
       "Q 56.25 8.5 59.515625 10.40625 \r\n",
       "z\r\n",
       "\" id=\"DejaVuSans-71\"/>\r\n",
       "       <path d=\"M 41.109375 46.296875 \r\n",
       "Q 39.59375 47.171875 37.8125 47.578125 \r\n",
       "Q 36.03125 48 33.890625 48 \r\n",
       "Q 26.265625 48 22.1875 43.046875 \r\n",
       "Q 18.109375 38.09375 18.109375 28.8125 \r\n",
       "L 18.109375 0 \r\n",
       "L 9.078125 0 \r\n",
       "L 9.078125 54.6875 \r\n",
       "L 18.109375 54.6875 \r\n",
       "L 18.109375 46.1875 \r\n",
       "Q 20.953125 51.171875 25.484375 53.578125 \r\n",
       "Q 30.03125 56 36.53125 56 \r\n",
       "Q 37.453125 56 38.578125 55.875 \r\n",
       "Q 39.703125 55.765625 41.0625 55.515625 \r\n",
       "z\r\n",
       "\" id=\"DejaVuSans-114\"/>\r\n",
       "       <path d=\"M 30.609375 48.390625 \r\n",
       "Q 23.390625 48.390625 19.1875 42.75 \r\n",
       "Q 14.984375 37.109375 14.984375 27.296875 \r\n",
       "Q 14.984375 17.484375 19.15625 11.84375 \r\n",
       "Q 23.34375 6.203125 30.609375 6.203125 \r\n",
       "Q 37.796875 6.203125 41.984375 11.859375 \r\n",
       "Q 46.1875 17.53125 46.1875 27.296875 \r\n",
       "Q 46.1875 37.015625 41.984375 42.703125 \r\n",
       "Q 37.796875 48.390625 30.609375 48.390625 \r\n",
       "z\r\n",
       "M 30.609375 56 \r\n",
       "Q 42.328125 56 49.015625 48.375 \r\n",
       "Q 55.71875 40.765625 55.71875 27.296875 \r\n",
       "Q 55.71875 13.875 49.015625 6.21875 \r\n",
       "Q 42.328125 -1.421875 30.609375 -1.421875 \r\n",
       "Q 18.84375 -1.421875 12.171875 6.21875 \r\n",
       "Q 5.515625 13.875 5.515625 27.296875 \r\n",
       "Q 5.515625 40.765625 12.171875 48.375 \r\n",
       "Q 18.84375 56 30.609375 56 \r\n",
       "z\r\n",
       "\" id=\"DejaVuSans-111\"/>\r\n",
       "       <path d=\"M 8.5 21.578125 \r\n",
       "L 8.5 54.6875 \r\n",
       "L 17.484375 54.6875 \r\n",
       "L 17.484375 21.921875 \r\n",
       "Q 17.484375 14.15625 20.5 10.265625 \r\n",
       "Q 23.53125 6.390625 29.59375 6.390625 \r\n",
       "Q 36.859375 6.390625 41.078125 11.03125 \r\n",
       "Q 45.3125 15.671875 45.3125 23.6875 \r\n",
       "L 45.3125 54.6875 \r\n",
       "L 54.296875 54.6875 \r\n",
       "L 54.296875 0 \r\n",
       "L 45.3125 0 \r\n",
       "L 45.3125 8.40625 \r\n",
       "Q 42.046875 3.421875 37.71875 1 \r\n",
       "Q 33.40625 -1.421875 27.6875 -1.421875 \r\n",
       "Q 18.265625 -1.421875 13.375 4.4375 \r\n",
       "Q 8.5 10.296875 8.5 21.578125 \r\n",
       "z\r\n",
       "M 31.109375 56 \r\n",
       "z\r\n",
       "\" id=\"DejaVuSans-117\"/>\r\n",
       "       <path d=\"M 18.109375 8.203125 \r\n",
       "L 18.109375 -20.796875 \r\n",
       "L 9.078125 -20.796875 \r\n",
       "L 9.078125 54.6875 \r\n",
       "L 18.109375 54.6875 \r\n",
       "L 18.109375 46.390625 \r\n",
       "Q 20.953125 51.265625 25.265625 53.625 \r\n",
       "Q 29.59375 56 35.59375 56 \r\n",
       "Q 45.5625 56 51.78125 48.09375 \r\n",
       "Q 58.015625 40.1875 58.015625 27.296875 \r\n",
       "Q 58.015625 14.40625 51.78125 6.484375 \r\n",
       "Q 45.5625 -1.421875 35.59375 -1.421875 \r\n",
       "Q 29.59375 -1.421875 25.265625 0.953125 \r\n",
       "Q 20.953125 3.328125 18.109375 8.203125 \r\n",
       "z\r\n",
       "M 48.6875 27.296875 \r\n",
       "Q 48.6875 37.203125 44.609375 42.84375 \r\n",
       "Q 40.53125 48.484375 33.40625 48.484375 \r\n",
       "Q 26.265625 48.484375 22.1875 42.84375 \r\n",
       "Q 18.109375 37.203125 18.109375 27.296875 \r\n",
       "Q 18.109375 17.390625 22.1875 11.75 \r\n",
       "Q 26.265625 6.109375 33.40625 6.109375 \r\n",
       "Q 40.53125 6.109375 44.609375 11.75 \r\n",
       "Q 48.6875 17.390625 48.6875 27.296875 \r\n",
       "z\r\n",
       "\" id=\"DejaVuSans-112\"/>\r\n",
       "       <path d=\"M 44.28125 53.078125 \r\n",
       "L 44.28125 44.578125 \r\n",
       "Q 40.484375 46.53125 36.375 47.5 \r\n",
       "Q 32.28125 48.484375 27.875 48.484375 \r\n",
       "Q 21.1875 48.484375 17.84375 46.4375 \r\n",
       "Q 14.5 44.390625 14.5 40.28125 \r\n",
       "Q 14.5 37.15625 16.890625 35.375 \r\n",
       "Q 19.28125 33.59375 26.515625 31.984375 \r\n",
       "L 29.59375 31.296875 \r\n",
       "Q 39.15625 29.25 43.1875 25.515625 \r\n",
       "Q 47.21875 21.78125 47.21875 15.09375 \r\n",
       "Q 47.21875 7.46875 41.1875 3.015625 \r\n",
       "Q 35.15625 -1.421875 24.609375 -1.421875 \r\n",
       "Q 20.21875 -1.421875 15.453125 -0.5625 \r\n",
       "Q 10.6875 0.296875 5.421875 2 \r\n",
       "L 5.421875 11.28125 \r\n",
       "Q 10.40625 8.6875 15.234375 7.390625 \r\n",
       "Q 20.0625 6.109375 24.8125 6.109375 \r\n",
       "Q 31.15625 6.109375 34.5625 8.28125 \r\n",
       "Q 37.984375 10.453125 37.984375 14.40625 \r\n",
       "Q 37.984375 18.0625 35.515625 20.015625 \r\n",
       "Q 33.0625 21.96875 24.703125 23.78125 \r\n",
       "L 21.578125 24.515625 \r\n",
       "Q 13.234375 26.265625 9.515625 29.90625 \r\n",
       "Q 5.8125 33.546875 5.8125 39.890625 \r\n",
       "Q 5.8125 47.609375 11.28125 51.796875 \r\n",
       "Q 16.75 56 26.8125 56 \r\n",
       "Q 31.78125 56 36.171875 55.265625 \r\n",
       "Q 40.578125 54.546875 44.28125 53.078125 \r\n",
       "z\r\n",
       "\" id=\"DejaVuSans-115\"/>\r\n",
       "       <path id=\"DejaVuSans-32\"/>\r\n",
       "       <path d=\"M 37.109375 75.984375 \r\n",
       "L 37.109375 68.5 \r\n",
       "L 28.515625 68.5 \r\n",
       "Q 23.6875 68.5 21.796875 66.546875 \r\n",
       "Q 19.921875 64.59375 19.921875 59.515625 \r\n",
       "L 19.921875 54.6875 \r\n",
       "L 34.71875 54.6875 \r\n",
       "L 34.71875 47.703125 \r\n",
       "L 19.921875 47.703125 \r\n",
       "L 19.921875 0 \r\n",
       "L 10.890625 0 \r\n",
       "L 10.890625 47.703125 \r\n",
       "L 2.296875 47.703125 \r\n",
       "L 2.296875 54.6875 \r\n",
       "L 10.890625 54.6875 \r\n",
       "L 10.890625 58.5 \r\n",
       "Q 10.890625 67.625 15.140625 71.796875 \r\n",
       "Q 19.390625 75.984375 28.609375 75.984375 \r\n",
       "z\r\n",
       "\" id=\"DejaVuSans-102\"/>\r\n",
       "       <path d=\"M 56.203125 29.59375 \r\n",
       "L 56.203125 25.203125 \r\n",
       "L 14.890625 25.203125 \r\n",
       "Q 15.484375 15.921875 20.484375 11.0625 \r\n",
       "Q 25.484375 6.203125 34.421875 6.203125 \r\n",
       "Q 39.59375 6.203125 44.453125 7.46875 \r\n",
       "Q 49.3125 8.734375 54.109375 11.28125 \r\n",
       "L 54.109375 2.78125 \r\n",
       "Q 49.265625 0.734375 44.1875 -0.34375 \r\n",
       "Q 39.109375 -1.421875 33.890625 -1.421875 \r\n",
       "Q 20.796875 -1.421875 13.15625 6.1875 \r\n",
       "Q 5.515625 13.8125 5.515625 26.8125 \r\n",
       "Q 5.515625 40.234375 12.765625 48.109375 \r\n",
       "Q 20.015625 56 32.328125 56 \r\n",
       "Q 43.359375 56 49.78125 48.890625 \r\n",
       "Q 56.203125 41.796875 56.203125 29.59375 \r\n",
       "z\r\n",
       "M 47.21875 32.234375 \r\n",
       "Q 47.125 39.59375 43.09375 43.984375 \r\n",
       "Q 39.0625 48.390625 32.421875 48.390625 \r\n",
       "Q 24.90625 48.390625 20.390625 44.140625 \r\n",
       "Q 15.875 39.890625 15.1875 32.171875 \r\n",
       "z\r\n",
       "\" id=\"DejaVuSans-101\"/>\r\n",
       "       <path d=\"M 54.890625 54.6875 \r\n",
       "L 35.109375 28.078125 \r\n",
       "L 55.90625 0 \r\n",
       "L 45.3125 0 \r\n",
       "L 29.390625 21.484375 \r\n",
       "L 13.484375 0 \r\n",
       "L 2.875 0 \r\n",
       "L 24.125 28.609375 \r\n",
       "L 4.6875 54.6875 \r\n",
       "L 15.28125 54.6875 \r\n",
       "L 29.78125 35.203125 \r\n",
       "L 44.28125 54.6875 \r\n",
       "z\r\n",
       "\" id=\"DejaVuSans-120\"/>\r\n",
       "       <path d=\"M 9.421875 54.6875 \r\n",
       "L 18.40625 54.6875 \r\n",
       "L 18.40625 0 \r\n",
       "L 9.421875 0 \r\n",
       "z\r\n",
       "M 9.421875 75.984375 \r\n",
       "L 18.40625 75.984375 \r\n",
       "L 18.40625 64.59375 \r\n",
       "L 9.421875 64.59375 \r\n",
       "z\r\n",
       "\" id=\"DejaVuSans-105\"/>\r\n",
       "       <path d=\"M 52 44.1875 \r\n",
       "Q 55.375 50.25 60.0625 53.125 \r\n",
       "Q 64.75 56 71.09375 56 \r\n",
       "Q 79.640625 56 84.28125 50.015625 \r\n",
       "Q 88.921875 44.046875 88.921875 33.015625 \r\n",
       "L 88.921875 0 \r\n",
       "L 79.890625 0 \r\n",
       "L 79.890625 32.71875 \r\n",
       "Q 79.890625 40.578125 77.09375 44.375 \r\n",
       "Q 74.3125 48.1875 68.609375 48.1875 \r\n",
       "Q 61.625 48.1875 57.5625 43.546875 \r\n",
       "Q 53.515625 38.921875 53.515625 30.90625 \r\n",
       "L 53.515625 0 \r\n",
       "L 44.484375 0 \r\n",
       "L 44.484375 32.71875 \r\n",
       "Q 44.484375 40.625 41.703125 44.40625 \r\n",
       "Q 38.921875 48.1875 33.109375 48.1875 \r\n",
       "Q 26.21875 48.1875 22.15625 43.53125 \r\n",
       "Q 18.109375 38.875 18.109375 30.90625 \r\n",
       "L 18.109375 0 \r\n",
       "L 9.078125 0 \r\n",
       "L 9.078125 54.6875 \r\n",
       "L 18.109375 54.6875 \r\n",
       "L 18.109375 46.1875 \r\n",
       "Q 21.1875 51.21875 25.484375 53.609375 \r\n",
       "Q 29.78125 56 35.6875 56 \r\n",
       "Q 41.65625 56 45.828125 52.96875 \r\n",
       "Q 50 49.953125 52 44.1875 \r\n",
       "z\r\n",
       "\" id=\"DejaVuSans-109\"/>\r\n",
       "       <path d=\"M 54.890625 33.015625 \r\n",
       "L 54.890625 0 \r\n",
       "L 45.90625 0 \r\n",
       "L 45.90625 32.71875 \r\n",
       "Q 45.90625 40.484375 42.875 44.328125 \r\n",
       "Q 39.84375 48.1875 33.796875 48.1875 \r\n",
       "Q 26.515625 48.1875 22.3125 43.546875 \r\n",
       "Q 18.109375 38.921875 18.109375 30.90625 \r\n",
       "L 18.109375 0 \r\n",
       "L 9.078125 0 \r\n",
       "L 9.078125 54.6875 \r\n",
       "L 18.109375 54.6875 \r\n",
       "L 18.109375 46.1875 \r\n",
       "Q 21.34375 51.125 25.703125 53.5625 \r\n",
       "Q 30.078125 56 35.796875 56 \r\n",
       "Q 45.21875 56 50.046875 50.171875 \r\n",
       "Q 54.890625 44.34375 54.890625 33.015625 \r\n",
       "z\r\n",
       "\" id=\"DejaVuSans-110\"/>\r\n",
       "       <path d=\"M 18.3125 70.21875 \r\n",
       "L 18.3125 54.6875 \r\n",
       "L 36.8125 54.6875 \r\n",
       "L 36.8125 47.703125 \r\n",
       "L 18.3125 47.703125 \r\n",
       "L 18.3125 18.015625 \r\n",
       "Q 18.3125 11.328125 20.140625 9.421875 \r\n",
       "Q 21.96875 7.515625 27.59375 7.515625 \r\n",
       "L 36.8125 7.515625 \r\n",
       "L 36.8125 0 \r\n",
       "L 27.59375 0 \r\n",
       "Q 17.1875 0 13.234375 3.875 \r\n",
       "Q 9.28125 7.765625 9.28125 18.015625 \r\n",
       "L 9.28125 47.703125 \r\n",
       "L 2.6875 47.703125 \r\n",
       "L 2.6875 54.6875 \r\n",
       "L 9.28125 54.6875 \r\n",
       "L 9.28125 70.21875 \r\n",
       "z\r\n",
       "\" id=\"DejaVuSans-116\"/>\r\n",
       "      </defs>\r\n",
       "      <use xlink:href=\"#DejaVuSans-71\"/>\r\n",
       "      <use x=\"77.490234\" xlink:href=\"#DejaVuSans-114\"/>\r\n",
       "      <use x=\"116.353516\" xlink:href=\"#DejaVuSans-111\"/>\r\n",
       "      <use x=\"177.535156\" xlink:href=\"#DejaVuSans-117\"/>\r\n",
       "      <use x=\"240.914062\" xlink:href=\"#DejaVuSans-112\"/>\r\n",
       "      <use x=\"304.390625\" xlink:href=\"#DejaVuSans-115\"/>\r\n",
       "      <use x=\"356.490234\" xlink:href=\"#DejaVuSans-32\"/>\r\n",
       "      <use x=\"388.277344\" xlink:href=\"#DejaVuSans-111\"/>\r\n",
       "      <use x=\"449.458984\" xlink:href=\"#DejaVuSans-102\"/>\r\n",
       "      <use x=\"484.664062\" xlink:href=\"#DejaVuSans-32\"/>\r\n",
       "      <use x=\"516.451172\" xlink:href=\"#DejaVuSans-101\"/>\r\n",
       "      <use x=\"576.224609\" xlink:href=\"#DejaVuSans-120\"/>\r\n",
       "      <use x=\"635.404297\" xlink:href=\"#DejaVuSans-112\"/>\r\n",
       "      <use x=\"698.880859\" xlink:href=\"#DejaVuSans-101\"/>\r\n",
       "      <use x=\"760.404297\" xlink:href=\"#DejaVuSans-114\"/>\r\n",
       "      <use x=\"801.517578\" xlink:href=\"#DejaVuSans-105\"/>\r\n",
       "      <use x=\"829.300781\" xlink:href=\"#DejaVuSans-109\"/>\r\n",
       "      <use x=\"926.712891\" xlink:href=\"#DejaVuSans-101\"/>\r\n",
       "      <use x=\"988.236328\" xlink:href=\"#DejaVuSans-110\"/>\r\n",
       "      <use x=\"1051.615234\" xlink:href=\"#DejaVuSans-116\"/>\r\n",
       "      <use x=\"1090.824219\" xlink:href=\"#DejaVuSans-115\"/>\r\n",
       "     </g>\r\n",
       "    </g>\r\n",
       "   </g>\r\n",
       "   <g id=\"matplotlib.axis_2\">\r\n",
       "    <g id=\"ytick_1\">\r\n",
       "     <g id=\"line2d_7\">\r\n",
       "      <defs>\r\n",
       "       <path d=\"M 0 0 \r\n",
       "L -3.5 0 \r\n",
       "\" id=\"mc685e7541e\" style=\"stroke:#000000;stroke-width:0.8;\"/>\r\n",
       "      </defs>\r\n",
       "      <g>\r\n",
       "       <use style=\"stroke:#000000;stroke-width:0.8;\" x=\"56.50625\" xlink:href=\"#mc685e7541e\" y=\"240.700911\"/>\r\n",
       "      </g>\r\n",
       "     </g>\r\n",
       "     <g id=\"text_8\">\r\n",
       "      <!-- 0.100 -->\r\n",
       "      <g transform=\"translate(20.878125 244.500129)scale(0.1 -0.1)\">\r\n",
       "       <defs>\r\n",
       "        <path d=\"M 10.6875 12.40625 \r\n",
       "L 21 12.40625 \r\n",
       "L 21 0 \r\n",
       "L 10.6875 0 \r\n",
       "z\r\n",
       "\" id=\"DejaVuSans-46\"/>\r\n",
       "       </defs>\r\n",
       "       <use xlink:href=\"#DejaVuSans-48\"/>\r\n",
       "       <use x=\"63.623047\" xlink:href=\"#DejaVuSans-46\"/>\r\n",
       "       <use x=\"95.410156\" xlink:href=\"#DejaVuSans-49\"/>\r\n",
       "       <use x=\"159.033203\" xlink:href=\"#DejaVuSans-48\"/>\r\n",
       "       <use x=\"222.65625\" xlink:href=\"#DejaVuSans-48\"/>\r\n",
       "      </g>\r\n",
       "     </g>\r\n",
       "    </g>\r\n",
       "    <g id=\"ytick_2\">\r\n",
       "     <g id=\"line2d_8\">\r\n",
       "      <g>\r\n",
       "       <use style=\"stroke:#000000;stroke-width:0.8;\" x=\"56.50625\" xlink:href=\"#mc685e7541e\" y=\"212.903185\"/>\r\n",
       "      </g>\r\n",
       "     </g>\r\n",
       "     <g id=\"text_9\">\r\n",
       "      <!-- 0.125 -->\r\n",
       "      <g transform=\"translate(20.878125 216.702404)scale(0.1 -0.1)\">\r\n",
       "       <use xlink:href=\"#DejaVuSans-48\"/>\r\n",
       "       <use x=\"63.623047\" xlink:href=\"#DejaVuSans-46\"/>\r\n",
       "       <use x=\"95.410156\" xlink:href=\"#DejaVuSans-49\"/>\r\n",
       "       <use x=\"159.033203\" xlink:href=\"#DejaVuSans-50\"/>\r\n",
       "       <use x=\"222.65625\" xlink:href=\"#DejaVuSans-53\"/>\r\n",
       "      </g>\r\n",
       "     </g>\r\n",
       "    </g>\r\n",
       "    <g id=\"ytick_3\">\r\n",
       "     <g id=\"line2d_9\">\r\n",
       "      <g>\r\n",
       "       <use style=\"stroke:#000000;stroke-width:0.8;\" x=\"56.50625\" xlink:href=\"#mc685e7541e\" y=\"185.105459\"/>\r\n",
       "      </g>\r\n",
       "     </g>\r\n",
       "     <g id=\"text_10\">\r\n",
       "      <!-- 0.150 -->\r\n",
       "      <g transform=\"translate(20.878125 188.904678)scale(0.1 -0.1)\">\r\n",
       "       <use xlink:href=\"#DejaVuSans-48\"/>\r\n",
       "       <use x=\"63.623047\" xlink:href=\"#DejaVuSans-46\"/>\r\n",
       "       <use x=\"95.410156\" xlink:href=\"#DejaVuSans-49\"/>\r\n",
       "       <use x=\"159.033203\" xlink:href=\"#DejaVuSans-53\"/>\r\n",
       "       <use x=\"222.65625\" xlink:href=\"#DejaVuSans-48\"/>\r\n",
       "      </g>\r\n",
       "     </g>\r\n",
       "    </g>\r\n",
       "    <g id=\"ytick_4\">\r\n",
       "     <g id=\"line2d_10\">\r\n",
       "      <g>\r\n",
       "       <use style=\"stroke:#000000;stroke-width:0.8;\" x=\"56.50625\" xlink:href=\"#mc685e7541e\" y=\"157.307733\"/>\r\n",
       "      </g>\r\n",
       "     </g>\r\n",
       "     <g id=\"text_11\">\r\n",
       "      <!-- 0.175 -->\r\n",
       "      <g transform=\"translate(20.878125 161.106952)scale(0.1 -0.1)\">\r\n",
       "       <defs>\r\n",
       "        <path d=\"M 8.203125 72.90625 \r\n",
       "L 55.078125 72.90625 \r\n",
       "L 55.078125 68.703125 \r\n",
       "L 28.609375 0 \r\n",
       "L 18.3125 0 \r\n",
       "L 43.21875 64.59375 \r\n",
       "L 8.203125 64.59375 \r\n",
       "z\r\n",
       "\" id=\"DejaVuSans-55\"/>\r\n",
       "       </defs>\r\n",
       "       <use xlink:href=\"#DejaVuSans-48\"/>\r\n",
       "       <use x=\"63.623047\" xlink:href=\"#DejaVuSans-46\"/>\r\n",
       "       <use x=\"95.410156\" xlink:href=\"#DejaVuSans-49\"/>\r\n",
       "       <use x=\"159.033203\" xlink:href=\"#DejaVuSans-55\"/>\r\n",
       "       <use x=\"222.65625\" xlink:href=\"#DejaVuSans-53\"/>\r\n",
       "      </g>\r\n",
       "     </g>\r\n",
       "    </g>\r\n",
       "    <g id=\"ytick_5\">\r\n",
       "     <g id=\"line2d_11\">\r\n",
       "      <g>\r\n",
       "       <use style=\"stroke:#000000;stroke-width:0.8;\" x=\"56.50625\" xlink:href=\"#mc685e7541e\" y=\"129.510007\"/>\r\n",
       "      </g>\r\n",
       "     </g>\r\n",
       "     <g id=\"text_12\">\r\n",
       "      <!-- 0.200 -->\r\n",
       "      <g transform=\"translate(20.878125 133.309226)scale(0.1 -0.1)\">\r\n",
       "       <use xlink:href=\"#DejaVuSans-48\"/>\r\n",
       "       <use x=\"63.623047\" xlink:href=\"#DejaVuSans-46\"/>\r\n",
       "       <use x=\"95.410156\" xlink:href=\"#DejaVuSans-50\"/>\r\n",
       "       <use x=\"159.033203\" xlink:href=\"#DejaVuSans-48\"/>\r\n",
       "       <use x=\"222.65625\" xlink:href=\"#DejaVuSans-48\"/>\r\n",
       "      </g>\r\n",
       "     </g>\r\n",
       "    </g>\r\n",
       "    <g id=\"ytick_6\">\r\n",
       "     <g id=\"line2d_12\">\r\n",
       "      <g>\r\n",
       "       <use style=\"stroke:#000000;stroke-width:0.8;\" x=\"56.50625\" xlink:href=\"#mc685e7541e\" y=\"101.712282\"/>\r\n",
       "      </g>\r\n",
       "     </g>\r\n",
       "     <g id=\"text_13\">\r\n",
       "      <!-- 0.225 -->\r\n",
       "      <g transform=\"translate(20.878125 105.5115)scale(0.1 -0.1)\">\r\n",
       "       <use xlink:href=\"#DejaVuSans-48\"/>\r\n",
       "       <use x=\"63.623047\" xlink:href=\"#DejaVuSans-46\"/>\r\n",
       "       <use x=\"95.410156\" xlink:href=\"#DejaVuSans-50\"/>\r\n",
       "       <use x=\"159.033203\" xlink:href=\"#DejaVuSans-50\"/>\r\n",
       "       <use x=\"222.65625\" xlink:href=\"#DejaVuSans-53\"/>\r\n",
       "      </g>\r\n",
       "     </g>\r\n",
       "    </g>\r\n",
       "    <g id=\"ytick_7\">\r\n",
       "     <g id=\"line2d_13\">\r\n",
       "      <g>\r\n",
       "       <use style=\"stroke:#000000;stroke-width:0.8;\" x=\"56.50625\" xlink:href=\"#mc685e7541e\" y=\"73.914556\"/>\r\n",
       "      </g>\r\n",
       "     </g>\r\n",
       "     <g id=\"text_14\">\r\n",
       "      <!-- 0.250 -->\r\n",
       "      <g transform=\"translate(20.878125 77.713775)scale(0.1 -0.1)\">\r\n",
       "       <use xlink:href=\"#DejaVuSans-48\"/>\r\n",
       "       <use x=\"63.623047\" xlink:href=\"#DejaVuSans-46\"/>\r\n",
       "       <use x=\"95.410156\" xlink:href=\"#DejaVuSans-50\"/>\r\n",
       "       <use x=\"159.033203\" xlink:href=\"#DejaVuSans-53\"/>\r\n",
       "       <use x=\"222.65625\" xlink:href=\"#DejaVuSans-48\"/>\r\n",
       "      </g>\r\n",
       "     </g>\r\n",
       "    </g>\r\n",
       "    <g id=\"ytick_8\">\r\n",
       "     <g id=\"line2d_14\">\r\n",
       "      <g>\r\n",
       "       <use style=\"stroke:#000000;stroke-width:0.8;\" x=\"56.50625\" xlink:href=\"#mc685e7541e\" y=\"46.11683\"/>\r\n",
       "      </g>\r\n",
       "     </g>\r\n",
       "     <g id=\"text_15\">\r\n",
       "      <!-- 0.275 -->\r\n",
       "      <g transform=\"translate(20.878125 49.916049)scale(0.1 -0.1)\">\r\n",
       "       <use xlink:href=\"#DejaVuSans-48\"/>\r\n",
       "       <use x=\"63.623047\" xlink:href=\"#DejaVuSans-46\"/>\r\n",
       "       <use x=\"95.410156\" xlink:href=\"#DejaVuSans-50\"/>\r\n",
       "       <use x=\"159.033203\" xlink:href=\"#DejaVuSans-55\"/>\r\n",
       "       <use x=\"222.65625\" xlink:href=\"#DejaVuSans-53\"/>\r\n",
       "      </g>\r\n",
       "     </g>\r\n",
       "    </g>\r\n",
       "    <g id=\"ytick_9\">\r\n",
       "     <g id=\"line2d_15\">\r\n",
       "      <g>\r\n",
       "       <use style=\"stroke:#000000;stroke-width:0.8;\" x=\"56.50625\" xlink:href=\"#mc685e7541e\" y=\"18.319104\"/>\r\n",
       "      </g>\r\n",
       "     </g>\r\n",
       "     <g id=\"text_16\">\r\n",
       "      <!-- 0.300 -->\r\n",
       "      <g transform=\"translate(20.878125 22.118323)scale(0.1 -0.1)\">\r\n",
       "       <use xlink:href=\"#DejaVuSans-48\"/>\r\n",
       "       <use x=\"63.623047\" xlink:href=\"#DejaVuSans-46\"/>\r\n",
       "       <use x=\"95.410156\" xlink:href=\"#DejaVuSans-51\"/>\r\n",
       "       <use x=\"159.033203\" xlink:href=\"#DejaVuSans-48\"/>\r\n",
       "       <use x=\"222.65625\" xlink:href=\"#DejaVuSans-48\"/>\r\n",
       "      </g>\r\n",
       "     </g>\r\n",
       "    </g>\r\n",
       "    <g id=\"text_17\">\r\n",
       "     <!-- Estimated probability -->\r\n",
       "     <g transform=\"translate(14.798438 183.033437)rotate(-90)scale(0.1 -0.1)\">\r\n",
       "      <defs>\r\n",
       "       <path d=\"M 9.8125 72.90625 \r\n",
       "L 55.90625 72.90625 \r\n",
       "L 55.90625 64.59375 \r\n",
       "L 19.671875 64.59375 \r\n",
       "L 19.671875 43.015625 \r\n",
       "L 54.390625 43.015625 \r\n",
       "L 54.390625 34.71875 \r\n",
       "L 19.671875 34.71875 \r\n",
       "L 19.671875 8.296875 \r\n",
       "L 56.78125 8.296875 \r\n",
       "L 56.78125 0 \r\n",
       "L 9.8125 0 \r\n",
       "z\r\n",
       "\" id=\"DejaVuSans-69\"/>\r\n",
       "       <path d=\"M 34.28125 27.484375 \r\n",
       "Q 23.390625 27.484375 19.1875 25 \r\n",
       "Q 14.984375 22.515625 14.984375 16.5 \r\n",
       "Q 14.984375 11.71875 18.140625 8.90625 \r\n",
       "Q 21.296875 6.109375 26.703125 6.109375 \r\n",
       "Q 34.1875 6.109375 38.703125 11.40625 \r\n",
       "Q 43.21875 16.703125 43.21875 25.484375 \r\n",
       "L 43.21875 27.484375 \r\n",
       "z\r\n",
       "M 52.203125 31.203125 \r\n",
       "L 52.203125 0 \r\n",
       "L 43.21875 0 \r\n",
       "L 43.21875 8.296875 \r\n",
       "Q 40.140625 3.328125 35.546875 0.953125 \r\n",
       "Q 30.953125 -1.421875 24.3125 -1.421875 \r\n",
       "Q 15.921875 -1.421875 10.953125 3.296875 \r\n",
       "Q 6 8.015625 6 15.921875 \r\n",
       "Q 6 25.140625 12.171875 29.828125 \r\n",
       "Q 18.359375 34.515625 30.609375 34.515625 \r\n",
       "L 43.21875 34.515625 \r\n",
       "L 43.21875 35.40625 \r\n",
       "Q 43.21875 41.609375 39.140625 45 \r\n",
       "Q 35.0625 48.390625 27.6875 48.390625 \r\n",
       "Q 23 48.390625 18.546875 47.265625 \r\n",
       "Q 14.109375 46.140625 10.015625 43.890625 \r\n",
       "L 10.015625 52.203125 \r\n",
       "Q 14.9375 54.109375 19.578125 55.046875 \r\n",
       "Q 24.21875 56 28.609375 56 \r\n",
       "Q 40.484375 56 46.34375 49.84375 \r\n",
       "Q 52.203125 43.703125 52.203125 31.203125 \r\n",
       "z\r\n",
       "\" id=\"DejaVuSans-97\"/>\r\n",
       "       <path d=\"M 45.40625 46.390625 \r\n",
       "L 45.40625 75.984375 \r\n",
       "L 54.390625 75.984375 \r\n",
       "L 54.390625 0 \r\n",
       "L 45.40625 0 \r\n",
       "L 45.40625 8.203125 \r\n",
       "Q 42.578125 3.328125 38.25 0.953125 \r\n",
       "Q 33.9375 -1.421875 27.875 -1.421875 \r\n",
       "Q 17.96875 -1.421875 11.734375 6.484375 \r\n",
       "Q 5.515625 14.40625 5.515625 27.296875 \r\n",
       "Q 5.515625 40.1875 11.734375 48.09375 \r\n",
       "Q 17.96875 56 27.875 56 \r\n",
       "Q 33.9375 56 38.25 53.625 \r\n",
       "Q 42.578125 51.265625 45.40625 46.390625 \r\n",
       "z\r\n",
       "M 14.796875 27.296875 \r\n",
       "Q 14.796875 17.390625 18.875 11.75 \r\n",
       "Q 22.953125 6.109375 30.078125 6.109375 \r\n",
       "Q 37.203125 6.109375 41.296875 11.75 \r\n",
       "Q 45.40625 17.390625 45.40625 27.296875 \r\n",
       "Q 45.40625 37.203125 41.296875 42.84375 \r\n",
       "Q 37.203125 48.484375 30.078125 48.484375 \r\n",
       "Q 22.953125 48.484375 18.875 42.84375 \r\n",
       "Q 14.796875 37.203125 14.796875 27.296875 \r\n",
       "z\r\n",
       "\" id=\"DejaVuSans-100\"/>\r\n",
       "       <path d=\"M 48.6875 27.296875 \r\n",
       "Q 48.6875 37.203125 44.609375 42.84375 \r\n",
       "Q 40.53125 48.484375 33.40625 48.484375 \r\n",
       "Q 26.265625 48.484375 22.1875 42.84375 \r\n",
       "Q 18.109375 37.203125 18.109375 27.296875 \r\n",
       "Q 18.109375 17.390625 22.1875 11.75 \r\n",
       "Q 26.265625 6.109375 33.40625 6.109375 \r\n",
       "Q 40.53125 6.109375 44.609375 11.75 \r\n",
       "Q 48.6875 17.390625 48.6875 27.296875 \r\n",
       "z\r\n",
       "M 18.109375 46.390625 \r\n",
       "Q 20.953125 51.265625 25.265625 53.625 \r\n",
       "Q 29.59375 56 35.59375 56 \r\n",
       "Q 45.5625 56 51.78125 48.09375 \r\n",
       "Q 58.015625 40.1875 58.015625 27.296875 \r\n",
       "Q 58.015625 14.40625 51.78125 6.484375 \r\n",
       "Q 45.5625 -1.421875 35.59375 -1.421875 \r\n",
       "Q 29.59375 -1.421875 25.265625 0.953125 \r\n",
       "Q 20.953125 3.328125 18.109375 8.203125 \r\n",
       "L 18.109375 0 \r\n",
       "L 9.078125 0 \r\n",
       "L 9.078125 75.984375 \r\n",
       "L 18.109375 75.984375 \r\n",
       "z\r\n",
       "\" id=\"DejaVuSans-98\"/>\r\n",
       "       <path d=\"M 9.421875 75.984375 \r\n",
       "L 18.40625 75.984375 \r\n",
       "L 18.40625 0 \r\n",
       "L 9.421875 0 \r\n",
       "z\r\n",
       "\" id=\"DejaVuSans-108\"/>\r\n",
       "       <path d=\"M 32.171875 -5.078125 \r\n",
       "Q 28.375 -14.84375 24.75 -17.8125 \r\n",
       "Q 21.140625 -20.796875 15.09375 -20.796875 \r\n",
       "L 7.90625 -20.796875 \r\n",
       "L 7.90625 -13.28125 \r\n",
       "L 13.1875 -13.28125 \r\n",
       "Q 16.890625 -13.28125 18.9375 -11.515625 \r\n",
       "Q 21 -9.765625 23.484375 -3.21875 \r\n",
       "L 25.09375 0.875 \r\n",
       "L 2.984375 54.6875 \r\n",
       "L 12.5 54.6875 \r\n",
       "L 29.59375 11.921875 \r\n",
       "L 46.6875 54.6875 \r\n",
       "L 56.203125 54.6875 \r\n",
       "z\r\n",
       "\" id=\"DejaVuSans-121\"/>\r\n",
       "      </defs>\r\n",
       "      <use xlink:href=\"#DejaVuSans-69\"/>\r\n",
       "      <use x=\"63.183594\" xlink:href=\"#DejaVuSans-115\"/>\r\n",
       "      <use x=\"115.283203\" xlink:href=\"#DejaVuSans-116\"/>\r\n",
       "      <use x=\"154.492188\" xlink:href=\"#DejaVuSans-105\"/>\r\n",
       "      <use x=\"182.275391\" xlink:href=\"#DejaVuSans-109\"/>\r\n",
       "      <use x=\"279.6875\" xlink:href=\"#DejaVuSans-97\"/>\r\n",
       "      <use x=\"340.966797\" xlink:href=\"#DejaVuSans-116\"/>\r\n",
       "      <use x=\"380.175781\" xlink:href=\"#DejaVuSans-101\"/>\r\n",
       "      <use x=\"441.699219\" xlink:href=\"#DejaVuSans-100\"/>\r\n",
       "      <use x=\"505.175781\" xlink:href=\"#DejaVuSans-32\"/>\r\n",
       "      <use x=\"536.962891\" xlink:href=\"#DejaVuSans-112\"/>\r\n",
       "      <use x=\"600.439453\" xlink:href=\"#DejaVuSans-114\"/>\r\n",
       "      <use x=\"639.302734\" xlink:href=\"#DejaVuSans-111\"/>\r\n",
       "      <use x=\"700.484375\" xlink:href=\"#DejaVuSans-98\"/>\r\n",
       "      <use x=\"763.960938\" xlink:href=\"#DejaVuSans-97\"/>\r\n",
       "      <use x=\"825.240234\" xlink:href=\"#DejaVuSans-98\"/>\r\n",
       "      <use x=\"888.716797\" xlink:href=\"#DejaVuSans-105\"/>\r\n",
       "      <use x=\"916.5\" xlink:href=\"#DejaVuSans-108\"/>\r\n",
       "      <use x=\"944.283203\" xlink:href=\"#DejaVuSans-105\"/>\r\n",
       "      <use x=\"972.066406\" xlink:href=\"#DejaVuSans-116\"/>\r\n",
       "      <use x=\"1011.275391\" xlink:href=\"#DejaVuSans-121\"/>\r\n",
       "     </g>\r\n",
       "    </g>\r\n",
       "   </g>\r\n",
       "   <g id=\"line2d_16\">\r\n",
       "    <path clip-path=\"url(#pb26ea1820f)\" d=\"M 71.724432 129.510004 \r\n",
       "L 72.334379 129.510004 \r\n",
       "L 72.944326 203.637269 \r\n",
       "L 73.554273 157.307737 \r\n",
       "L 74.16422 173.986373 \r\n",
       "L 74.774168 166.573636 \r\n",
       "L 75.384115 145.394418 \r\n",
       "L 75.994062 171.206603 \r\n",
       "L 76.604009 191.282725 \r\n",
       "L 77.213956 185.105452 \r\n",
       "L 77.823903 200.26785 \r\n",
       "L 78.433851 166.573636 \r\n",
       "L 79.043798 155.169442 \r\n",
       "L 79.653745 137.452211 \r\n",
       "L 80.873639 122.560579 \r\n",
       "L 81.483586 136.050645 \r\n",
       "L 82.703481 123.65786 \r\n",
       "L 83.313428 129.510004 \r\n",
       "L 84.533322 149.726529 \r\n",
       "L 85.143269 153.68195 \r\n",
       "L 86.363164 151.74818 \r\n",
       "L 86.973111 150.892869 \r\n",
       "L 87.583058 145.982741 \r\n",
       "L 88.193005 133.481116 \r\n",
       "L 88.802952 137.178346 \r\n",
       "L 89.4129 144.33546 \r\n",
       "L 90.022847 133.096804 \r\n",
       "L 90.632794 132.984717 \r\n",
       "L 91.242741 136.248857 \r\n",
       "L 91.852688 129.510004 \r\n",
       "L 92.462635 126.333131 \r\n",
       "L 94.292477 135.362164 \r\n",
       "L 95.512371 140.6291 \r\n",
       "L 96.122319 134.933962 \r\n",
       "L 96.732266 134.804809 \r\n",
       "L 97.95216 139.618275 \r\n",
       "L 98.562107 139.393636 \r\n",
       "L 99.172054 144.013165 \r\n",
       "L 99.782002 146.070356 \r\n",
       "L 101.001896 145.394418 \r\n",
       "L 101.611843 147.300552 \r\n",
       "L 102.22179 144.7715 \r\n",
       "L 102.831737 146.616296 \r\n",
       "L 103.441685 146.293537 \r\n",
       "L 104.661579 141.639926 \r\n",
       "L 105.271526 141.423323 \r\n",
       "L 106.49142 144.846689 \r\n",
       "L 108.321262 144.092414 \r\n",
       "L 108.931209 145.65062 \r\n",
       "L 109.541156 148.924288 \r\n",
       "L 110.151103 146.883583 \r\n",
       "L 110.761051 150.037558 \r\n",
       "L 111.370998 149.726529 \r\n",
       "L 111.980945 151.084354 \r\n",
       "L 112.590892 154.037416 \r\n",
       "L 113.200839 153.68195 \r\n",
       "L 114.420734 156.133179 \r\n",
       "L 115.030681 152.674787 \r\n",
       "L 116.250575 152.048704 \r\n",
       "L 116.860522 154.713271 \r\n",
       "L 117.470469 155.844701 \r\n",
       "L 118.690364 152.318393 \r\n",
       "L 121.130152 156.629744 \r\n",
       "L 121.7401 156.302992 \r\n",
       "L 122.350047 154.660334 \r\n",
       "L 122.959994 156.980703 \r\n",
       "L 123.569941 156.661274 \r\n",
       "L 124.179888 157.627248 \r\n",
       "L 124.789835 156.044205 \r\n",
       "L 125.399783 155.746067 \r\n",
       "L 126.00973 156.690004 \r\n",
       "L 126.619677 156.39132 \r\n",
       "L 127.229624 157.307737 \r\n",
       "L 127.839571 157.008837 \r\n",
       "L 128.449518 157.899174 \r\n",
       "L 129.059466 156.429908 \r\n",
       "L 129.669413 156.149499 \r\n",
       "L 130.27936 157.021164 \r\n",
       "L 130.889307 155.605829 \r\n",
       "L 131.499254 156.465382 \r\n",
       "L 132.109201 155.083914 \r\n",
       "L 132.719149 154.830711 \r\n",
       "L 133.939043 156.498089 \r\n",
       "L 135.158937 160.219874 \r\n",
       "L 135.768884 160.979136 \r\n",
       "L 136.378832 162.763357 \r\n",
       "L 136.988779 162.455461 \r\n",
       "L 137.598726 163.173301 \r\n",
       "L 138.208673 161.856451 \r\n",
       "L 138.81862 161.56504 \r\n",
       "L 139.428567 162.271614 \r\n",
       "L 140.038515 161.981694 \r\n",
       "L 141.868356 158.266271 \r\n",
       "L 142.478303 158.02049 \r\n",
       "L 143.08825 158.721182 \r\n",
       "L 143.698198 158.4757 \r\n",
       "L 144.308145 159.160917 \r\n",
       "L 144.918092 160.753735 \r\n",
       "L 145.528039 161.409029 \r\n",
       "L 146.137986 161.149695 \r\n",
       "L 147.967828 163.043767 \r\n",
       "L 148.577775 162.779727 \r\n",
       "L 149.187722 164.257161 \r\n",
       "L 149.797669 163.125865 \r\n",
       "L 150.407616 163.722588 \r\n",
       "L 151.627511 161.519509 \r\n",
       "L 152.237458 161.278832 \r\n",
       "L 152.847405 160.211971 \r\n",
       "L 154.677247 159.539661 \r\n",
       "L 155.287194 158.516326 \r\n",
       "L 157.726982 163.96353 \r\n",
       "L 158.33693 163.722588 \r\n",
       "L 158.946877 162.712839 \r\n",
       "L 159.556824 162.483859 \r\n",
       "L 160.166771 163.019593 \r\n",
       "L 160.776718 162.79164 \r\n",
       "L 161.386665 164.069338 \r\n",
       "L 161.996613 161.598658 \r\n",
       "L 162.60656 162.126008 \r\n",
       "L 163.216507 161.910001 \r\n",
       "L 163.826454 160.233808 \r\n",
       "L 164.436401 160.032995 \r\n",
       "L 165.656296 158.204437 \r\n",
       "L 166.87619 157.838897 \r\n",
       "L 168.096084 156.083937 \r\n",
       "L 168.706031 155.917852 \r\n",
       "L 171.14582 157.985729 \r\n",
       "L 171.755767 157.813149 \r\n",
       "L 172.365714 158.982289 \r\n",
       "L 172.975662 158.140001 \r\n",
       "L 173.585609 159.293284 \r\n",
       "L 174.195556 159.774987 \r\n",
       "L 175.41545 159.421013 \r\n",
       "L 176.635345 161.646111 \r\n",
       "L 177.245292 160.822396 \r\n",
       "L 177.855239 161.278832 \r\n",
       "L 178.465186 160.466566 \r\n",
       "L 179.68508 162.617403 \r\n",
       "L 180.904975 162.249544 \r\n",
       "L 181.514922 163.297301 \r\n",
       "L 182.124869 163.111649 \r\n",
       "L 182.734816 163.535643 \r\n",
       "L 183.344763 164.559309 \r\n",
       "L 184.564658 162.986836 \r\n",
       "L 185.174605 163.40243 \r\n",
       "L 185.784552 163.222146 \r\n",
       "L 186.394499 164.220395 \r\n",
       "L 187.004446 162.867276 \r\n",
       "L 187.614394 162.692625 \r\n",
       "L 188.224341 163.098924 \r\n",
       "L 188.834288 164.077126 \r\n",
       "L 190.054182 163.722588 \r\n",
       "L 190.664129 164.115333 \r\n",
       "L 191.274077 163.375257 \r\n",
       "L 191.884024 163.204218 \r\n",
       "L 194.323812 164.738815 \r\n",
       "L 196.153654 167.477627 \r\n",
       "L 196.763601 167.293316 \r\n",
       "L 197.373548 168.185112 \r\n",
       "L 197.983495 168.533734 \r\n",
       "L 198.593443 167.815016 \r\n",
       "L 199.813337 169.55982 \r\n",
       "L 201.643178 167.439618 \r\n",
       "L 202.863073 168.117959 \r\n",
       "L 203.47302 167.940043 \r\n",
       "L 204.082967 167.253717 \r\n",
       "L 204.692914 167.589084 \r\n",
       "L 205.302861 167.415991 \r\n",
       "L 205.912809 166.741345 \r\n",
       "L 206.522756 167.074509 \r\n",
       "L 207.132703 167.903277 \r\n",
       "L 207.74265 168.228273 \r\n",
       "L 208.352597 167.562011 \r\n",
       "L 208.962544 167.39364 \r\n",
       "L 210.792386 168.353997 \r\n",
       "L 211.402333 168.185112 \r\n",
       "L 212.01228 167.53633 \r\n",
       "L 212.622227 166.413881 \r\n",
       "L 213.232175 166.732713 \r\n",
       "L 213.842122 167.523986 \r\n",
       "L 215.062016 168.144137 \r\n",
       "L 215.671963 167.981117 \r\n",
       "L 216.891858 168.589654 \r\n",
       "L 217.501805 167.500226 \r\n",
       "L 218.111752 166.881218 \r\n",
       "L 218.721699 166.726798 \r\n",
       "L 219.331646 165.658495 \r\n",
       "L 219.941593 165.510338 \r\n",
       "L 220.551541 165.81724 \r\n",
       "L 221.161488 166.573636 \r\n",
       "L 221.771435 166.873746 \r\n",
       "L 222.991329 166.573636 \r\n",
       "L 223.601276 166.87015 \r\n",
       "L 224.211224 166.721314 \r\n",
       "L 224.821171 167.014878 \r\n",
       "L 225.431118 166.427152 \r\n",
       "L 226.651012 167.881771 \r\n",
       "L 227.260959 167.297541 \r\n",
       "L 227.870907 167.583153 \r\n",
       "L 228.480854 168.29753 \r\n",
       "L 229.090801 167.71847 \r\n",
       "L 230.920642 167.280956 \r\n",
       "L 231.53059 167.982907 \r\n",
       "L 232.140537 166.994814 \r\n",
       "L 232.750484 167.69254 \r\n",
       "L 233.360431 167.967017 \r\n",
       "L 233.970378 168.655863 \r\n",
       "L 234.580325 168.509809 \r\n",
       "L 235.190273 168.778173 \r\n",
       "L 236.410167 167.667769 \r\n",
       "L 237.020114 167.936282 \r\n",
       "L 238.240008 167.65579 \r\n",
       "L 238.849956 167.11275 \r\n",
       "L 239.459903 167.379374 \r\n",
       "L 240.06985 166.841255 \r\n",
       "L 241.289744 168.167781 \r\n",
       "L 241.899691 168.426816 \r\n",
       "L 243.729533 168.014271 \r\n",
       "L 244.33948 168.270209 \r\n",
       "L 244.949427 168.134212 \r\n",
       "L 245.559374 168.776731 \r\n",
       "L 246.169322 169.027334 \r\n",
       "L 246.779269 169.662281 \r\n",
       "L 248.60911 170.394635 \r\n",
       "L 249.219057 169.87383 \r\n",
       "L 249.829005 169.736061 \r\n",
       "L 250.438952 170.355649 \r\n",
       "L 251.048899 170.594106 \r\n",
       "L 251.658846 170.079664 \r\n",
       "L 252.268793 170.691829 \r\n",
       "L 252.87874 170.553629 \r\n",
       "L 254.098635 169.538728 \r\n",
       "L 254.708582 169.775147 \r\n",
       "L 257.148371 169.247085 \r\n",
       "L 257.758318 168.75385 \r\n",
       "L 258.368265 168.988215 \r\n",
       "L 258.978212 168.138023 \r\n",
       "L 259.588159 168.372852 \r\n",
       "L 260.198106 168.247476 \r\n",
       "L 261.418001 168.711931 \r\n",
       "L 262.027948 169.297172 \r\n",
       "L 264.467737 168.795123 \r\n",
       "L 265.077684 169.370903 \r\n",
       "L 266.297578 168.426816 \r\n",
       "L 266.907525 168.998371 \r\n",
       "L 267.517472 168.87573 \r\n",
       "L 269.957261 169.757021 \r\n",
       "L 270.567208 169.293908 \r\n",
       "L 271.177155 169.511621 \r\n",
       "L 271.787103 170.065961 \r\n",
       "L 272.39705 169.943071 \r\n",
       "L 273.006997 170.156841 \r\n",
       "L 273.616944 169.699494 \r\n",
       "L 274.226891 169.912701 \r\n",
       "L 274.836838 170.457563 \r\n",
       "L 275.446786 169.671493 \r\n",
       "L 276.66668 169.433152 \r\n",
       "L 277.276627 169.644005 \r\n",
       "L 277.886574 169.525605 \r\n",
       "L 279.106469 169.943071 \r\n",
       "L 279.716416 169.824837 \r\n",
       "L 280.326363 169.383131 \r\n",
       "L 281.546257 169.79657 \r\n",
       "L 282.156204 169.358775 \r\n",
       "L 283.376099 169.768784 \r\n",
       "L 284.595993 169.538728 \r\n",
       "L 287.035782 167.830044 \r\n",
       "L 288.255676 167.614749 \r\n",
       "L 288.865623 168.130932 \r\n",
       "L 289.47557 168.023053 \r\n",
       "L 290.695465 168.426816 \r\n",
       "L 291.305412 168.935029 \r\n",
       "L 291.915359 168.518972 \r\n",
       "L 292.525306 168.411507 \r\n",
       "L 293.135253 168.915577 \r\n",
       "L 293.745201 167.893717 \r\n",
       "L 294.355148 167.485049 \r\n",
       "L 294.965095 167.381561 \r\n",
       "L 295.575042 167.882948 \r\n",
       "L 297.404884 168.471784 \r\n",
       "L 298.014831 168.068136 \r\n",
       "L 299.234725 167.861955 \r\n",
       "L 299.844672 168.352704 \r\n",
       "L 301.064567 168.736503 \r\n",
       "L 301.674514 169.221039 \r\n",
       "L 302.284461 169.116258 \r\n",
       "L 302.894408 168.426816 \r\n",
       "L 305.334197 169.179683 \r\n",
       "L 305.944144 168.787833 \r\n",
       "L 306.554091 169.262195 \r\n",
       "L 307.164038 168.872167 \r\n",
       "L 307.773985 168.770717 \r\n",
       "L 308.383933 168.955624 \r\n",
       "L 308.99388 168.569374 \r\n",
       "L 309.603827 169.038236 \r\n",
       "L 310.213774 169.221039 \r\n",
       "L 310.823721 168.837075 \r\n",
       "L 312.043616 169.200941 \r\n",
       "L 312.653563 169.662281 \r\n",
       "L 313.26351 169.281067 \r\n",
       "L 315.703299 168.884345 \r\n",
       "L 316.313246 169.062989 \r\n",
       "L 316.923193 168.964836 \r\n",
       "L 317.53314 169.417627 \r\n",
       "L 318.143087 168.495461 \r\n",
       "L 318.753034 168.673309 \r\n",
       "L 319.362982 168.577078 \r\n",
       "L 319.972929 168.208805 \r\n",
       "L 320.582876 168.114181 \r\n",
       "L 321.192823 168.562415 \r\n",
       "L 321.80277 168.46741 \r\n",
       "L 322.412717 168.642724 \r\n",
       "L 323.022665 168.547983 \r\n",
       "L 323.632612 168.722253 \r\n",
       "L 324.242559 167.823979 \r\n",
       "L 324.852506 167.999161 \r\n",
       "L 325.462453 167.906873 \r\n",
       "L 326.0724 168.347021 \r\n",
       "L 326.682348 168.254336 \r\n",
       "L 327.292295 168.691568 \r\n",
       "L 329.122136 169.202266 \r\n",
       "L 329.732083 168.84642 \r\n",
       "L 330.951978 169.183759 \r\n",
       "L 331.561925 169.611647 \r\n",
       "L 332.171872 169.777748 \r\n",
       "L 332.781819 169.68387 \r\n",
       "L 333.391766 169.073279 \r\n",
       "L 334.611661 168.890111 \r\n",
       "L 335.221608 168.542383 \r\n",
       "L 335.831555 168.452448 \r\n",
       "L 336.441502 168.107305 \r\n",
       "L 337.051449 168.018778 \r\n",
       "L 337.661397 167.676219 \r\n",
       "L 338.271344 167.589084 \r\n",
       "L 338.881291 167.755633 \r\n",
       "L 339.491238 168.17411 \r\n",
       "L 340.101185 168.086445 \r\n",
       "L 341.32108 168.414274 \r\n",
       "L 341.931027 168.827515 \r\n",
       "L 343.760868 168.563641 \r\n",
       "L 344.370815 168.972856 \r\n",
       "L 344.980763 168.389669 \r\n",
       "L 345.59071 168.05619 \r\n",
       "L 346.200657 167.970712 \r\n",
       "L 347.420551 168.291831 \r\n",
       "L 348.030498 167.716581 \r\n",
       "L 348.640446 167.876983 \r\n",
       "L 349.250393 167.792847 \r\n",
       "L 350.470287 168.111215 \r\n",
       "L 351.080234 168.027112 \r\n",
       "L 351.690181 168.426816 \r\n",
       "L 352.300129 168.342399 \r\n",
       "L 354.739917 168.964836 \r\n",
       "L 355.349865 168.641564 \r\n",
       "L 355.959812 168.795868 \r\n",
       "L 356.569759 168.711931 \r\n",
       "L 357.179706 168.154178 \r\n",
       "L 357.789653 168.071964 \r\n",
       "L 358.3996 168.226152 \r\n",
       "L 359.009548 168.144137 \r\n",
       "L 359.619495 167.592299 \r\n",
       "L 360.229442 167.746537 \r\n",
       "L 360.839389 167.666046 \r\n",
       "L 361.449336 167.352284 \r\n",
       "L 362.059283 167.739164 \r\n",
       "L 362.669231 167.659187 \r\n",
       "L 363.279178 167.811669 \r\n",
       "L 363.889125 167.731874 \r\n",
       "L 364.499072 167.883577 \r\n",
       "L 366.938861 167.567098 \r\n",
       "L 367.548808 167.717575 \r\n",
       "L 368.158755 167.639122 \r\n",
       "L 369.378649 167.937939 \r\n",
       "L 370.598544 167.328508 \r\n",
       "L 371.208491 167.477627 \r\n",
       "L 371.818438 167.400615 \r\n",
       "L 372.428385 167.549005 \r\n",
       "L 373.038332 167.472159 \r\n",
       "L 373.64828 167.171436 \r\n",
       "L 374.258227 167.095668 \r\n",
       "L 374.868174 166.796917 \r\n",
       "L 376.088068 167.092536 \r\n",
       "L 376.088068 167.092536 \r\n",
       "\" style=\"fill:none;stroke:#1f77b4;stroke-linecap:square;stroke-width:1.5;\"/>\r\n",
       "   </g>\r\n",
       "   <g id=\"line2d_17\">\r\n",
       "    <path clip-path=\"url(#pb26ea1820f)\" d=\"M 71.724432 18.319091 \r\n",
       "L 72.334379 185.105452 \r\n",
       "L 72.944326 166.573636 \r\n",
       "L 73.554273 212.903185 \r\n",
       "L 74.16422 240.700909 \r\n",
       "L 74.774168 203.637269 \r\n",
       "L 75.384115 177.163246 \r\n",
       "L 75.994062 185.105452 \r\n",
       "L 76.604009 178.92818 \r\n",
       "L 77.213956 185.105452 \r\n",
       "L 77.823903 180.051325 \r\n",
       "L 78.433851 185.105452 \r\n",
       "L 79.043798 197.935171 \r\n",
       "L 80.263692 188.811829 \r\n",
       "L 80.873639 192.054894 \r\n",
       "L 82.093534 209.814541 \r\n",
       "L 82.703481 217.292301 \r\n",
       "L 83.923375 219.521691 \r\n",
       "L 84.533322 215.430248 \r\n",
       "L 85.753217 217.536143 \r\n",
       "L 86.363164 222.91037 \r\n",
       "L 86.973111 215.041471 \r\n",
       "L 87.583058 215.991821 \r\n",
       "L 88.802952 225.364233 \r\n",
       "L 89.4129 218.462733 \r\n",
       "L 90.022847 219.180093 \r\n",
       "L 90.632794 212.903185 \r\n",
       "L 91.242741 210.376121 \r\n",
       "L 92.462635 218.462733 \r\n",
       "L 93.68253 219.664795 \r\n",
       "L 94.292477 214.366221 \r\n",
       "L 94.902424 212.190414 \r\n",
       "L 95.512371 212.903185 \r\n",
       "L 96.122319 208.157236 \r\n",
       "L 96.732266 208.932073 \r\n",
       "L 97.342213 207.085057 \r\n",
       "L 98.562107 208.579093 \r\n",
       "L 99.172054 202.02581 \r\n",
       "L 99.782002 200.482929 \r\n",
       "L 100.391949 201.320794 \r\n",
       "L 101.611843 198.448371 \r\n",
       "L 103.441685 200.840019 \r\n",
       "L 104.051632 199.519093 \r\n",
       "L 104.661579 202.289501 \r\n",
       "L 105.271526 199.004319 \r\n",
       "L 105.881473 201.686565 \r\n",
       "L 106.49142 200.442137 \r\n",
       "L 107.711315 201.784089 \r\n",
       "L 108.321262 204.244877 \r\n",
       "L 108.931209 201.246069 \r\n",
       "L 110.761051 203.067072 \r\n",
       "L 111.370998 201.95256 \r\n",
       "L 111.980945 202.530891 \r\n",
       "L 112.590892 199.821903 \r\n",
       "L 113.200839 200.414351 \r\n",
       "L 113.810786 202.578311 \r\n",
       "L 114.420734 198.41704 \r\n",
       "L 115.030681 199.004319 \r\n",
       "L 115.640628 198.052345 \r\n",
       "L 116.250575 198.628672 \r\n",
       "L 116.860522 200.672177 \r\n",
       "L 118.080417 195.935739 \r\n",
       "L 118.690364 196.509647 \r\n",
       "L 119.300311 191.439117 \r\n",
       "L 119.910258 190.665009 \r\n",
       "L 120.520205 191.282725 \r\n",
       "L 121.130152 190.52941 \r\n",
       "L 121.7401 187.114925 \r\n",
       "L 122.959994 188.375773 \r\n",
       "L 123.569941 187.691302 \r\n",
       "L 124.179888 188.300601 \r\n",
       "L 124.789835 190.159596 \r\n",
       "L 125.399783 189.478141 \r\n",
       "L 126.00973 187.576365 \r\n",
       "L 126.619677 189.382025 \r\n",
       "L 127.229624 186.314059 \r\n",
       "L 127.839571 188.094469 \r\n",
       "L 129.059466 186.861109 \r\n",
       "L 129.669413 187.421944 \r\n",
       "L 130.27936 185.678615 \r\n",
       "L 130.889307 187.374657 \r\n",
       "L 131.499254 187.913306 \r\n",
       "L 132.109201 189.553098 \r\n",
       "L 132.719149 188.958611 \r\n",
       "L 133.329096 189.46588 \r\n",
       "L 133.939043 186.724748 \r\n",
       "L 134.54899 187.243747 \r\n",
       "L 135.158937 183.517024 \r\n",
       "L 135.768884 183.007519 \r\n",
       "L 136.378832 181.468366 \r\n",
       "L 136.988779 180.987277 \r\n",
       "L 137.598726 181.535105 \r\n",
       "L 138.208673 180.051325 \r\n",
       "L 140.038515 178.709523 \r\n",
       "L 141.258409 179.787634 \r\n",
       "L 141.868356 177.437127 \r\n",
       "L 142.478303 177.977831 \r\n",
       "L 143.698198 177.163246 \r\n",
       "L 144.918092 178.213455 \r\n",
       "L 145.528039 177.814248 \r\n",
       "L 146.137986 178.325526 \r\n",
       "L 146.747933 176.138453 \r\n",
       "L 147.357881 175.765424 \r\n",
       "L 147.967828 177.163246 \r\n",
       "L 149.797669 178.640879 \r\n",
       "L 151.017564 176.193212 \r\n",
       "L 151.627511 177.524262 \r\n",
       "L 152.237458 177.999271 \r\n",
       "L 152.847405 175.977852 \r\n",
       "L 154.067299 175.294491 \r\n",
       "L 154.677247 175.771919 \r\n",
       "L 155.287194 177.048143 \r\n",
       "L 155.897141 176.706147 \r\n",
       "L 157.117035 177.613865 \r\n",
       "L 157.726982 177.275118 \r\n",
       "L 158.33693 178.496217 \r\n",
       "L 158.946877 178.92818 \r\n",
       "L 159.556824 178.587378 \r\n",
       "L 160.166771 177.48965 \r\n",
       "L 160.776718 178.676054 \r\n",
       "L 161.996613 178.016105 \r\n",
       "L 162.60656 179.17527 \r\n",
       "L 163.826454 179.984818 \r\n",
       "L 164.436401 179.654918 \r\n",
       "L 165.046348 180.773341 \r\n",
       "L 166.266243 180.116126 \r\n",
       "L 166.87619 180.502012 \r\n",
       "L 167.486137 180.179286 \r\n",
       "L 168.096084 180.559919 \r\n",
       "L 168.706031 179.545913 \r\n",
       "L 169.315979 177.85388 \r\n",
       "L 170.535873 177.260703 \r\n",
       "L 171.14582 176.291548 \r\n",
       "L 171.755767 176.008024 \r\n",
       "L 174.195556 177.539207 \r\n",
       "L 174.805503 176.602626 \r\n",
       "L 176.025397 176.055029 \r\n",
       "L 176.635345 175.143268 \r\n",
       "L 177.245292 176.159064 \r\n",
       "L 177.855239 176.527868 \r\n",
       "L 178.465186 176.26073 \r\n",
       "L 179.075133 174.112013 \r\n",
       "L 179.68508 175.110777 \r\n",
       "L 180.295028 175.477194 \r\n",
       "L 182.124869 174.71949 \r\n",
       "L 182.734816 175.080042 \r\n",
       "L 183.344763 173.623783 \r\n",
       "L 183.954711 173.986373 \r\n",
       "L 184.564658 174.942853 \r\n",
       "L 185.784552 175.642401 \r\n",
       "L 186.394499 174.810005 \r\n",
       "L 187.614394 176.664262 \r\n",
       "L 188.224341 176.418663 \r\n",
       "L 188.834288 176.751744 \r\n",
       "L 190.054182 176.267208 \r\n",
       "L 191.274077 176.921359 \r\n",
       "L 191.884024 176.681907 \r\n",
       "L 192.493971 175.886111 \r\n",
       "L 193.103918 176.766143 \r\n",
       "L 194.323812 177.399151 \r\n",
       "L 194.93376 177.163246 \r\n",
       "L 196.153654 175.613555 \r\n",
       "L 196.763601 175.389745 \r\n",
       "L 197.373548 174.093804 \r\n",
       "L 198.593443 174.731187 \r\n",
       "L 199.20339 175.574817 \r\n",
       "L 199.813337 174.829523 \r\n",
       "L 200.423284 175.664719 \r\n",
       "L 201.033231 175.970048 \r\n",
       "L 202.253126 175.537869 \r\n",
       "L 202.863073 175.839553 \r\n",
       "L 203.47302 175.113643 \r\n",
       "L 205.912809 176.300743 \r\n",
       "L 206.522756 177.091702 \r\n",
       "L 207.132703 177.376949 \r\n",
       "L 207.74265 176.666863 \r\n",
       "L 208.352597 177.445643 \r\n",
       "L 210.792386 176.608342 \r\n",
       "L 211.402333 177.370438 \r\n",
       "L 212.622227 177.916394 \r\n",
       "L 213.232175 177.231426 \r\n",
       "L 213.842122 177.027481 \r\n",
       "L 215.062016 178.509389 \r\n",
       "L 215.671963 178.771805 \r\n",
       "L 216.28191 178.564811 \r\n",
       "L 216.891858 178.824808 \r\n",
       "L 217.501805 178.619323 \r\n",
       "L 218.721699 179.13239 \r\n",
       "L 219.331646 179.843338 \r\n",
       "L 219.941593 180.092747 \r\n",
       "L 220.551541 178.978616 \r\n",
       "L 221.771435 177.677721 \r\n",
       "L 222.381382 178.380203 \r\n",
       "L 222.991329 178.63049 \r\n",
       "L 223.601276 177.989247 \r\n",
       "L 224.211224 178.682085 \r\n",
       "L 224.821171 178.486955 \r\n",
       "L 226.041065 178.976826 \r\n",
       "L 226.651012 179.654918 \r\n",
       "L 227.870907 179.264691 \r\n",
       "L 228.480854 179.933787 \r\n",
       "L 229.090801 180.168417 \r\n",
       "L 229.700748 179.973568 \r\n",
       "L 230.310695 179.354212 \r\n",
       "L 231.53059 178.975169 \r\n",
       "L 232.140537 178.366616 \r\n",
       "L 232.750484 178.182256 \r\n",
       "L 233.360431 178.835296 \r\n",
       "L 234.580325 179.296984 \r\n",
       "L 235.190273 178.285198 \r\n",
       "L 236.410167 178.745825 \r\n",
       "L 237.020114 177.338443 \r\n",
       "L 237.630061 177.570538 \r\n",
       "L 238.240008 177.395142 \r\n",
       "L 238.849956 176.816677 \r\n",
       "L 240.06985 176.475113 \r\n",
       "L 240.679797 175.10627 \r\n",
       "L 241.289744 175.341381 \r\n",
       "L 241.899691 175.177698 \r\n",
       "L 243.119586 175.642401 \r\n",
       "L 244.33948 176.883598 \r\n",
       "L 244.949427 176.717381 \r\n",
       "L 245.559374 176.163538 \r\n",
       "L 246.169322 175.226128 \r\n",
       "L 246.779269 175.067383 \r\n",
       "L 247.999163 175.520041 \r\n",
       "L 248.60911 175.361926 \r\n",
       "L 249.219057 174.824105 \r\n",
       "L 250.438952 174.515843 \r\n",
       "L 251.048899 175.117123 \r\n",
       "L 252.268793 174.061247 \r\n",
       "L 252.87874 174.657986 \r\n",
       "L 253.488688 174.506996 \r\n",
       "L 254.098635 175.098284 \r\n",
       "L 254.708582 174.946829 \r\n",
       "L 255.318529 175.164542 \r\n",
       "L 255.928476 175.013883 \r\n",
       "L 256.538423 175.229956 \r\n",
       "L 257.758318 174.931122 \r\n",
       "L 258.368265 175.145356 \r\n",
       "L 258.978212 174.997198 \r\n",
       "L 259.588159 175.569665 \r\n",
       "L 260.198106 175.062413 \r\n",
       "L 260.808054 175.273465 \r\n",
       "L 261.418001 174.057651 \r\n",
       "L 262.027948 173.915326 \r\n",
       "L 262.637895 174.128019 \r\n",
       "L 263.247842 173.633376 \r\n",
       "L 264.467737 173.355005 \r\n",
       "L 265.077684 172.867469 \r\n",
       "L 265.687631 173.080113 \r\n",
       "L 266.297578 172.943951 \r\n",
       "L 267.517472 173.364797 \r\n",
       "L 268.12742 173.229032 \r\n",
       "L 268.737367 173.437285 \r\n",
       "L 269.957261 173.167778 \r\n",
       "L 270.567208 173.374307 \r\n",
       "L 271.787103 173.10765 \r\n",
       "L 273.006997 173.516069 \r\n",
       "L 273.616944 172.713695 \r\n",
       "L 274.226891 173.251781 \r\n",
       "L 274.836838 173.453721 \r\n",
       "L 275.446786 172.990625 \r\n",
       "L 276.66668 171.412817 \r\n",
       "L 277.276627 171.946778 \r\n",
       "L 277.886574 172.149579 \r\n",
       "L 278.496521 172.678238 \r\n",
       "L 279.106469 172.877726 \r\n",
       "L 279.716416 172.750908 \r\n",
       "L 280.326363 173.273188 \r\n",
       "L 280.93631 173.469196 \r\n",
       "L 282.156204 173.215098 \r\n",
       "L 283.376099 173.602956 \r\n",
       "L 283.986046 173.158019 \r\n",
       "L 284.595993 173.350995 \r\n",
       "L 285.20594 172.909306 \r\n",
       "L 285.815887 173.1019 \r\n",
       "L 286.425835 173.60839 \r\n",
       "L 287.035782 173.48381 \r\n",
       "L 288.255676 173.861428 \r\n",
       "L 288.865623 173.737196 \r\n",
       "L 289.47557 174.234838 \r\n",
       "L 290.085518 173.181082 \r\n",
       "L 291.305412 172.32312 \r\n",
       "L 291.915359 172.51202 \r\n",
       "L 292.525306 172.393554 \r\n",
       "L 293.135253 171.664795 \r\n",
       "L 294.355148 171.43444 \r\n",
       "L 295.575042 171.810898 \r\n",
       "L 296.184989 171.696259 \r\n",
       "L 296.794936 171.882756 \r\n",
       "L 298.014831 171.654953 \r\n",
       "L 298.624778 171.243866 \r\n",
       "L 299.234725 170.537673 \r\n",
       "L 300.454619 170.910867 \r\n",
       "L 301.064567 171.39093 \r\n",
       "L 302.284461 171.756685 \r\n",
       "L 302.894408 171.645509 \r\n",
       "L 303.504355 171.243071 \r\n",
       "L 304.114302 171.715975 \r\n",
       "L 304.72425 171.896094 \r\n",
       "L 305.334197 172.36484 \r\n",
       "L 305.944144 172.542325 \r\n",
       "L 306.554091 171.566675 \r\n",
       "L 307.773985 171.349889 \r\n",
       "L 308.99388 172.275734 \r\n",
       "L 309.603827 172.450733 \r\n",
       "L 310.213774 171.490243 \r\n",
       "L 310.823721 171.94928 \r\n",
       "L 312.043616 171.7344 \r\n",
       "L 313.26351 172.081846 \r\n",
       "L 315.093351 170.928613 \r\n",
       "L 316.313246 170.722564 \r\n",
       "L 316.923193 170.344382 \r\n",
       "L 318.143087 170.142741 \r\n",
       "L 318.753034 169.49492 \r\n",
       "L 319.972929 169.843957 \r\n",
       "L 320.582876 169.74534 \r\n",
       "L 323.022665 170.432561 \r\n",
       "L 323.632612 170.870871 \r\n",
       "L 324.242559 170.77121 \r\n",
       "L 326.682348 171.438797 \r\n",
       "L 327.292295 170.809483 \r\n",
       "L 327.902242 170.975502 \r\n",
       "L 329.122136 170.253718 \r\n",
       "L 329.732083 170.41987 \r\n",
       "L 330.342031 170.323605 \r\n",
       "L 330.951978 169.705774 \r\n",
       "L 332.171872 169.51795 \r\n",
       "L 332.781819 169.68387 \r\n",
       "L 333.391766 170.107615 \r\n",
       "L 334.001714 169.755447 \r\n",
       "L 334.611661 169.662281 \r\n",
       "L 335.221608 169.312763 \r\n",
       "L 335.831555 169.733443 \r\n",
       "L 336.441502 169.896596 \r\n",
       "L 337.051449 169.80396 \r\n",
       "L 337.661397 169.457309 \r\n",
       "L 338.271344 169.619964 \r\n",
       "L 338.881291 169.275318 \r\n",
       "L 339.491238 169.184935 \r\n",
       "L 340.101185 169.34711 \r\n",
       "L 340.711132 169.005413 \r\n",
       "L 341.931027 168.827515 \r\n",
       "L 342.540974 169.2389 \r\n",
       "L 343.150921 169.399119 \r\n",
       "L 343.760868 169.30988 \r\n",
       "L 344.370815 168.972856 \r\n",
       "L 344.980763 169.132595 \r\n",
       "L 345.59071 169.538728 \r\n",
       "L 346.200657 169.696528 \r\n",
       "L 348.030498 169.430965 \r\n",
       "L 348.640446 169.831978 \r\n",
       "L 349.250393 169.499725 \r\n",
       "L 350.470287 169.810637 \r\n",
       "L 351.690181 169.635423 \r\n",
       "L 352.300129 168.824797 \r\n",
       "L 352.910076 168.258345 \r\n",
       "L 354.12997 168.5706 \r\n",
       "L 355.349865 168.402957 \r\n",
       "L 355.959812 168.795868 \r\n",
       "L 357.789653 169.254839 \r\n",
       "L 358.3996 168.934383 \r\n",
       "L 359.619495 169.237839 \r\n",
       "L 360.229442 169.154018 \r\n",
       "L 361.449336 169.454641 \r\n",
       "L 362.059283 169.137797 \r\n",
       "L 363.279178 169.900854 \r\n",
       "L 363.889125 170.048365 \r\n",
       "L 364.499072 169.732913 \r\n",
       "L 366.938861 169.401174 \r\n",
       "L 368.158755 169.693993 \r\n",
       "L 369.988597 169.447964 \r\n",
       "L 370.598544 169.59309 \r\n",
       "L 371.208491 169.511621 \r\n",
       "L 371.818438 169.656018 \r\n",
       "L 372.428385 170.024904 \r\n",
       "L 373.038332 170.167693 \r\n",
       "L 373.64828 170.085728 \r\n",
       "L 374.868174 170.369318 \r\n",
       "L 376.088068 170.205884 \r\n",
       "L 376.088068 170.205884 \r\n",
       "\" style=\"fill:none;stroke:#ff7f0e;stroke-linecap:square;stroke-width:1.5;\"/>\r\n",
       "   </g>\r\n",
       "   <g id=\"line2d_18\">\r\n",
       "    <path clip-path=\"url(#pb26ea1820f)\" d=\"M 71.724432 240.700909 \r\n",
       "L 72.334379 129.510004 \r\n",
       "L 72.944326 166.573636 \r\n",
       "L 73.554273 185.105452 \r\n",
       "L 74.16422 196.224549 \r\n",
       "L 74.774168 185.105452 \r\n",
       "L 75.384115 193.047659 \r\n",
       "L 75.994062 171.206603 \r\n",
       "L 76.604009 191.282725 \r\n",
       "L 77.213956 185.105452 \r\n",
       "L 77.823903 159.8348 \r\n",
       "L 78.433851 166.573636 \r\n",
       "L 79.043798 155.169442 \r\n",
       "L 79.653745 153.336625 \r\n",
       "L 80.263692 166.573636 \r\n",
       "L 81.483586 162.213209 \r\n",
       "L 82.093534 160.396364 \r\n",
       "L 83.313428 179.545913 \r\n",
       "L 83.923375 182.45805 \r\n",
       "L 84.533322 174.997198 \r\n",
       "L 85.143269 182.688273 \r\n",
       "L 85.753217 185.105452 \r\n",
       "L 86.363164 178.434001 \r\n",
       "L 87.583058 191.282725 \r\n",
       "L 88.193005 197.018771 \r\n",
       "L 88.802952 190.856709 \r\n",
       "L 89.4129 192.518189 \r\n",
       "L 90.632794 202.479031 \r\n",
       "L 91.242741 190.159596 \r\n",
       "L 92.462635 193.047659 \r\n",
       "L 93.68253 201.633843 \r\n",
       "L 94.292477 199.735845 \r\n",
       "L 94.902424 200.78622 \r\n",
       "L 95.512371 196.224549 \r\n",
       "L 96.122319 197.309337 \r\n",
       "L 96.732266 193.047659 \r\n",
       "L 97.95216 190.159596 \r\n",
       "L 98.562107 191.282725 \r\n",
       "L 99.172054 194.774238 \r\n",
       "L 99.782002 193.385628 \r\n",
       "L 100.391949 187.421944 \r\n",
       "L 101.001896 188.509267 \r\n",
       "L 101.611843 185.105452 \r\n",
       "L 103.441685 188.252369 \r\n",
       "L 104.051632 191.282725 \r\n",
       "L 104.661579 192.181247 \r\n",
       "L 105.271526 191.062112 \r\n",
       "L 105.881473 184.130101 \r\n",
       "L 106.49142 181.271298 \r\n",
       "L 107.101368 182.278578 \r\n",
       "L 107.711315 185.105452 \r\n",
       "L 108.931209 186.898869 \r\n",
       "L 109.541156 185.98792 \r\n",
       "L 110.151103 188.580181 \r\n",
       "L 110.761051 184.250141 \r\n",
       "L 111.980945 182.616116 \r\n",
       "L 112.590892 176.92966 \r\n",
       "L 113.200839 174.630946 \r\n",
       "L 113.810786 175.574817 \r\n",
       "L 115.030681 171.206603 \r\n",
       "L 115.640628 173.68174 \r\n",
       "L 116.250575 171.582249 \r\n",
       "L 116.860522 166.573636 \r\n",
       "L 118.690364 165.148112 \r\n",
       "L 119.300311 166.104476 \r\n",
       "L 119.910258 168.426816 \r\n",
       "L 120.520205 162.455461 \r\n",
       "L 121.130152 160.6977 \r\n",
       "L 121.7401 160.321938 \r\n",
       "L 122.350047 162.602541 \r\n",
       "L 122.959994 159.596956 \r\n",
       "L 123.569941 160.540032 \r\n",
       "L 124.179888 158.905311 \r\n",
       "L 125.399783 160.743413 \r\n",
       "L 126.619677 160.056954 \r\n",
       "L 127.229624 162.142113 \r\n",
       "L 127.839571 160.595637 \r\n",
       "L 130.889307 159.009627 \r\n",
       "L 131.499254 160.957945 \r\n",
       "L 132.109201 161.755365 \r\n",
       "L 133.329096 158.942889 \r\n",
       "L 133.939043 159.736664 \r\n",
       "L 134.54899 158.376884 \r\n",
       "L 135.158937 158.101959 \r\n",
       "L 135.768884 159.930153 \r\n",
       "L 136.378832 158.606692 \r\n",
       "L 136.988779 160.396364 \r\n",
       "L 138.208673 161.856451 \r\n",
       "L 138.81862 159.561598 \r\n",
       "L 139.428567 159.293284 \r\n",
       "L 140.038515 160.997693 \r\n",
       "L 140.648462 161.696844 \r\n",
       "L 141.868356 164.976079 \r\n",
       "L 142.478303 164.672937 \r\n",
       "L 143.08825 166.259543 \r\n",
       "L 143.698198 166.885095 \r\n",
       "L 144.918092 166.26733 \r\n",
       "L 145.528039 164.143235 \r\n",
       "L 146.137986 164.765656 \r\n",
       "L 146.747933 166.274736 \r\n",
       "L 147.357881 165.980625 \r\n",
       "L 147.967828 163.926234 \r\n",
       "L 148.577775 162.779727 \r\n",
       "L 149.187722 159.913767 \r\n",
       "L 149.797669 159.678076 \r\n",
       "L 150.407616 158.590704 \r\n",
       "L 151.017564 159.217499 \r\n",
       "L 151.627511 158.992446 \r\n",
       "L 152.237458 157.934747 \r\n",
       "L 152.847405 159.382192 \r\n",
       "L 153.457352 159.160917 \r\n",
       "L 154.067299 158.125321 \r\n",
       "L 154.677247 157.916439 \r\n",
       "L 155.897141 155.907844 \r\n",
       "L 156.507088 157.307737 \r\n",
       "L 157.117035 155.533407 \r\n",
       "L 157.726982 155.35014 \r\n",
       "L 158.33693 154.391888 \r\n",
       "L 158.946877 154.219092 \r\n",
       "L 159.556824 154.815517 \r\n",
       "L 160.776718 149.932827 \r\n",
       "L 161.386665 149.794842 \r\n",
       "L 161.996613 150.404936 \r\n",
       "L 163.216507 150.128189 \r\n",
       "L 163.826454 150.724067 \r\n",
       "L 165.046348 150.448562 \r\n",
       "L 165.656296 151.03082 \r\n",
       "L 166.266243 152.318393 \r\n",
       "L 166.87619 152.173119 \r\n",
       "L 167.486137 151.325942 \r\n",
       "L 168.096084 151.888053 \r\n",
       "L 168.706031 151.74818 \r\n",
       "L 169.315979 152.300681 \r\n",
       "L 169.925926 152.160013 \r\n",
       "L 171.14582 154.595766 \r\n",
       "L 171.755767 154.443731 \r\n",
       "L 172.365714 152.95387 \r\n",
       "L 173.585609 152.674787 \r\n",
       "L 174.195556 151.221841 \r\n",
       "L 174.805503 151.094129 \r\n",
       "L 175.41545 151.618132 \r\n",
       "L 176.025397 150.196684 \r\n",
       "L 176.635345 150.719825 \r\n",
       "L 177.245292 151.875991 \r\n",
       "L 178.465186 152.885375 \r\n",
       "L 179.075133 154.009697 \r\n",
       "L 179.68508 153.247386 \r\n",
       "L 180.295028 153.114786 \r\n",
       "L 180.904975 153.601377 \r\n",
       "L 181.514922 153.468263 \r\n",
       "L 182.124869 154.558503 \r\n",
       "L 182.734816 155.029237 \r\n",
       "L 183.344763 154.89054 \r\n",
       "L 183.954711 155.354382 \r\n",
       "L 184.564658 155.215437 \r\n",
       "L 185.174605 156.26717 \r\n",
       "L 187.614394 158.035419 \r\n",
       "L 188.224341 157.886847 \r\n",
       "L 188.834288 157.163705 \r\n",
       "L 189.444235 157.594309 \r\n",
       "L 190.054182 158.590704 \r\n",
       "L 191.274077 159.42431 \r\n",
       "L 191.884024 158.711655 \r\n",
       "L 192.493971 159.682418 \r\n",
       "L 193.103918 160.087507 \r\n",
       "L 193.713865 159.382192 \r\n",
       "L 194.323812 159.234316 \r\n",
       "L 194.93376 159.635627 \r\n",
       "L 195.543707 160.578057 \r\n",
       "L 196.153654 159.884109 \r\n",
       "L 196.763601 160.816183 \r\n",
       "L 197.983495 161.58431 \r\n",
       "L 199.20339 161.278832 \r\n",
       "L 199.813337 161.65524 \r\n",
       "L 200.423284 160.979136 \r\n",
       "L 201.033231 161.353408 \r\n",
       "L 201.643178 161.204604 \r\n",
       "L 202.253126 160.022855 \r\n",
       "L 202.863073 159.88159 \r\n",
       "L 203.47302 159.229229 \r\n",
       "L 206.522756 161.064184 \r\n",
       "L 207.132703 160.424067 \r\n",
       "L 207.74265 161.278832 \r\n",
       "L 208.962544 161.981694 \r\n",
       "L 209.572492 161.348818 \r\n",
       "L 210.182439 161.20916 \r\n",
       "L 210.792386 160.099651 \r\n",
       "L 211.402333 158.516326 \r\n",
       "L 212.01228 159.353445 \r\n",
       "L 212.622227 159.224822 \r\n",
       "L 213.232175 159.574505 \r\n",
       "L 213.842122 160.396364 \r\n",
       "L 214.452069 159.791788 \r\n",
       "L 215.062016 159.663479 \r\n",
       "L 215.671963 160.474569 \r\n",
       "L 216.28191 160.811643 \r\n",
       "L 216.891858 161.611151 \r\n",
       "L 218.111752 161.344742 \r\n",
       "L 219.331646 161.997882 \r\n",
       "L 219.941593 160.953339 \r\n",
       "L 220.551541 160.824998 \r\n",
       "L 221.161488 161.149695 \r\n",
       "L 221.771435 161.021602 \r\n",
       "L 222.381382 161.342886 \r\n",
       "L 223.601276 161.088225 \r\n",
       "L 224.211224 160.51942 \r\n",
       "L 224.821171 160.837606 \r\n",
       "L 225.431118 160.713772 \r\n",
       "L 226.041065 161.466456 \r\n",
       "L 226.651012 161.34113 \r\n",
       "L 227.870907 161.958713 \r\n",
       "L 228.480854 160.540032 \r\n",
       "L 230.310695 160.183357 \r\n",
       "L 230.920642 159.217499 \r\n",
       "L 231.53059 159.527318 \r\n",
       "L 232.140537 160.255977 \r\n",
       "L 232.750484 160.139947 \r\n",
       "L 233.360431 159.188785 \r\n",
       "L 233.970378 159.494064 \r\n",
       "L 234.580325 158.967294 \r\n",
       "L 235.190273 159.684489 \r\n",
       "L 235.80022 159.984548 \r\n",
       "L 236.410167 159.461805 \r\n",
       "L 237.020114 160.169257 \r\n",
       "L 238.849956 159.8348 \r\n",
       "L 239.459903 160.530654 \r\n",
       "L 240.06985 160.418666 \r\n",
       "L 241.289744 160.994164 \r\n",
       "L 241.899691 160.484609 \r\n",
       "L 243.119586 161.842119 \r\n",
       "L 243.729533 161.334967 \r\n",
       "L 244.33948 160.439874 \r\n",
       "L 244.949427 160.721493 \r\n",
       "L 245.559374 159.8348 \r\n",
       "L 246.169322 160.116568 \r\n",
       "L 246.779269 159.238127 \r\n",
       "L 247.389216 158.750526 \r\n",
       "L 247.999163 158.649688 \r\n",
       "L 248.60911 157.785364 \r\n",
       "L 249.829005 159.110316 \r\n",
       "L 251.048899 158.909635 \r\n",
       "L 251.658846 159.185952 \r\n",
       "L 252.87874 158.986796 \r\n",
       "L 253.488688 159.26008 \r\n",
       "L 254.708582 159.062399 \r\n",
       "L 255.318529 159.700908 \r\n",
       "L 255.928476 158.867335 \r\n",
       "L 258.368265 159.933583 \r\n",
       "L 258.978212 160.556816 \r\n",
       "L 259.588159 160.816183 \r\n",
       "L 260.198106 160.715197 \r\n",
       "L 260.808054 160.972393 \r\n",
       "L 261.418001 160.871539 \r\n",
       "L 262.027948 160.416098 \r\n",
       "L 262.637895 159.609449 \r\n",
       "L 263.857789 160.122699 \r\n",
       "L 265.077684 161.328786 \r\n",
       "L 265.687631 161.577599 \r\n",
       "L 266.297578 161.129929 \r\n",
       "L 266.907525 161.031411 \r\n",
       "L 268.12742 161.524728 \r\n",
       "L 269.347314 161.32771 \r\n",
       "L 269.957261 160.547952 \r\n",
       "L 270.567208 161.13311 \r\n",
       "L 271.177155 161.375693 \r\n",
       "L 271.787103 160.940863 \r\n",
       "L 273.616944 161.661586 \r\n",
       "L 274.226891 161.56504 \r\n",
       "L 274.836838 162.134889 \r\n",
       "L 276.056733 162.602541 \r\n",
       "L 277.276627 162.406732 \r\n",
       "L 277.886574 162.965678 \r\n",
       "L 278.496521 162.213209 \r\n",
       "L 279.716416 162.021973 \r\n",
       "L 280.326363 162.25135 \r\n",
       "L 280.93631 162.802625 \r\n",
       "L 281.546257 162.383834 \r\n",
       "L 282.156204 162.931547 \r\n",
       "L 282.766152 162.835233 \r\n",
       "L 283.376099 163.378505 \r\n",
       "L 284.595993 163.184965 \r\n",
       "L 285.20594 163.722588 \r\n",
       "L 285.815887 163.309513 \r\n",
       "L 287.035782 163.118558 \r\n",
       "L 287.645729 163.650315 \r\n",
       "L 288.255676 163.554415 \r\n",
       "L 289.47557 162.743044 \r\n",
       "L 290.085518 163.269913 \r\n",
       "L 290.695465 163.485009 \r\n",
       "L 291.305412 163.390898 \r\n",
       "L 291.915359 163.604453 \r\n",
       "L 292.525306 162.591606 \r\n",
       "L 293.745201 163.019593 \r\n",
       "L 294.355148 163.535643 \r\n",
       "L 294.965095 163.7459 \r\n",
       "L 296.184989 164.765656 \r\n",
       "L 297.404884 165.17502 \r\n",
       "L 298.014831 165.079136 \r\n",
       "L 298.624778 165.579976 \r\n",
       "L 299.234725 165.48353 \r\n",
       "L 299.844672 165.091099 \r\n",
       "L 300.454619 165.292194 \r\n",
       "L 301.674514 165.102863 \r\n",
       "L 302.894408 165.500744 \r\n",
       "L 303.504355 165.406286 \r\n",
       "L 305.944144 166.188562 \r\n",
       "L 306.554091 166.093541 \r\n",
       "L 307.164038 166.573636 \r\n",
       "L 308.383933 166.383079 \r\n",
       "L 310.213774 166.951834 \r\n",
       "L 312.653563 166.573636 \r\n",
       "L 313.26351 166.760366 \r\n",
       "L 313.873457 166.666769 \r\n",
       "L 315.093351 167.036931 \r\n",
       "L 315.703299 166.943351 \r\n",
       "L 316.313246 166.573636 \r\n",
       "L 316.923193 166.757582 \r\n",
       "L 317.53314 166.390154 \r\n",
       "L 318.143087 166.573636 \r\n",
       "L 318.753034 165.934613 \r\n",
       "L 319.362982 165.845126 \r\n",
       "L 319.972929 165.211007 \r\n",
       "L 320.582876 165.123723 \r\n",
       "L 322.412717 165.674037 \r\n",
       "L 323.022665 165.317246 \r\n",
       "L 324.242559 165.144682 \r\n",
       "L 324.852506 165.593596 \r\n",
       "L 326.0724 164.888927 \r\n",
       "L 326.682348 165.335239 \r\n",
       "L 327.902242 165.693273 \r\n",
       "L 328.512189 165.60753 \r\n",
       "L 330.342031 166.137597 \r\n",
       "L 330.951978 166.051622 \r\n",
       "L 332.171872 166.400443 \r\n",
       "L 333.391766 165.711698 \r\n",
       "L 334.001714 165.885686 \r\n",
       "L 334.611661 166.316258 \r\n",
       "L 335.221608 166.488042 \r\n",
       "L 335.831555 166.402846 \r\n",
       "L 336.441502 166.573636 \r\n",
       "L 337.661397 166.404022 \r\n",
       "L 338.271344 165.812054 \r\n",
       "L 338.881291 165.982646 \r\n",
       "L 339.491238 165.647046 \r\n",
       "L 340.101185 165.060845 \r\n",
       "L 341.32108 164.398344 \r\n",
       "L 341.931027 164.820631 \r\n",
       "L 342.540974 164.49141 \r\n",
       "L 343.760868 164.334902 \r\n",
       "L 344.370815 163.760779 \r\n",
       "L 344.980763 164.179769 \r\n",
       "L 345.59071 163.855635 \r\n",
       "L 346.200657 164.026028 \r\n",
       "L 346.810604 163.949662 \r\n",
       "L 347.420551 164.364543 \r\n",
       "L 348.030498 164.532699 \r\n",
       "L 348.640446 164.211349 \r\n",
       "L 349.250393 164.135249 \r\n",
       "L 349.86034 164.302792 \r\n",
       "L 350.470287 163.741261 \r\n",
       "L 351.080234 164.151188 \r\n",
       "L 351.690181 163.834162 \r\n",
       "L 352.910076 164.648266 \r\n",
       "L 354.739917 164.421556 \r\n",
       "L 355.349865 164.823862 \r\n",
       "L 356.569759 164.197763 \r\n",
       "L 358.3996 164.685049 \r\n",
       "L 359.009548 164.374949 \r\n",
       "L 359.619495 164.536311 \r\n",
       "L 360.229442 164.462415 \r\n",
       "L 360.839389 164.622916 \r\n",
       "L 361.449336 165.016341 \r\n",
       "L 362.059283 164.941914 \r\n",
       "L 362.669231 164.635161 \r\n",
       "L 363.279178 164.561844 \r\n",
       "L 363.889125 164.952104 \r\n",
       "L 365.109019 165.266413 \r\n",
       "L 365.718966 165.652812 \r\n",
       "L 366.328914 165.578137 \r\n",
       "L 366.938861 165.274498 \r\n",
       "L 367.548808 165.200917 \r\n",
       "L 368.158755 165.35595 \r\n",
       "L 369.378649 165.209334 \r\n",
       "L 369.988597 165.590315 \r\n",
       "L 370.598544 165.063926 \r\n",
       "L 371.818438 165.370763 \r\n",
       "L 372.428385 164.848003 \r\n",
       "L 373.038332 165.001247 \r\n",
       "L 373.64828 164.705511 \r\n",
       "L 374.258227 164.187258 \r\n",
       "L 374.868174 163.894339 \r\n",
       "L 376.088068 164.201573 \r\n",
       "L 376.088068 164.201573 \r\n",
       "\" style=\"fill:none;stroke:#2ca02c;stroke-linecap:square;stroke-width:1.5;\"/>\r\n",
       "   </g>\r\n",
       "   <g id=\"line2d_19\">\r\n",
       "    <path clip-path=\"url(#pb26ea1820f)\" d=\"M 71.724432 129.510004 \r\n",
       "L 72.334379 185.105452 \r\n",
       "L 72.944326 166.573636 \r\n",
       "L 73.554273 101.712288 \r\n",
       "L 74.16422 85.033652 \r\n",
       "L 74.774168 73.914556 \r\n",
       "L 75.384115 113.62559 \r\n",
       "L 75.994062 101.712288 \r\n",
       "L 76.604009 67.737267 \r\n",
       "L 77.213956 85.033652 \r\n",
       "L 77.823903 89.076954 \r\n",
       "L 78.433851 101.712288 \r\n",
       "L 79.043798 120.956858 \r\n",
       "L 79.653745 121.567797 \r\n",
       "L 80.263692 136.922741 \r\n",
       "L 81.483586 136.050645 \r\n",
       "L 82.093534 135.687276 \r\n",
       "L 82.703481 129.510004 \r\n",
       "L 83.313428 129.510004 \r\n",
       "L 83.923375 124.2152 \r\n",
       "L 84.533322 124.455877 \r\n",
       "L 85.143269 129.510004 \r\n",
       "L 85.753217 129.510004 \r\n",
       "L 86.363164 138.405278 \r\n",
       "L 87.583058 145.982741 \r\n",
       "L 88.802952 137.178346 \r\n",
       "L 89.4129 140.6291 \r\n",
       "L 90.022847 147.44402 \r\n",
       "L 90.632794 150.358295 \r\n",
       "L 91.242741 156.465382 \r\n",
       "L 92.462635 161.278832 \r\n",
       "L 93.072583 160.396364 \r\n",
       "L 93.68253 150.546118 \r\n",
       "L 94.292477 152.918612 \r\n",
       "L 94.902424 152.318393 \r\n",
       "L 95.512371 157.307737 \r\n",
       "L 96.122319 156.629744 \r\n",
       "L 97.342213 160.540032 \r\n",
       "L 97.95216 157.307737 \r\n",
       "L 98.562107 159.160917 \r\n",
       "L 99.172054 163.350719 \r\n",
       "L 100.391949 166.573636 \r\n",
       "L 101.001896 170.355649 \r\n",
       "L 101.611843 171.76255 \r\n",
       "L 102.22179 168.75385 \r\n",
       "L 102.831737 167.999161 \r\n",
       "L 103.441685 169.370903 \r\n",
       "L 104.661579 163.878102 \r\n",
       "L 105.271526 165.249943 \r\n",
       "L 105.881473 164.622916 \r\n",
       "L 106.49142 165.934613 \r\n",
       "L 107.101368 169.086434 \r\n",
       "L 108.321262 171.43444 \r\n",
       "L 108.931209 170.758253 \r\n",
       "L 109.541156 168.338571 \r\n",
       "L 110.151103 167.731874 \r\n",
       "L 110.761051 168.854489 \r\n",
       "L 111.980945 167.680014 \r\n",
       "L 113.200839 169.79657 \r\n",
       "L 113.810786 166.044166 \r\n",
       "L 115.030681 168.117959 \r\n",
       "L 115.640628 164.542757 \r\n",
       "L 116.250575 165.571924 \r\n",
       "L 116.860522 163.608545 \r\n",
       "L 118.690364 166.573636 \r\n",
       "L 119.300311 166.104476 \r\n",
       "L 119.910258 162.867276 \r\n",
       "L 120.520205 163.82818 \r\n",
       "L 121.130152 163.409671 \r\n",
       "L 122.350047 167.897346 \r\n",
       "L 122.959994 167.445732 \r\n",
       "L 123.569941 168.29753 \r\n",
       "L 124.789835 162.361864 \r\n",
       "L 125.399783 161.992745 \r\n",
       "L 126.00973 162.867276 \r\n",
       "L 126.619677 160.056954 \r\n",
       "L 127.229624 159.724933 \r\n",
       "L 127.839571 160.595637 \r\n",
       "L 128.449518 159.082049 \r\n",
       "L 129.059466 159.941205 \r\n",
       "L 129.669413 159.624212 \r\n",
       "L 131.499254 162.081073 \r\n",
       "L 132.109201 160.643454 \r\n",
       "L 133.329096 162.213209 \r\n",
       "L 133.939043 160.816183 \r\n",
       "L 135.768884 159.930153 \r\n",
       "L 136.378832 161.724199 \r\n",
       "L 137.598726 159.092902 \r\n",
       "L 138.208673 158.823975 \r\n",
       "L 138.81862 159.561598 \r\n",
       "L 139.428567 158.300502 \r\n",
       "L 140.038515 156.07774 \r\n",
       "L 140.648462 155.844701 \r\n",
       "L 141.258409 156.582573 \r\n",
       "L 142.478303 159.92119 \r\n",
       "L 143.08825 160.605777 \r\n",
       "L 143.698198 159.410077 \r\n",
       "L 144.308145 160.087507 \r\n",
       "L 145.528039 159.586236 \r\n",
       "L 146.137986 158.437724 \r\n",
       "L 147.357881 161.53298 \r\n",
       "L 147.967828 160.396364 \r\n",
       "L 148.577775 161.028694 \r\n",
       "L 149.187722 160.782449 \r\n",
       "L 149.797669 161.401971 \r\n",
       "L 150.407616 161.156654 \r\n",
       "L 151.017564 162.612648 \r\n",
       "L 152.237458 162.114857 \r\n",
       "L 152.847405 162.701324 \r\n",
       "L 153.457352 162.455461 \r\n",
       "L 154.067299 163.030793 \r\n",
       "L 155.287194 160.933523 \r\n",
       "L 155.897141 161.507397 \r\n",
       "L 156.507088 158.896181 \r\n",
       "L 157.726982 158.482278 \r\n",
       "L 158.33693 159.8348 \r\n",
       "L 158.946877 159.624212 \r\n",
       "L 159.556824 160.183357 \r\n",
       "L 160.776718 162.79164 \r\n",
       "L 161.386665 161.815477 \r\n",
       "L 161.996613 163.091153 \r\n",
       "L 162.60656 162.867276 \r\n",
       "L 163.216507 163.38273 \r\n",
       "L 163.826454 161.696844 \r\n",
       "L 164.436401 162.939947 \r\n",
       "L 165.046348 163.444896 \r\n",
       "L 165.656296 164.660676 \r\n",
       "L 166.266243 164.435358 \r\n",
       "L 166.87619 163.504676 \r\n",
       "L 167.486137 163.993255 \r\n",
       "L 168.096084 163.776386 \r\n",
       "L 168.706031 164.952104 \r\n",
       "L 169.925926 165.887276 \r\n",
       "L 171.14582 164.087663 \r\n",
       "L 172.365714 165.010724 \r\n",
       "L 172.975662 164.798131 \r\n",
       "L 173.585609 165.911798 \r\n",
       "L 175.41545 167.223876 \r\n",
       "L 176.025397 167.004622 \r\n",
       "L 177.245292 167.851699 \r\n",
       "L 177.855239 167.632611 \r\n",
       "L 179.075133 168.458231 \r\n",
       "L 179.68508 167.614749 \r\n",
       "L 180.904975 167.191369 \r\n",
       "L 181.514922 166.368863 \r\n",
       "L 182.734816 167.181245 \r\n",
       "L 183.344763 166.37221 \r\n",
       "L 184.564658 167.171436 \r\n",
       "L 185.174605 166.970043 \r\n",
       "L 185.784552 167.362225 \r\n",
       "L 186.394499 168.338571 \r\n",
       "L 187.004446 168.719437 \r\n",
       "L 187.614394 167.931991 \r\n",
       "L 190.054182 167.143849 \r\n",
       "L 191.274077 167.890619 \r\n",
       "L 191.884024 168.819926 \r\n",
       "L 193.713865 168.233211 \r\n",
       "L 194.323812 167.491064 \r\n",
       "L 194.93376 167.303953 \r\n",
       "L 195.543707 165.48353 \r\n",
       "L 196.153654 165.30805 \r\n",
       "L 196.763601 166.213797 \r\n",
       "L 197.373548 165.499336 \r\n",
       "L 198.593443 166.218966 \r\n",
       "L 199.20339 166.044166 \r\n",
       "L 199.813337 165.344037 \r\n",
       "L 200.423284 166.223986 \r\n",
       "L 202.863073 167.603184 \r\n",
       "L 203.47302 168.452448 \r\n",
       "L 205.302861 169.437642 \r\n",
       "L 205.912809 169.256976 \r\n",
       "L 206.522756 168.577078 \r\n",
       "L 207.132703 168.401897 \r\n",
       "L 207.74265 167.731874 \r\n",
       "L 208.352597 168.550369 \r\n",
       "L 208.962544 167.39364 \r\n",
       "L 210.182439 166.085969 \r\n",
       "L 210.792386 166.411793 \r\n",
       "L 211.402333 167.218226 \r\n",
       "L 212.01228 167.054991 \r\n",
       "L 212.622227 166.413881 \r\n",
       "L 213.232175 166.732713 \r\n",
       "L 213.842122 166.098462 \r\n",
       "L 214.452069 166.415919 \r\n",
       "L 215.062016 165.788394 \r\n",
       "L 215.671963 166.573636 \r\n",
       "L 216.28191 166.417907 \r\n",
       "L 216.891858 165.798253 \r\n",
       "L 217.501805 165.647046 \r\n",
       "L 218.111752 165.035726 \r\n",
       "L 219.331646 162.913039 \r\n",
       "L 219.941593 163.687545 \r\n",
       "L 220.551541 163.548036 \r\n",
       "L 221.161488 162.50568 \r\n",
       "L 221.771435 162.822259 \r\n",
       "L 222.381382 162.687936 \r\n",
       "L 222.991329 163.001251 \r\n",
       "L 223.601276 162.867276 \r\n",
       "L 224.211224 162.291397 \r\n",
       "L 224.821171 162.602541 \r\n",
       "L 225.431118 163.350719 \r\n",
       "L 226.041065 163.21749 \r\n",
       "L 226.651012 162.649265 \r\n",
       "L 229.090801 162.137457 \r\n",
       "L 230.920642 163.03704 \r\n",
       "L 232.140537 162.783041 \r\n",
       "L 232.750484 162.237896 \r\n",
       "L 233.360431 162.53287 \r\n",
       "L 233.970378 161.57629 \r\n",
       "L 235.190273 161.337883 \r\n",
       "L 235.80022 162.043645 \r\n",
       "L 236.410167 161.923588 \r\n",
       "L 237.020114 161.395641 \r\n",
       "L 237.630061 161.278832 \r\n",
       "L 238.240008 160.757082 \r\n",
       "L 239.459903 160.530654 \r\n",
       "L 240.06985 161.221487 \r\n",
       "L 240.679797 161.107428 \r\n",
       "L 241.289744 160.197109 \r\n",
       "L 241.899691 160.087507 \r\n",
       "L 243.119586 161.447816 \r\n",
       "L 244.949427 161.111637 \r\n",
       "L 249.219057 163.019593 \r\n",
       "L 249.829005 162.525729 \r\n",
       "L 250.438952 162.413442 \r\n",
       "L 251.048899 161.171152 \r\n",
       "L 251.658846 161.43983 \r\n",
       "L 252.268793 161.332316 \r\n",
       "L 252.87874 160.852402 \r\n",
       "L 253.488688 161.119457 \r\n",
       "L 254.098635 161.755365 \r\n",
       "L 255.318529 161.541827 \r\n",
       "L 255.928476 161.803083 \r\n",
       "L 256.538423 161.696844 \r\n",
       "L 258.368265 162.468881 \r\n",
       "L 258.978212 162.361864 \r\n",
       "L 260.198106 162.867276 \r\n",
       "L 262.027948 162.547566 \r\n",
       "L 265.077684 163.776386 \r\n",
       "L 265.687631 164.366084 \r\n",
       "L 266.297578 164.257161 \r\n",
       "L 266.907525 163.802532 \r\n",
       "L 268.12742 163.590187 \r\n",
       "L 268.737367 162.798649 \r\n",
       "L 269.347314 162.696221 \r\n",
       "L 269.957261 163.276574 \r\n",
       "L 272.39705 164.215044 \r\n",
       "L 273.006997 163.774266 \r\n",
       "L 273.616944 164.3409 \r\n",
       "L 274.226891 164.236301 \r\n",
       "L 274.836838 163.466518 \r\n",
       "L 276.66668 165.143887 \r\n",
       "L 277.276627 164.380532 \r\n",
       "L 278.496521 164.175411 \r\n",
       "L 279.106469 163.747673 \r\n",
       "L 279.716416 163.972693 \r\n",
       "L 280.326363 163.548036 \r\n",
       "L 280.93631 163.449088 \r\n",
       "L 281.546257 163.028424 \r\n",
       "L 282.156204 162.931547 \r\n",
       "L 282.766152 163.155672 \r\n",
       "L 283.376099 162.739465 \r\n",
       "L 284.595993 162.549588 \r\n",
       "L 285.20594 163.089032 \r\n",
       "L 287.035782 162.804464 \r\n",
       "L 288.255676 161.992745 \r\n",
       "L 288.865623 161.90175 \r\n",
       "L 289.47557 162.121866 \r\n",
       "L 290.085518 162.031019 \r\n",
       "L 290.695465 162.249544 \r\n",
       "L 291.305412 161.850851 \r\n",
       "L 291.915359 162.068663 \r\n",
       "L 292.525306 162.591606 \r\n",
       "L 293.135253 162.50071 \r\n",
       "L 293.745201 163.019593 \r\n",
       "L 294.355148 163.231838 \r\n",
       "L 294.965095 163.139948 \r\n",
       "L 295.575042 163.350719 \r\n",
       "L 296.184989 163.259011 \r\n",
       "L 296.794936 162.867276 \r\n",
       "L 297.404884 163.376782 \r\n",
       "L 298.624778 163.791381 \r\n",
       "L 299.234725 164.294325 \r\n",
       "L 299.844672 163.608545 \r\n",
       "L 300.454619 163.222146 \r\n",
       "L 301.064567 163.132724 \r\n",
       "L 301.674514 162.455461 \r\n",
       "L 302.284461 162.95529 \r\n",
       "L 304.114302 163.565864 \r\n",
       "L 304.72425 163.186622 \r\n",
       "L 305.334197 163.388479 \r\n",
       "L 305.944144 162.72288 \r\n",
       "L 306.554091 162.924886 \r\n",
       "L 307.164038 162.551228 \r\n",
       "L 307.773985 162.466081 \r\n",
       "L 308.99388 162.867276 \r\n",
       "L 310.213774 163.831693 \r\n",
       "L 310.823721 164.027287 \r\n",
       "L 311.433668 163.939671 \r\n",
       "L 312.043616 164.134006 \r\n",
       "L 312.653563 163.765799 \r\n",
       "L 313.26351 163.679509 \r\n",
       "L 313.873457 163.873032 \r\n",
       "L 314.483404 164.344247 \r\n",
       "L 315.703299 164.725079 \r\n",
       "L 316.313246 165.190677 \r\n",
       "L 317.53314 165.014038 \r\n",
       "L 318.143087 165.475461 \r\n",
       "L 318.753034 165.660749 \r\n",
       "L 319.362982 165.298722 \r\n",
       "L 319.972929 165.211007 \r\n",
       "L 320.582876 165.395583 \r\n",
       "L 321.192823 165.036853 \r\n",
       "L 321.80277 164.950414 \r\n",
       "L 322.412717 164.324629 \r\n",
       "L 323.022665 163.971119 \r\n",
       "L 323.632612 163.887877 \r\n",
       "L 324.242559 164.072967 \r\n",
       "L 324.852506 163.188014 \r\n",
       "L 325.462453 163.373899 \r\n",
       "L 326.0724 163.026883 \r\n",
       "L 326.682348 163.212254 \r\n",
       "L 327.292295 163.132012 \r\n",
       "L 327.902242 163.580378 \r\n",
       "L 328.512189 163.763131 \r\n",
       "L 329.122136 163.419297 \r\n",
       "L 329.732083 163.33932 \r\n",
       "L 330.951978 163.702523 \r\n",
       "L 331.561925 163.362035 \r\n",
       "L 332.171872 163.282953 \r\n",
       "L 332.781819 162.945034 \r\n",
       "L 334.001714 162.789884 \r\n",
       "L 335.221608 163.149757 \r\n",
       "L 335.831555 162.816046 \r\n",
       "L 337.051449 162.663266 \r\n",
       "L 337.661397 163.096273 \r\n",
       "L 339.491238 162.867276 \r\n",
       "L 340.101185 163.29591 \r\n",
       "L 340.711132 163.219462 \r\n",
       "L 341.32108 163.394361 \r\n",
       "L 341.931027 162.817189 \r\n",
       "L 342.540974 162.492475 \r\n",
       "L 343.150921 162.418529 \r\n",
       "L 343.760868 162.59366 \r\n",
       "L 344.980763 162.446281 \r\n",
       "L 346.200657 162.793314 \r\n",
       "L 346.810604 163.211674 \r\n",
       "L 347.420551 163.38273 \r\n",
       "L 348.030498 163.797959 \r\n",
       "L 348.640446 163.966977 \r\n",
       "L 349.250393 163.891407 \r\n",
       "L 349.86034 163.329561 \r\n",
       "L 350.470287 163.012949 \r\n",
       "L 351.690181 163.350719 \r\n",
       "L 352.300129 163.759702 \r\n",
       "L 352.910076 163.926234 \r\n",
       "L 353.520023 163.851907 \r\n",
       "L 354.739917 164.182436 \r\n",
       "L 355.349865 164.585256 \r\n",
       "L 355.959812 163.795855 \r\n",
       "L 356.569759 163.722588 \r\n",
       "L 357.179706 163.886734 \r\n",
       "L 358.3996 163.268604 \r\n",
       "L 359.009548 163.197077 \r\n",
       "L 359.619495 163.360942 \r\n",
       "L 360.839389 163.218401 \r\n",
       "L 361.449336 162.680398 \r\n",
       "L 362.059283 162.843964 \r\n",
       "L 362.669231 162.308993 \r\n",
       "L 363.279178 162.008386 \r\n",
       "L 363.889125 161.477391 \r\n",
       "L 364.499072 161.873268 \r\n",
       "L 365.718966 162.199672 \r\n",
       "L 366.328914 162.591606 \r\n",
       "L 367.548808 162.455461 \r\n",
       "L 368.158755 162.844445 \r\n",
       "L 368.768702 162.776132 \r\n",
       "L 369.378649 162.480728 \r\n",
       "L 369.988597 162.640351 \r\n",
       "L 370.598544 163.025806 \r\n",
       "L 371.208491 162.731678 \r\n",
       "L 371.818438 163.115377 \r\n",
       "L 372.428385 163.047345 \r\n",
       "L 373.038332 162.530335 \r\n",
       "L 373.64828 162.687936 \r\n",
       "L 374.258227 163.068636 \r\n",
       "L 374.868174 163.224515 \r\n",
       "L 375.478121 162.934131 \r\n",
       "L 376.088068 162.422522 \r\n",
       "L 376.088068 162.422522 \r\n",
       "\" style=\"fill:none;stroke:#d62728;stroke-linecap:square;stroke-width:1.5;\"/>\r\n",
       "   </g>\r\n",
       "   <g id=\"line2d_20\">\r\n",
       "    <path clip-path=\"url(#pb26ea1820f)\" d=\"M 71.724432 240.700909 \r\n",
       "L 72.334379 185.105452 \r\n",
       "L 72.944326 92.446372 \r\n",
       "L 73.554273 129.510004 \r\n",
       "L 74.16422 129.510004 \r\n",
       "L 74.774168 166.573636 \r\n",
       "L 75.384115 161.278832 \r\n",
       "L 75.994062 157.307737 \r\n",
       "L 76.604009 154.219092 \r\n",
       "L 77.213956 162.867276 \r\n",
       "L 77.823903 159.8348 \r\n",
       "L 78.433851 175.839553 \r\n",
       "L 79.043798 172.275734 \r\n",
       "L 79.653745 185.105452 \r\n",
       "L 80.263692 173.986373 \r\n",
       "L 80.873639 178.156028 \r\n",
       "L 81.483586 175.294491 \r\n",
       "L 82.093534 185.105452 \r\n",
       "L 83.313428 168.426816 \r\n",
       "L 84.533322 174.997198 \r\n",
       "L 85.143269 163.350719 \r\n",
       "L 85.753217 171.206603 \r\n",
       "L 86.363164 173.986373 \r\n",
       "L 86.973111 172.275734 \r\n",
       "L 87.583058 162.455461 \r\n",
       "L 88.802952 160.183357 \r\n",
       "L 89.4129 155.454557 \r\n",
       "L 90.022847 154.617637 \r\n",
       "L 91.242741 166.573636 \r\n",
       "L 91.852688 168.75385 \r\n",
       "L 92.462635 161.278832 \r\n",
       "L 93.072583 151.130465 \r\n",
       "L 93.68253 153.551289 \r\n",
       "L 94.292477 158.770773 \r\n",
       "L 94.902424 160.871539 \r\n",
       "L 95.512371 160.087507 \r\n",
       "L 96.122319 164.765656 \r\n",
       "L 96.732266 166.573636 \r\n",
       "L 97.342213 160.540032 \r\n",
       "L 98.562107 154.219092 \r\n",
       "L 100.391949 159.624212 \r\n",
       "L 101.001896 156.74044 \r\n",
       "L 102.22179 164.393423 \r\n",
       "L 103.441685 163.07707 \r\n",
       "L 104.051632 166.573636 \r\n",
       "L 104.661579 163.878102 \r\n",
       "L 105.271526 163.264396 \r\n",
       "L 106.49142 165.934613 \r\n",
       "L 107.101368 165.317246 \r\n",
       "L 107.711315 162.867276 \r\n",
       "L 108.321262 156.85203 \r\n",
       "L 108.931209 158.204437 \r\n",
       "L 109.541156 161.278832 \r\n",
       "L 110.151103 159.045085 \r\n",
       "L 110.761051 158.590704 \r\n",
       "L 111.370998 159.8348 \r\n",
       "L 111.980945 159.382192 \r\n",
       "L 112.590892 160.578057 \r\n",
       "L 113.200839 158.516326 \r\n",
       "L 113.810786 158.101959 \r\n",
       "L 114.420734 159.265316 \r\n",
       "L 115.030681 161.940686 \r\n",
       "L 115.640628 163.019593 \r\n",
       "L 116.860522 168.05619 \r\n",
       "L 117.470469 167.549005 \r\n",
       "L 118.080417 168.499023 \r\n",
       "L 118.690364 167.999161 \r\n",
       "L 119.300311 168.919438 \r\n",
       "L 119.910258 168.426816 \r\n",
       "L 120.520205 169.319092 \r\n",
       "L 121.130152 171.545599 \r\n",
       "L 121.7401 172.378791 \r\n",
       "L 122.350047 170.544748 \r\n",
       "L 122.959994 170.061985 \r\n",
       "L 123.569941 170.883363 \r\n",
       "L 124.179888 172.963916 \r\n",
       "L 126.619677 175.941368 \r\n",
       "L 127.229624 174.228094 \r\n",
       "L 127.839571 173.747253 \r\n",
       "L 128.449518 174.459526 \r\n",
       "L 129.059466 176.327237 \r\n",
       "L 130.27936 177.654525 \r\n",
       "L 130.889307 176.028652 \r\n",
       "L 131.499254 173.312489 \r\n",
       "L 132.109201 171.76255 \r\n",
       "L 132.719149 172.445116 \r\n",
       "L 133.329096 172.024171 \r\n",
       "L 133.939043 172.690946 \r\n",
       "L 134.54899 171.206603 \r\n",
       "L 135.158937 172.927415 \r\n",
       "L 135.768884 172.517803 \r\n",
       "L 136.378832 174.194194 \r\n",
       "L 136.988779 174.810005 \r\n",
       "L 137.598726 174.394411 \r\n",
       "L 138.208673 174.997198 \r\n",
       "L 138.81862 176.590845 \r\n",
       "L 139.428567 176.17048 \r\n",
       "L 140.038515 177.725539 \r\n",
       "L 140.648462 178.27794 \r\n",
       "L 141.258409 175.920126 \r\n",
       "L 142.478303 173.226083 \r\n",
       "L 143.08825 170.971029 \r\n",
       "L 143.698198 172.491359 \r\n",
       "L 144.308145 171.206603 \r\n",
       "L 144.918092 168.105201 \r\n",
       "L 146.137986 169.285607 \r\n",
       "L 146.747933 168.068136 \r\n",
       "L 147.357881 167.759676 \r\n",
       "L 149.797669 170.021425 \r\n",
       "L 150.407616 171.420422 \r\n",
       "L 152.847405 173.488499 \r\n",
       "L 153.457352 173.162724 \r\n",
       "L 154.067299 174.476923 \r\n",
       "L 155.287194 175.436684 \r\n",
       "L 155.897141 175.10627 \r\n",
       "L 156.507088 173.986373 \r\n",
       "L 157.117035 173.670937 \r\n",
       "L 157.726982 171.793865 \r\n",
       "L 158.946877 172.750908 \r\n",
       "L 159.556824 172.452704 \r\n",
       "L 160.166771 172.920158 \r\n",
       "L 160.776718 172.624853 \r\n",
       "L 162.60656 173.986373 \r\n",
       "L 163.216507 172.955466 \r\n",
       "L 163.826454 174.132675 \r\n",
       "L 164.436401 173.841015 \r\n",
       "L 165.046348 174.275182 \r\n",
       "L 166.266243 172.275734 \r\n",
       "L 166.87619 172.711574 \r\n",
       "L 167.486137 173.845621 \r\n",
       "L 168.096084 172.867469 \r\n",
       "L 169.315979 173.710122 \r\n",
       "L 169.925926 172.750908 \r\n",
       "L 170.535873 172.485626 \r\n",
       "L 171.14582 172.901584 \r\n",
       "L 171.755767 172.638606 \r\n",
       "L 172.975662 173.453721 \r\n",
       "L 173.585609 171.868441 \r\n",
       "L 174.195556 171.617806 \r\n",
       "L 174.805503 172.024171 \r\n",
       "L 175.41545 171.775557 \r\n",
       "L 176.025397 172.82275 \r\n",
       "L 176.635345 171.929662 \r\n",
       "L 177.855239 168.90335 \r\n",
       "L 178.465186 168.047757 \r\n",
       "L 179.075133 169.086434 \r\n",
       "L 180.295028 168.644231 \r\n",
       "L 180.904975 167.809101 \r\n",
       "L 181.514922 168.826123 \r\n",
       "L 182.734816 167.181245 \r\n",
       "L 183.344763 167.5808 \r\n",
       "L 183.954711 167.375016 \r\n",
       "L 184.564658 167.769236 \r\n",
       "L 185.174605 165.780839 \r\n",
       "L 185.784552 165.587913 \r\n",
       "L 187.614394 163.274785 \r\n",
       "L 188.224341 163.678051 \r\n",
       "L 189.444235 163.3258 \r\n",
       "L 190.054182 163.722588 \r\n",
       "L 190.664129 162.980739 \r\n",
       "L 192.493971 162.476155 \r\n",
       "L 193.103918 161.755365 \r\n",
       "L 194.323812 162.537012 \r\n",
       "L 194.93376 162.374307 \r\n",
       "L 195.543707 162.758271 \r\n",
       "L 196.153654 163.680868 \r\n",
       "L 196.763601 163.514998 \r\n",
       "L 197.373548 163.887877 \r\n",
       "L 197.983495 162.653457 \r\n",
       "L 198.593443 163.558889 \r\n",
       "L 199.20339 162.337806 \r\n",
       "L 201.033231 161.875439 \r\n",
       "L 201.643178 162.763357 \r\n",
       "L 202.253126 162.608688 \r\n",
       "L 203.47302 163.328434 \r\n",
       "L 205.302861 161.351038 \r\n",
       "L 205.912809 162.213209 \r\n",
       "L 206.522756 162.065896 \r\n",
       "L 207.74265 162.767997 \r\n",
       "L 208.352597 162.620187 \r\n",
       "L 208.962544 162.965678 \r\n",
       "L 209.572492 163.797959 \r\n",
       "L 210.792386 164.469589 \r\n",
       "L 211.402333 164.317588 \r\n",
       "L 212.01228 163.204218 \r\n",
       "L 212.622227 164.017528 \r\n",
       "L 213.232175 163.392207 \r\n",
       "L 213.842122 164.197763 \r\n",
       "L 214.452069 163.577015 \r\n",
       "L 215.062016 163.432651 \r\n",
       "L 215.671963 162.82037 \r\n",
       "L 216.28191 163.147586 \r\n",
       "L 216.891858 162.541618 \r\n",
       "L 218.111752 164.11298 \r\n",
       "L 218.721699 164.42946 \r\n",
       "L 219.941593 165.966044 \r\n",
       "L 221.771435 166.873746 \r\n",
       "L 222.991329 164.787444 \r\n",
       "L 224.211224 165.392335 \r\n",
       "L 224.821171 164.808701 \r\n",
       "L 225.431118 165.108678 \r\n",
       "L 226.041065 164.530761 \r\n",
       "L 226.651012 165.265518 \r\n",
       "L 229.090801 166.430532 \r\n",
       "L 230.310695 166.147621 \r\n",
       "L 230.920642 166.432172 \r\n",
       "L 232.140537 167.837168 \r\n",
       "L 232.750484 168.112126 \r\n",
       "L 233.360431 167.967017 \r\n",
       "L 233.970378 168.239424 \r\n",
       "L 234.580325 168.92469 \r\n",
       "L 235.80022 168.632733 \r\n",
       "L 236.410167 168.898661 \r\n",
       "L 237.020114 169.571434 \r\n",
       "L 237.630061 169.831978 \r\n",
       "L 238.849956 171.156052 \r\n",
       "L 239.459903 170.199439 \r\n",
       "L 240.679797 170.706641 \r\n",
       "L 241.289744 170.558981 \r\n",
       "L 241.899691 171.206603 \r\n",
       "L 242.509639 169.871113 \r\n",
       "L 243.119586 169.333706 \r\n",
       "L 243.729533 169.192988 \r\n",
       "L 244.33948 169.444766 \r\n",
       "L 245.559374 169.1655 \r\n",
       "L 246.779269 168.117959 \r\n",
       "L 247.999163 167.851699 \r\n",
       "L 248.60911 168.102036 \r\n",
       "L 249.219057 167.969867 \r\n",
       "L 249.829005 168.2181 \r\n",
       "L 251.048899 167.955668 \r\n",
       "L 251.658846 168.577078 \r\n",
       "L 252.268793 168.819926 \r\n",
       "L 252.87874 168.314895 \r\n",
       "L 253.488688 168.55698 \r\n",
       "L 254.098635 168.426816 \r\n",
       "L 254.708582 169.036347 \r\n",
       "L 255.318529 168.16909 \r\n",
       "L 255.928476 168.775439 \r\n",
       "L 257.148371 169.247085 \r\n",
       "L 257.758318 169.117219 \r\n",
       "L 258.368265 167.901654 \r\n",
       "L 258.978212 168.499023 \r\n",
       "L 259.588159 168.013012 \r\n",
       "L 260.198106 168.247476 \r\n",
       "L 260.808054 167.765392 \r\n",
       "L 261.418001 168.355554 \r\n",
       "L 262.027948 168.231438 \r\n",
       "L 262.637895 168.816347 \r\n",
       "L 263.857789 168.567568 \r\n",
       "L 265.077684 167.62262 \r\n",
       "L 265.687631 167.503142 \r\n",
       "L 266.297578 168.079353 \r\n",
       "L 266.907525 167.612811 \r\n",
       "L 267.517472 167.494477 \r\n",
       "L 268.12742 167.03264 \r\n",
       "L 268.737367 167.260013 \r\n",
       "L 270.567208 165.893573 \r\n",
       "L 271.787103 166.348335 \r\n",
       "L 272.39705 166.910578 \r\n",
       "L 273.006997 166.797596 \r\n",
       "L 273.616944 167.020197 \r\n",
       "L 274.836838 164.798131 \r\n",
       "L 275.446786 165.024708 \r\n",
       "L 276.056733 165.580871 \r\n",
       "L 277.276627 166.02536 \r\n",
       "L 277.886574 165.589652 \r\n",
       "L 278.496521 166.137597 \r\n",
       "L 279.106469 166.356255 \r\n",
       "L 280.93631 166.03492 \r\n",
       "L 281.546257 166.573636 \r\n",
       "L 282.156204 166.466519 \r\n",
       "L 282.766152 166.039576 \r\n",
       "L 284.595993 166.679544 \r\n",
       "L 285.20594 166.573636 \r\n",
       "L 285.815887 166.784225 \r\n",
       "L 286.425835 166.678632 \r\n",
       "L 287.035782 167.20184 \r\n",
       "L 288.255676 166.990092 \r\n",
       "L 288.865623 166.573636 \r\n",
       "L 289.47557 166.470115 \r\n",
       "L 290.085518 166.986612 \r\n",
       "L 290.695465 166.882511 \r\n",
       "L 291.305412 167.086986 \r\n",
       "L 291.915359 166.983182 \r\n",
       "L 294.355148 167.788837 \r\n",
       "L 294.965095 167.684537 \r\n",
       "L 296.184989 166.272317 \r\n",
       "L 296.794936 166.473462 \r\n",
       "L 298.014831 166.274736 \r\n",
       "L 298.624778 165.579976 \r\n",
       "L 299.844672 165.980625 \r\n",
       "L 300.454619 166.475069 \r\n",
       "L 301.674514 166.279492 \r\n",
       "L 302.284461 165.889082 \r\n",
       "L 303.504355 165.698128 \r\n",
       "L 304.114302 164.439086 \r\n",
       "L 304.72425 164.347892 \r\n",
       "L 305.334197 163.388479 \r\n",
       "L 305.944144 163.589292 \r\n",
       "L 306.554091 164.077126 \r\n",
       "L 307.164038 163.987803 \r\n",
       "L 307.773985 164.472091 \r\n",
       "L 308.383933 164.096378 \r\n",
       "L 308.99388 163.437489 \r\n",
       "L 309.603827 163.066333 \r\n",
       "L 310.213774 163.548036 \r\n",
       "L 310.823721 163.744359 \r\n",
       "L 311.433668 163.375257 \r\n",
       "L 312.043616 163.571017 \r\n",
       "L 313.873457 163.314284 \r\n",
       "L 315.093351 163.701214 \r\n",
       "L 315.703299 163.338657 \r\n",
       "L 316.313246 163.254504 \r\n",
       "L 316.923193 163.722588 \r\n",
       "L 317.53314 163.637905 \r\n",
       "L 318.143087 163.82818 \r\n",
       "L 319.972929 165.211007 \r\n",
       "L 320.582876 165.395583 \r\n",
       "L 321.80277 165.220948 \r\n",
       "L 322.412717 164.864389 \r\n",
       "L 323.022665 165.04802 \r\n",
       "L 323.632612 164.425019 \r\n",
       "L 324.242559 164.876749 \r\n",
       "L 324.852506 164.791735 \r\n",
       "L 325.462453 165.240416 \r\n",
       "L 326.0724 165.154938 \r\n",
       "L 327.292295 164.455721 \r\n",
       "L 327.902242 164.372712 \r\n",
       "L 329.122136 164.733595 \r\n",
       "L 331.561925 164.403646 \r\n",
       "L 332.781819 164.759343 \r\n",
       "L 334.001714 165.627694 \r\n",
       "L 334.611661 164.771935 \r\n",
       "L 335.831555 165.121834 \r\n",
       "L 337.051449 164.958483 \r\n",
       "L 338.271344 165.304339 \r\n",
       "L 339.491238 165.141634 \r\n",
       "L 340.101185 164.808701 \r\n",
       "L 341.32108 165.151343 \r\n",
       "L 341.931027 164.570195 \r\n",
       "L 342.540974 164.741283 \r\n",
       "L 343.150921 164.662284 \r\n",
       "L 344.370815 165.001744 \r\n",
       "L 344.980763 164.922694 \r\n",
       "L 345.59071 165.091099 \r\n",
       "L 346.810604 164.933663 \r\n",
       "L 347.420551 164.119094 \r\n",
       "L 348.030498 164.042861 \r\n",
       "L 348.640446 163.722588 \r\n",
       "L 349.250393 163.891407 \r\n",
       "L 349.86034 163.816168 \r\n",
       "L 350.470287 164.226824 \r\n",
       "L 354.739917 163.704196 \r\n",
       "L 355.349865 163.392207 \r\n",
       "L 355.959812 163.795855 \r\n",
       "L 356.569759 163.960183 \r\n",
       "L 357.179706 164.360882 \r\n",
       "L 357.789653 164.286737 \r\n",
       "L 358.3996 164.448978 \r\n",
       "L 359.009548 164.374949 \r\n",
       "L 360.229442 164.696995 \r\n",
       "L 360.839389 164.388833 \r\n",
       "L 361.449336 164.549152 \r\n",
       "L 362.059283 164.475703 \r\n",
       "L 362.669231 164.635161 \r\n",
       "L 363.279178 164.561844 \r\n",
       "L 363.889125 164.952104 \r\n",
       "L 364.499072 164.647256 \r\n",
       "L 365.109019 164.574353 \r\n",
       "L 365.718966 164.041337 \r\n",
       "L 366.328914 164.199734 \r\n",
       "L 366.938861 164.58673 \r\n",
       "L 367.548808 164.514557 \r\n",
       "L 368.158755 163.986031 \r\n",
       "L 368.768702 164.143235 \r\n",
       "L 369.378649 164.527182 \r\n",
       "L 370.598544 164.384542 \r\n",
       "L 371.818438 164.694145 \r\n",
       "L 372.428385 164.622916 \r\n",
       "L 374.868174 165.233988 \r\n",
       "L 375.478121 165.162394 \r\n",
       "L 376.088068 165.535854 \r\n",
       "L 376.088068 165.535854 \r\n",
       "\" style=\"fill:none;stroke:#9467bd;stroke-linecap:square;stroke-width:1.5;\"/>\r\n",
       "   </g>\r\n",
       "   <g id=\"line2d_21\">\r\n",
       "    <path clip-path=\"url(#pb26ea1820f)\" d=\"M 71.724432 240.700909 \r\n",
       "L 72.334379 185.105452 \r\n",
       "L 72.944326 203.637269 \r\n",
       "L 73.554273 212.903185 \r\n",
       "L 74.16422 173.986373 \r\n",
       "L 74.774168 203.637269 \r\n",
       "L 75.384115 208.932073 \r\n",
       "L 75.994062 212.903185 \r\n",
       "L 76.604009 215.991821 \r\n",
       "L 77.213956 196.224549 \r\n",
       "L 77.823903 210.376121 \r\n",
       "L 79.043798 197.935171 \r\n",
       "L 79.653745 208.932073 \r\n",
       "L 80.263692 203.637269 \r\n",
       "L 80.873639 205.95376 \r\n",
       "L 81.483586 188.375773 \r\n",
       "L 82.093534 178.92818 \r\n",
       "L 82.703481 182.179381 \r\n",
       "L 83.313428 173.986373 \r\n",
       "L 83.923375 161.278832 \r\n",
       "L 84.533322 159.8348 \r\n",
       "L 85.143269 153.68195 \r\n",
       "L 86.363164 133.957649 \r\n",
       "L 86.973111 133.786577 \r\n",
       "L 87.583058 137.746372 \r\n",
       "L 88.193005 145.394418 \r\n",
       "L 88.802952 148.68086 \r\n",
       "L 90.022847 147.44402 \r\n",
       "L 90.632794 139.934158 \r\n",
       "L 91.242741 139.618275 \r\n",
       "L 91.852688 136.050645 \r\n",
       "L 93.072583 141.864548 \r\n",
       "L 93.68253 141.530638 \r\n",
       "L 95.512371 132.289774 \r\n",
       "L 96.122319 137.645933 \r\n",
       "L 96.732266 137.452211 \r\n",
       "L 97.95216 147.199466 \r\n",
       "L 98.562107 146.806372 \r\n",
       "L 99.172054 139.178789 \r\n",
       "L 99.782002 136.607305 \r\n",
       "L 100.391949 138.77592 \r\n",
       "L 101.001896 138.586822 \r\n",
       "L 101.611843 136.181455 \r\n",
       "L 102.22179 136.050645 \r\n",
       "L 103.441685 131.607954 \r\n",
       "L 104.051632 131.5691 \r\n",
       "L 105.271526 139.437759 \r\n",
       "L 105.881473 141.214308 \r\n",
       "L 106.49142 141.012518 \r\n",
       "L 107.101368 137.048381 \r\n",
       "L 107.711315 135.069561 \r\n",
       "L 108.321262 136.801209 \r\n",
       "L 108.931209 136.683621 \r\n",
       "L 109.541156 133.039874 \r\n",
       "L 110.151103 134.722081 \r\n",
       "L 110.761051 134.641888 \r\n",
       "L 111.370998 136.248857 \r\n",
       "L 111.980945 136.148268 \r\n",
       "L 113.200839 142.401707 \r\n",
       "L 113.810786 142.217545 \r\n",
       "L 114.420734 145.17069 \r\n",
       "L 115.640628 147.787971 \r\n",
       "L 116.250575 146.038378 \r\n",
       "L 116.860522 145.818014 \r\n",
       "L 117.470469 147.066468 \r\n",
       "L 118.080417 149.726529 \r\n",
       "L 118.690364 150.892869 \r\n",
       "L 119.300311 153.437164 \r\n",
       "L 119.910258 154.527967 \r\n",
       "L 120.520205 156.964548 \r\n",
       "L 121.130152 156.629744 \r\n",
       "L 121.7401 157.64264 \r\n",
       "L 122.350047 155.984027 \r\n",
       "L 122.959994 156.980703 \r\n",
       "L 123.569941 155.36835 \r\n",
       "L 124.789835 157.307737 \r\n",
       "L 126.00973 156.690004 \r\n",
       "L 126.619677 157.613198 \r\n",
       "L 127.229624 159.724933 \r\n",
       "L 127.839571 159.400037 \r\n",
       "L 128.449518 160.264941 \r\n",
       "L 130.27936 159.313747 \r\n",
       "L 130.889307 160.144238 \r\n",
       "L 131.499254 158.711655 \r\n",
       "L 132.109201 160.643454 \r\n",
       "L 132.719149 161.436102 \r\n",
       "L 133.329096 161.123102 \r\n",
       "L 133.939043 162.975238 \r\n",
       "L 135.158937 164.455721 \r\n",
       "L 135.768884 163.07707 \r\n",
       "L 136.378832 160.685025 \r\n",
       "L 137.598726 160.113006 \r\n",
       "L 138.208673 161.856451 \r\n",
       "L 138.81862 162.566769 \r\n",
       "L 139.428567 164.257161 \r\n",
       "L 140.648462 163.647564 \r\n",
       "L 141.258409 164.317588 \r\n",
       "L 141.868356 165.934613 \r\n",
       "L 144.308145 164.720456 \r\n",
       "L 145.528039 167.788837 \r\n",
       "L 146.747933 167.171436 \r\n",
       "L 147.357881 165.980625 \r\n",
       "L 147.967828 166.573636 \r\n",
       "L 148.577775 166.281795 \r\n",
       "L 149.187722 166.863208 \r\n",
       "L 149.797669 166.573636 \r\n",
       "L 150.407616 167.143849 \r\n",
       "L 151.627511 166.573636 \r\n",
       "L 152.847405 167.680014 \r\n",
       "L 153.457352 169.044548 \r\n",
       "L 154.067299 168.75385 \r\n",
       "L 154.677247 169.279013 \r\n",
       "L 155.287194 170.602291 \r\n",
       "L 155.897141 170.306672 \r\n",
       "L 157.117035 171.30517 \r\n",
       "L 157.726982 172.576904 \r\n",
       "L 158.33693 170.720625 \r\n",
       "L 158.946877 171.206603 \r\n",
       "L 159.556824 170.919036 \r\n",
       "L 160.166771 172.158576 \r\n",
       "L 160.776718 172.624853 \r\n",
       "L 161.386665 172.333525 \r\n",
       "L 161.996613 172.79238 \r\n",
       "L 162.60656 171.021282 \r\n",
       "L 163.216507 171.482737 \r\n",
       "L 163.826454 172.669639 \r\n",
       "L 164.436401 172.387539 \r\n",
       "L 165.046348 171.387103 \r\n",
       "L 167.486137 173.141881 \r\n",
       "L 168.096084 174.266086 \r\n",
       "L 169.315979 173.710122 \r\n",
       "L 169.925926 174.123645 \r\n",
       "L 171.14582 173.579577 \r\n",
       "L 171.755767 173.986373 \r\n",
       "L 172.365714 173.048615 \r\n",
       "L 172.975662 173.453721 \r\n",
       "L 173.585609 172.530296 \r\n",
       "L 174.805503 173.332305 \r\n",
       "L 177.245292 172.324893 \r\n",
       "L 177.855239 172.715617 \r\n",
       "L 178.465186 173.733666 \r\n",
       "L 179.075133 172.227419 \r\n",
       "L 179.68508 171.987438 \r\n",
       "L 180.295028 172.371302 \r\n",
       "L 180.904975 173.368641 \r\n",
       "L 181.514922 172.51202 \r\n",
       "L 182.124869 172.275734 \r\n",
       "L 182.734816 171.43444 \r\n",
       "L 183.344763 172.415193 \r\n",
       "L 183.954711 172.18328 \r\n",
       "L 184.564658 171.356053 \r\n",
       "L 185.174605 171.726878 \r\n",
       "L 186.394499 170.103506 \r\n",
       "L 187.614394 170.842753 \r\n",
       "L 188.834288 170.414435 \r\n",
       "L 189.444235 170.776727 \r\n",
       "L 190.664129 169.221039 \r\n",
       "L 191.274077 169.019463 \r\n",
       "L 191.884024 169.38149 \r\n",
       "L 192.493971 169.181141 \r\n",
       "L 193.103918 168.426816 \r\n",
       "L 194.323812 168.04151 \r\n",
       "L 194.93376 167.303953 \r\n",
       "L 195.543707 167.663743 \r\n",
       "L 196.153654 167.477627 \r\n",
       "L 196.763601 166.213797 \r\n",
       "L 197.373548 166.573636 \r\n",
       "L 197.983495 166.395456 \r\n",
       "L 198.593443 165.686944 \r\n",
       "L 199.20339 165.514679 \r\n",
       "L 199.813337 165.871006 \r\n",
       "L 201.643178 165.361285 \r\n",
       "L 202.253126 166.228858 \r\n",
       "L 202.863073 165.029331 \r\n",
       "L 204.082967 165.723561 \r\n",
       "L 204.692914 165.050472 \r\n",
       "L 205.302861 164.888927 \r\n",
       "L 207.132703 162.917132 \r\n",
       "L 207.74265 162.767997 \r\n",
       "L 208.352597 161.631829 \r\n",
       "L 208.962544 162.473686 \r\n",
       "L 211.402333 163.834162 \r\n",
       "L 212.622227 165.455346 \r\n",
       "L 213.232175 165.778287 \r\n",
       "L 213.842122 164.197763 \r\n",
       "L 215.062016 163.9038 \r\n",
       "L 215.671963 162.82037 \r\n",
       "L 216.28191 162.213209 \r\n",
       "L 216.891858 162.076384 \r\n",
       "L 217.501805 162.867276 \r\n",
       "L 219.331646 163.82818 \r\n",
       "L 219.941593 163.231838 \r\n",
       "L 220.551541 164.001887 \r\n",
       "L 221.161488 164.313661 \r\n",
       "L 221.771435 164.17276 \r\n",
       "L 222.381382 164.481336 \r\n",
       "L 222.991329 165.233988 \r\n",
       "L 224.211224 165.835317 \r\n",
       "L 224.821171 165.691169 \r\n",
       "L 225.431118 165.108678 \r\n",
       "L 226.041065 164.092998 \r\n",
       "L 226.651012 162.649265 \r\n",
       "L 227.260959 162.954146 \r\n",
       "L 227.870907 162.391356 \r\n",
       "L 228.480854 162.263909 \r\n",
       "L 229.700748 162.867276 \r\n",
       "L 230.920642 164.310215 \r\n",
       "L 231.53059 162.90956 \r\n",
       "L 232.140537 163.204218 \r\n",
       "L 233.360431 162.950882 \r\n",
       "L 233.970378 162.409184 \r\n",
       "L 234.580325 162.286426 \r\n",
       "L 235.190273 162.577937 \r\n",
       "L 235.80022 162.043645 \r\n",
       "L 236.410167 162.744187 \r\n",
       "L 237.020114 163.030793 \r\n",
       "L 237.630061 162.908002 \r\n",
       "L 238.240008 163.191924 \r\n",
       "L 238.849956 163.878102 \r\n",
       "L 239.459903 164.15644 \r\n",
       "L 240.06985 164.031363 \r\n",
       "L 240.679797 164.307166 \r\n",
       "L 242.509639 163.935662 \r\n",
       "L 243.119586 163.024994 \r\n",
       "L 243.729533 163.299472 \r\n",
       "L 244.33948 163.180492 \r\n",
       "L 244.949427 163.452501 \r\n",
       "L 246.779269 165.415399 \r\n",
       "L 247.389216 165.291167 \r\n",
       "L 247.999163 164.784362 \r\n",
       "L 249.219057 165.304339 \r\n",
       "L 250.438952 165.060845 \r\n",
       "L 251.048899 165.694168 \r\n",
       "L 252.268793 165.450508 \r\n",
       "L 252.87874 166.076144 \r\n",
       "L 253.488688 165.95385 \r\n",
       "L 254.708582 164.972881 \r\n",
       "L 255.928476 165.472743 \r\n",
       "L 257.148371 164.507797 \r\n",
       "L 258.368265 165.004179 \r\n",
       "L 258.978212 164.888927 \r\n",
       "L 259.588159 164.054758 \r\n",
       "L 260.198106 164.301996 \r\n",
       "L 260.808054 164.190124 \r\n",
       "L 261.418001 164.791735 \r\n",
       "L 262.027948 165.034252 \r\n",
       "L 262.637895 164.92112 \r\n",
       "L 263.247842 165.161698 \r\n",
       "L 264.467737 164.936761 \r\n",
       "L 265.687631 164.017528 \r\n",
       "L 266.297578 164.604641 \r\n",
       "L 266.907525 164.84169 \r\n",
       "L 267.517472 164.731972 \r\n",
       "L 268.737367 165.200917 \r\n",
       "L 269.957261 166.346264 \r\n",
       "L 270.567208 166.233613 \r\n",
       "L 271.177155 165.443649 \r\n",
       "L 271.787103 164.996458 \r\n",
       "L 272.39705 163.878102 \r\n",
       "L 273.006997 163.774266 \r\n",
       "L 273.616944 164.005979 \r\n",
       "L 274.836838 165.131046 \r\n",
       "L 275.446786 165.35663 \r\n",
       "L 276.056733 164.919016 \r\n",
       "L 276.66668 165.143887 \r\n",
       "L 277.886574 164.933663 \r\n",
       "L 278.496521 164.502445 \r\n",
       "L 279.106469 164.399818 \r\n",
       "L 280.326363 164.844722 \r\n",
       "L 280.93631 164.09555 \r\n",
       "L 282.156204 164.538349 \r\n",
       "L 282.766152 164.437413 \r\n",
       "L 283.376099 163.698016 \r\n",
       "L 283.986046 164.237246 \r\n",
       "L 285.20594 164.039382 \r\n",
       "L 285.815887 164.573044 \r\n",
       "L 287.035782 165.003152 \r\n",
       "L 287.645729 164.903176 \r\n",
       "L 288.865623 165.950718 \r\n",
       "L 290.695465 165.647046 \r\n",
       "L 291.305412 165.854951 \r\n",
       "L 291.915359 165.754561 \r\n",
       "L 292.525306 166.26733 \r\n",
       "L 293.135253 166.166344 \r\n",
       "L 293.745201 166.370553 \r\n",
       "L 294.355148 165.966044 \r\n",
       "L 294.965095 165.866698 \r\n",
       "L 295.575042 165.16362 \r\n",
       "L 296.184989 165.368327 \r\n",
       "L 296.794936 164.970893 \r\n",
       "L 297.404884 164.275901 \r\n",
       "L 298.624778 165.281888 \r\n",
       "L 299.844672 165.684111 \r\n",
       "L 300.454619 164.996458 \r\n",
       "L 301.064567 164.607408 \r\n",
       "L 301.674514 164.808701 \r\n",
       "L 302.284461 164.422186 \r\n",
       "L 302.894408 164.915537 \r\n",
       "L 304.114302 165.312308 \r\n",
       "L 305.334197 165.125844 \r\n",
       "L 305.944144 165.610943 \r\n",
       "L 306.554091 165.517429 \r\n",
       "L 307.164038 165.999016 \r\n",
       "L 307.773985 165.904972 \r\n",
       "L 308.383933 165.525564 \r\n",
       "L 308.99388 165.718325 \r\n",
       "L 309.603827 164.772598 \r\n",
       "L 310.823721 164.027287 \r\n",
       "L 311.433668 164.504102 \r\n",
       "L 312.043616 164.134006 \r\n",
       "L 312.653563 164.046573 \r\n",
       "L 313.26351 164.239665 \r\n",
       "L 313.873457 164.711145 \r\n",
       "L 314.483404 164.344247 \r\n",
       "L 315.093351 164.257161 \r\n",
       "L 315.703299 164.725079 \r\n",
       "L 316.923193 164.550312 \r\n",
       "L 318.143087 164.926373 \r\n",
       "L 318.753034 165.386868 \r\n",
       "L 319.362982 165.298722 \r\n",
       "L 319.972929 165.756069 \r\n",
       "L 320.582876 165.667443 \r\n",
       "L 321.192823 165.30805 \r\n",
       "L 321.80277 165.220948 \r\n",
       "L 323.022665 166.124922 \r\n",
       "L 323.632612 166.305057 \r\n",
       "L 324.242559 166.752264 \r\n",
       "L 324.852506 166.93003 \r\n",
       "L 325.462453 166.573636 \r\n",
       "L 326.0724 166.750988 \r\n",
       "L 326.682348 166.396732 \r\n",
       "L 327.292295 166.838388 \r\n",
       "L 327.902242 165.957379 \r\n",
       "L 328.512189 165.871006 \r\n",
       "L 329.732083 166.223986 \r\n",
       "L 330.342031 165.875977 \r\n",
       "L 330.951978 166.312629 \r\n",
       "L 331.561925 166.226439 \r\n",
       "L 332.171872 165.880864 \r\n",
       "L 332.781819 166.314452 \r\n",
       "L 333.391766 166.487446 \r\n",
       "L 334.001714 166.401653 \r\n",
       "L 334.611661 166.831032 \r\n",
       "L 335.221608 167.001623 \r\n",
       "L 335.831555 166.915234 \r\n",
       "L 336.441502 167.084865 \r\n",
       "L 337.051449 167.508726 \r\n",
       "L 337.661397 167.676219 \r\n",
       "L 338.271344 168.0968 \r\n",
       "L 339.491238 168.426816 \r\n",
       "L 340.711132 169.256976 \r\n",
       "L 341.32108 169.167257 \r\n",
       "L 341.931027 169.578807 \r\n",
       "L 343.150921 169.897739 \r\n",
       "L 343.760868 169.80739 \r\n",
       "L 344.370815 170.213821 \r\n",
       "L 344.980763 170.37081 \r\n",
       "L 345.59071 170.280013 \r\n",
       "L 346.810604 169.607604 \r\n",
       "L 348.030498 169.920803 \r\n",
       "L 348.640446 169.831978 \r\n",
       "L 349.250393 170.231234 \r\n",
       "L 350.470287 170.538966 \r\n",
       "L 351.080234 170.207326 \r\n",
       "L 351.690181 170.118865 \r\n",
       "L 352.300129 170.27196 \r\n",
       "L 353.520023 170.095884 \r\n",
       "L 354.12997 169.768784 \r\n",
       "L 355.349865 169.596006 \r\n",
       "L 356.569759 169.89986 \r\n",
       "L 357.179706 169.57667 \r\n",
       "L 358.3996 169.878685 \r\n",
       "L 359.009548 170.264306 \r\n",
       "L 360.229442 170.092339 \r\n",
       "L 361.449336 170.389019 \r\n",
       "L 362.059283 170.303308 \r\n",
       "L 362.669231 170.683213 \r\n",
       "L 363.279178 170.597254 \r\n",
       "L 363.889125 170.280013 \r\n",
       "L 365.109019 170.110829 \r\n",
       "L 365.718966 170.256982 \r\n",
       "L 366.328914 169.943071 \r\n",
       "L 366.938861 170.088959 \r\n",
       "L 369.988597 169.674889 \r\n",
       "L 370.598544 170.045996 \r\n",
       "L 371.208491 169.963616 \r\n",
       "L 371.818438 169.204934 \r\n",
       "L 373.038332 169.49381 \r\n",
       "L 373.64828 169.861553 \r\n",
       "L 374.258227 169.780349 \r\n",
       "L 375.478121 170.064603 \r\n",
       "L 376.088068 169.983499 \r\n",
       "L 376.088068 169.983499 \r\n",
       "\" style=\"fill:none;stroke:#8c564b;stroke-linecap:square;stroke-width:1.5;\"/>\r\n",
       "   </g>\r\n",
       "   <g id=\"line2d_22\">\r\n",
       "    <path clip-path=\"url(#pb26ea1820f)\" d=\"M 56.50625 166.203006 \r\n",
       "L 391.30625 166.203006 \r\n",
       "\" style=\"fill:none;stroke:#000000;stroke-dasharray:5.55,2.4;stroke-dashoffset:0;stroke-width:1.5;\"/>\r\n",
       "   </g>\r\n",
       "   <g id=\"patch_3\">\r\n",
       "    <path d=\"M 56.50625 251.82 \r\n",
       "L 56.50625 7.2 \r\n",
       "\" style=\"fill:none;stroke:#000000;stroke-linecap:square;stroke-linejoin:miter;stroke-width:0.8;\"/>\r\n",
       "   </g>\r\n",
       "   <g id=\"patch_4\">\r\n",
       "    <path d=\"M 391.30625 251.82 \r\n",
       "L 391.30625 7.2 \r\n",
       "\" style=\"fill:none;stroke:#000000;stroke-linecap:square;stroke-linejoin:miter;stroke-width:0.8;\"/>\r\n",
       "   </g>\r\n",
       "   <g id=\"patch_5\">\r\n",
       "    <path d=\"M 56.50625 251.82 \r\n",
       "L 391.30625 251.82 \r\n",
       "\" style=\"fill:none;stroke:#000000;stroke-linecap:square;stroke-linejoin:miter;stroke-width:0.8;\"/>\r\n",
       "   </g>\r\n",
       "   <g id=\"patch_6\">\r\n",
       "    <path d=\"M 56.50625 7.2 \r\n",
       "L 391.30625 7.2 \r\n",
       "\" style=\"fill:none;stroke:#000000;stroke-linecap:square;stroke-linejoin:miter;stroke-width:0.8;\"/>\r\n",
       "   </g>\r\n",
       "   <g id=\"legend_1\">\r\n",
       "    <g id=\"patch_7\">\r\n",
       "     <path d=\"M 308.451563 103.26875 \r\n",
       "L 384.30625 103.26875 \r\n",
       "Q 386.30625 103.26875 386.30625 101.26875 \r\n",
       "L 386.30625 14.2 \r\n",
       "Q 386.30625 12.2 384.30625 12.2 \r\n",
       "L 308.451563 12.2 \r\n",
       "Q 306.451563 12.2 306.451563 14.2 \r\n",
       "L 306.451563 101.26875 \r\n",
       "Q 306.451563 103.26875 308.451563 103.26875 \r\n",
       "z\r\n",
       "\" style=\"fill:#ffffff;opacity:0.8;stroke:#cccccc;stroke-linejoin:miter;\"/>\r\n",
       "    </g>\r\n",
       "    <g id=\"line2d_23\">\r\n",
       "     <path d=\"M 310.451563 20.298437 \r\n",
       "L 330.451563 20.298437 \r\n",
       "\" style=\"fill:none;stroke:#1f77b4;stroke-linecap:square;stroke-width:1.5;\"/>\r\n",
       "    </g>\r\n",
       "    <g id=\"line2d_24\"/>\r\n",
       "    <g id=\"text_18\">\r\n",
       "     <!-- P(die=1) -->\r\n",
       "     <g transform=\"translate(338.451563 23.798437)scale(0.1 -0.1)\">\r\n",
       "      <defs>\r\n",
       "       <path d=\"M 19.671875 64.796875 \r\n",
       "L 19.671875 37.40625 \r\n",
       "L 32.078125 37.40625 \r\n",
       "Q 38.96875 37.40625 42.71875 40.96875 \r\n",
       "Q 46.484375 44.53125 46.484375 51.125 \r\n",
       "Q 46.484375 57.671875 42.71875 61.234375 \r\n",
       "Q 38.96875 64.796875 32.078125 64.796875 \r\n",
       "z\r\n",
       "M 9.8125 72.90625 \r\n",
       "L 32.078125 72.90625 \r\n",
       "Q 44.34375 72.90625 50.609375 67.359375 \r\n",
       "Q 56.890625 61.8125 56.890625 51.125 \r\n",
       "Q 56.890625 40.328125 50.609375 34.8125 \r\n",
       "Q 44.34375 29.296875 32.078125 29.296875 \r\n",
       "L 19.671875 29.296875 \r\n",
       "L 19.671875 0 \r\n",
       "L 9.8125 0 \r\n",
       "z\r\n",
       "\" id=\"DejaVuSans-80\"/>\r\n",
       "       <path d=\"M 31 75.875 \r\n",
       "Q 24.46875 64.65625 21.28125 53.65625 \r\n",
       "Q 18.109375 42.671875 18.109375 31.390625 \r\n",
       "Q 18.109375 20.125 21.3125 9.0625 \r\n",
       "Q 24.515625 -2 31 -13.1875 \r\n",
       "L 23.1875 -13.1875 \r\n",
       "Q 15.875 -1.703125 12.234375 9.375 \r\n",
       "Q 8.59375 20.453125 8.59375 31.390625 \r\n",
       "Q 8.59375 42.28125 12.203125 53.3125 \r\n",
       "Q 15.828125 64.359375 23.1875 75.875 \r\n",
       "z\r\n",
       "\" id=\"DejaVuSans-40\"/>\r\n",
       "       <path d=\"M 10.59375 45.40625 \r\n",
       "L 73.1875 45.40625 \r\n",
       "L 73.1875 37.203125 \r\n",
       "L 10.59375 37.203125 \r\n",
       "z\r\n",
       "M 10.59375 25.484375 \r\n",
       "L 73.1875 25.484375 \r\n",
       "L 73.1875 17.1875 \r\n",
       "L 10.59375 17.1875 \r\n",
       "z\r\n",
       "\" id=\"DejaVuSans-61\"/>\r\n",
       "       <path d=\"M 8.015625 75.875 \r\n",
       "L 15.828125 75.875 \r\n",
       "Q 23.140625 64.359375 26.78125 53.3125 \r\n",
       "Q 30.421875 42.28125 30.421875 31.390625 \r\n",
       "Q 30.421875 20.453125 26.78125 9.375 \r\n",
       "Q 23.140625 -1.703125 15.828125 -13.1875 \r\n",
       "L 8.015625 -13.1875 \r\n",
       "Q 14.5 -2 17.703125 9.0625 \r\n",
       "Q 20.90625 20.125 20.90625 31.390625 \r\n",
       "Q 20.90625 42.671875 17.703125 53.65625 \r\n",
       "Q 14.5 64.65625 8.015625 75.875 \r\n",
       "z\r\n",
       "\" id=\"DejaVuSans-41\"/>\r\n",
       "      </defs>\r\n",
       "      <use xlink:href=\"#DejaVuSans-80\"/>\r\n",
       "      <use x=\"60.302734\" xlink:href=\"#DejaVuSans-40\"/>\r\n",
       "      <use x=\"99.316406\" xlink:href=\"#DejaVuSans-100\"/>\r\n",
       "      <use x=\"162.792969\" xlink:href=\"#DejaVuSans-105\"/>\r\n",
       "      <use x=\"190.576172\" xlink:href=\"#DejaVuSans-101\"/>\r\n",
       "      <use x=\"252.099609\" xlink:href=\"#DejaVuSans-61\"/>\r\n",
       "      <use x=\"335.888672\" xlink:href=\"#DejaVuSans-49\"/>\r\n",
       "      <use x=\"399.511719\" xlink:href=\"#DejaVuSans-41\"/>\r\n",
       "     </g>\r\n",
       "    </g>\r\n",
       "    <g id=\"line2d_25\">\r\n",
       "     <path d=\"M 310.451563 34.976562 \r\n",
       "L 330.451563 34.976562 \r\n",
       "\" style=\"fill:none;stroke:#ff7f0e;stroke-linecap:square;stroke-width:1.5;\"/>\r\n",
       "    </g>\r\n",
       "    <g id=\"line2d_26\"/>\r\n",
       "    <g id=\"text_19\">\r\n",
       "     <!-- P(die=2) -->\r\n",
       "     <g transform=\"translate(338.451563 38.476562)scale(0.1 -0.1)\">\r\n",
       "      <use xlink:href=\"#DejaVuSans-80\"/>\r\n",
       "      <use x=\"60.302734\" xlink:href=\"#DejaVuSans-40\"/>\r\n",
       "      <use x=\"99.316406\" xlink:href=\"#DejaVuSans-100\"/>\r\n",
       "      <use x=\"162.792969\" xlink:href=\"#DejaVuSans-105\"/>\r\n",
       "      <use x=\"190.576172\" xlink:href=\"#DejaVuSans-101\"/>\r\n",
       "      <use x=\"252.099609\" xlink:href=\"#DejaVuSans-61\"/>\r\n",
       "      <use x=\"335.888672\" xlink:href=\"#DejaVuSans-50\"/>\r\n",
       "      <use x=\"399.511719\" xlink:href=\"#DejaVuSans-41\"/>\r\n",
       "     </g>\r\n",
       "    </g>\r\n",
       "    <g id=\"line2d_27\">\r\n",
       "     <path d=\"M 310.451563 49.654687 \r\n",
       "L 330.451563 49.654687 \r\n",
       "\" style=\"fill:none;stroke:#2ca02c;stroke-linecap:square;stroke-width:1.5;\"/>\r\n",
       "    </g>\r\n",
       "    <g id=\"line2d_28\"/>\r\n",
       "    <g id=\"text_20\">\r\n",
       "     <!-- P(die=3) -->\r\n",
       "     <g transform=\"translate(338.451563 53.154687)scale(0.1 -0.1)\">\r\n",
       "      <use xlink:href=\"#DejaVuSans-80\"/>\r\n",
       "      <use x=\"60.302734\" xlink:href=\"#DejaVuSans-40\"/>\r\n",
       "      <use x=\"99.316406\" xlink:href=\"#DejaVuSans-100\"/>\r\n",
       "      <use x=\"162.792969\" xlink:href=\"#DejaVuSans-105\"/>\r\n",
       "      <use x=\"190.576172\" xlink:href=\"#DejaVuSans-101\"/>\r\n",
       "      <use x=\"252.099609\" xlink:href=\"#DejaVuSans-61\"/>\r\n",
       "      <use x=\"335.888672\" xlink:href=\"#DejaVuSans-51\"/>\r\n",
       "      <use x=\"399.511719\" xlink:href=\"#DejaVuSans-41\"/>\r\n",
       "     </g>\r\n",
       "    </g>\r\n",
       "    <g id=\"line2d_29\">\r\n",
       "     <path d=\"M 310.451563 64.332812 \r\n",
       "L 330.451563 64.332812 \r\n",
       "\" style=\"fill:none;stroke:#d62728;stroke-linecap:square;stroke-width:1.5;\"/>\r\n",
       "    </g>\r\n",
       "    <g id=\"line2d_30\"/>\r\n",
       "    <g id=\"text_21\">\r\n",
       "     <!-- P(die=4) -->\r\n",
       "     <g transform=\"translate(338.451563 67.832812)scale(0.1 -0.1)\">\r\n",
       "      <use xlink:href=\"#DejaVuSans-80\"/>\r\n",
       "      <use x=\"60.302734\" xlink:href=\"#DejaVuSans-40\"/>\r\n",
       "      <use x=\"99.316406\" xlink:href=\"#DejaVuSans-100\"/>\r\n",
       "      <use x=\"162.792969\" xlink:href=\"#DejaVuSans-105\"/>\r\n",
       "      <use x=\"190.576172\" xlink:href=\"#DejaVuSans-101\"/>\r\n",
       "      <use x=\"252.099609\" xlink:href=\"#DejaVuSans-61\"/>\r\n",
       "      <use x=\"335.888672\" xlink:href=\"#DejaVuSans-52\"/>\r\n",
       "      <use x=\"399.511719\" xlink:href=\"#DejaVuSans-41\"/>\r\n",
       "     </g>\r\n",
       "    </g>\r\n",
       "    <g id=\"line2d_31\">\r\n",
       "     <path d=\"M 310.451563 79.010937 \r\n",
       "L 330.451563 79.010937 \r\n",
       "\" style=\"fill:none;stroke:#9467bd;stroke-linecap:square;stroke-width:1.5;\"/>\r\n",
       "    </g>\r\n",
       "    <g id=\"line2d_32\"/>\r\n",
       "    <g id=\"text_22\">\r\n",
       "     <!-- P(die=5) -->\r\n",
       "     <g transform=\"translate(338.451563 82.510937)scale(0.1 -0.1)\">\r\n",
       "      <use xlink:href=\"#DejaVuSans-80\"/>\r\n",
       "      <use x=\"60.302734\" xlink:href=\"#DejaVuSans-40\"/>\r\n",
       "      <use x=\"99.316406\" xlink:href=\"#DejaVuSans-100\"/>\r\n",
       "      <use x=\"162.792969\" xlink:href=\"#DejaVuSans-105\"/>\r\n",
       "      <use x=\"190.576172\" xlink:href=\"#DejaVuSans-101\"/>\r\n",
       "      <use x=\"252.099609\" xlink:href=\"#DejaVuSans-61\"/>\r\n",
       "      <use x=\"335.888672\" xlink:href=\"#DejaVuSans-53\"/>\r\n",
       "      <use x=\"399.511719\" xlink:href=\"#DejaVuSans-41\"/>\r\n",
       "     </g>\r\n",
       "    </g>\r\n",
       "    <g id=\"line2d_33\">\r\n",
       "     <path d=\"M 310.451563 93.689062 \r\n",
       "L 330.451563 93.689062 \r\n",
       "\" style=\"fill:none;stroke:#8c564b;stroke-linecap:square;stroke-width:1.5;\"/>\r\n",
       "    </g>\r\n",
       "    <g id=\"line2d_34\"/>\r\n",
       "    <g id=\"text_23\">\r\n",
       "     <!-- P(die=6) -->\r\n",
       "     <g transform=\"translate(338.451563 97.189062)scale(0.1 -0.1)\">\r\n",
       "      <defs>\r\n",
       "       <path d=\"M 33.015625 40.375 \r\n",
       "Q 26.375 40.375 22.484375 35.828125 \r\n",
       "Q 18.609375 31.296875 18.609375 23.390625 \r\n",
       "Q 18.609375 15.53125 22.484375 10.953125 \r\n",
       "Q 26.375 6.390625 33.015625 6.390625 \r\n",
       "Q 39.65625 6.390625 43.53125 10.953125 \r\n",
       "Q 47.40625 15.53125 47.40625 23.390625 \r\n",
       "Q 47.40625 31.296875 43.53125 35.828125 \r\n",
       "Q 39.65625 40.375 33.015625 40.375 \r\n",
       "z\r\n",
       "M 52.59375 71.296875 \r\n",
       "L 52.59375 62.3125 \r\n",
       "Q 48.875 64.0625 45.09375 64.984375 \r\n",
       "Q 41.3125 65.921875 37.59375 65.921875 \r\n",
       "Q 27.828125 65.921875 22.671875 59.328125 \r\n",
       "Q 17.53125 52.734375 16.796875 39.40625 \r\n",
       "Q 19.671875 43.65625 24.015625 45.921875 \r\n",
       "Q 28.375 48.1875 33.59375 48.1875 \r\n",
       "Q 44.578125 48.1875 50.953125 41.515625 \r\n",
       "Q 57.328125 34.859375 57.328125 23.390625 \r\n",
       "Q 57.328125 12.15625 50.6875 5.359375 \r\n",
       "Q 44.046875 -1.421875 33.015625 -1.421875 \r\n",
       "Q 20.359375 -1.421875 13.671875 8.265625 \r\n",
       "Q 6.984375 17.96875 6.984375 36.375 \r\n",
       "Q 6.984375 53.65625 15.1875 63.9375 \r\n",
       "Q 23.390625 74.21875 37.203125 74.21875 \r\n",
       "Q 40.921875 74.21875 44.703125 73.484375 \r\n",
       "Q 48.484375 72.75 52.59375 71.296875 \r\n",
       "z\r\n",
       "\" id=\"DejaVuSans-54\"/>\r\n",
       "      </defs>\r\n",
       "      <use xlink:href=\"#DejaVuSans-80\"/>\r\n",
       "      <use x=\"60.302734\" xlink:href=\"#DejaVuSans-40\"/>\r\n",
       "      <use x=\"99.316406\" xlink:href=\"#DejaVuSans-100\"/>\r\n",
       "      <use x=\"162.792969\" xlink:href=\"#DejaVuSans-105\"/>\r\n",
       "      <use x=\"190.576172\" xlink:href=\"#DejaVuSans-101\"/>\r\n",
       "      <use x=\"252.099609\" xlink:href=\"#DejaVuSans-61\"/>\r\n",
       "      <use x=\"335.888672\" xlink:href=\"#DejaVuSans-54\"/>\r\n",
       "      <use x=\"399.511719\" xlink:href=\"#DejaVuSans-41\"/>\r\n",
       "     </g>\r\n",
       "    </g>\r\n",
       "   </g>\r\n",
       "  </g>\r\n",
       " </g>\r\n",
       " <defs>\r\n",
       "  <clipPath id=\"pb26ea1820f\">\r\n",
       "   <rect height=\"244.62\" width=\"334.8\" x=\"56.50625\" y=\"7.2\"/>\r\n",
       "  </clipPath>\r\n",
       " </defs>\r\n",
       "</svg>\r\n"
      ],
      "text/plain": [
       "<Figure size 432x324 with 1 Axes>"
      ]
     },
     "metadata": {
      "needs_background": "light"
     },
     "output_type": "display_data"
    }
   ],
   "source": [
    "print(datetime.datetime.now())\n",
    "counts = multinomial.Multinomial(10, fair_probs).sample((500,))\n",
    "cum_counts = counts.cumsum(dim=0)\n",
    "estimates = cum_counts / cum_counts.sum(dim=1, keepdims=True)\n",
    "\n",
    "d2l.set_figsize((6, 4.5))\n",
    "for i in range(6):\n",
    "    d2l.plt.plot(estimates[:, i].numpy(), label=(\"P(die=\" + str(i + 1) + \")\"))\n",
    "d2l.plt.axhline(y=0.167, color='black', linestyle='dashed')\n",
    "d2l.plt.gca().set_xlabel('Groups of experiments')\n",
    "d2l.plt.gca().set_ylabel('Estimated probability')\n",
    "d2l.plt.legend();"
   ]
  },
  {
   "cell_type": "markdown",
   "metadata": {},
   "source": [
    "## Documentation"
   ]
  },
  {
   "cell_type": "code",
   "execution_count": 146,
   "metadata": {},
   "outputs": [
    {
     "name": "stdout",
     "output_type": "stream",
     "text": [
      "2021-09-11 15:57:01.300244\n",
      "['AbsTransform', 'AffineTransform', 'Bernoulli', 'Beta', 'Binomial', 'CatTransform', 'Categorical', 'Cauchy', 'Chi2', 'ComposeTransform', 'ContinuousBernoulli', 'CorrCholeskyTransform', 'Dirichlet', 'Distribution', 'ExpTransform', 'Exponential', 'ExponentialFamily', 'FisherSnedecor', 'Gamma', 'Geometric', 'Gumbel', 'HalfCauchy', 'HalfNormal', 'Independent', 'IndependentTransform', 'Kumaraswamy', 'LKJCholesky', 'Laplace', 'LogNormal', 'LogisticNormal', 'LowRankMultivariateNormal', 'LowerCholeskyTransform', 'MixtureSameFamily', 'Multinomial', 'MultivariateNormal', 'NegativeBinomial', 'Normal', 'OneHotCategorical', 'OneHotCategoricalStraightThrough', 'Pareto', 'Poisson', 'PowerTransform', 'RelaxedBernoulli', 'RelaxedOneHotCategorical', 'ReshapeTransform', 'SigmoidTransform', 'SoftmaxTransform', 'StackTransform', 'StickBreakingTransform', 'StudentT', 'TanhTransform', 'Transform', 'TransformedDistribution', 'Uniform', 'VonMises', 'Weibull', '__all__', '__builtins__', '__cached__', '__doc__', '__file__', '__loader__', '__name__', '__package__', '__path__', '__spec__', 'bernoulli', 'beta', 'biject_to', 'binomial', 'categorical', 'cauchy', 'chi2', 'constraint_registry', 'constraints', 'continuous_bernoulli', 'dirichlet', 'distribution', 'exp_family', 'exponential', 'fishersnedecor', 'gamma', 'geometric', 'gumbel', 'half_cauchy', 'half_normal', 'identity_transform', 'independent', 'kl', 'kl_divergence', 'kumaraswamy', 'laplace', 'lkj_cholesky', 'log_normal', 'logistic_normal', 'lowrank_multivariate_normal', 'mixture_same_family', 'multinomial', 'multivariate_normal', 'negative_binomial', 'normal', 'one_hot_categorical', 'pareto', 'poisson', 'register_kl', 'relaxed_bernoulli', 'relaxed_categorical', 'studentT', 'transform_to', 'transformed_distribution', 'transforms', 'uniform', 'utils', 'von_mises', 'weibull']\n"
     ]
    }
   ],
   "source": [
    "print(datetime.datetime.now())\n",
    "print(dir(torch.distributions))"
   ]
  },
  {
   "cell_type": "code",
   "execution_count": 147,
   "metadata": {},
   "outputs": [
    {
     "name": "stdout",
     "output_type": "stream",
     "text": [
      "2021-09-11 15:58:31.258709\n",
      "Help on built-in function ones:\n",
      "\n",
      "ones(...)\n",
      "    ones(*size, *, out=None, dtype=None, layout=torch.strided, device=None, requires_grad=False) -> Tensor\n",
      "    \n",
      "    Returns a tensor filled with the scalar value `1`, with the shape defined\n",
      "    by the variable argument :attr:`size`.\n",
      "    \n",
      "    Args:\n",
      "        size (int...): a sequence of integers defining the shape of the output tensor.\n",
      "            Can be a variable number of arguments or a collection like a list or tuple.\n",
      "    \n",
      "    Keyword arguments:\n",
      "        out (Tensor, optional): the output tensor.\n",
      "        dtype (:class:`torch.dtype`, optional): the desired data type of returned tensor.\n",
      "            Default: if ``None``, uses a global default (see :func:`torch.set_default_tensor_type`).\n",
      "        layout (:class:`torch.layout`, optional): the desired layout of returned Tensor.\n",
      "            Default: ``torch.strided``.\n",
      "        device (:class:`torch.device`, optional): the desired device of returned tensor.\n",
      "            Default: if ``None``, uses the current device for the default tensor type\n",
      "            (see :func:`torch.set_default_tensor_type`). :attr:`device` will be the CPU\n",
      "            for CPU tensor types and the current CUDA device for CUDA tensor types.\n",
      "        requires_grad (bool, optional): If autograd should record operations on the\n",
      "            returned tensor. Default: ``False``.\n",
      "    \n",
      "    Example::\n",
      "    \n",
      "        >>> torch.ones(2, 3)\n",
      "        tensor([[ 1.,  1.,  1.],\n",
      "                [ 1.,  1.,  1.]])\n",
      "    \n",
      "        >>> torch.ones(5)\n",
      "        tensor([ 1.,  1.,  1.,  1.,  1.])\n",
      "\n"
     ]
    }
   ],
   "source": [
    "print(datetime.datetime.now())\n",
    "help(torch.ones)"
   ]
  },
  {
   "cell_type": "code",
   "execution_count": 148,
   "metadata": {},
   "outputs": [
    {
     "name": "stdout",
     "output_type": "stream",
     "text": [
      "2021-09-11 15:58:52.553837\n"
     ]
    },
    {
     "data": {
      "text/plain": [
       "tensor([1., 1., 1., 1.])"
      ]
     },
     "execution_count": 148,
     "metadata": {},
     "output_type": "execute_result"
    }
   ],
   "source": [
    "print(datetime.datetime.now())\n",
    "torch.ones(4)"
   ]
  },
  {
   "cell_type": "code",
   "execution_count": 149,
   "metadata": {},
   "outputs": [
    {
     "name": "stdout",
     "output_type": "stream",
     "text": [
      "2021-09-11 15:59:19.734371\n"
     ]
    }
   ],
   "source": [
    "print(datetime.datetime.now())"
   ]
  }
 ],
 "metadata": {
  "kernelspec": {
   "display_name": "Python 3",
   "language": "python",
   "name": "python3"
  },
  "language_info": {
   "codemirror_mode": {
    "name": "ipython",
    "version": 3
   },
   "file_extension": ".py",
   "mimetype": "text/x-python",
   "name": "python",
   "nbconvert_exporter": "python",
   "pygments_lexer": "ipython3",
   "version": "3.8.5"
  }
 },
 "nbformat": 4,
 "nbformat_minor": 4
}
